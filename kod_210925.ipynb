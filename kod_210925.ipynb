{
  "cells": [
    {
      "cell_type": "markdown",
      "metadata": {
        "id": "view-in-github",
        "colab_type": "text"
      },
      "source": [
        "<a href=\"https://colab.research.google.com/github/jarekwan/jarwan_projekt/blob/main/kod_210925.ipynb\" target=\"_parent\"><img src=\"https://colab.research.google.com/assets/colab-badge.svg\" alt=\"Open In Colab\"/></a>"
      ]
    },
    {
      "cell_type": "code",
      "execution_count": null,
      "id": "1dc40b8c-90bb-4f36-913d-dd56de19dff4",
      "metadata": {
        "id": "1dc40b8c-90bb-4f36-913d-dd56de19dff4"
      },
      "outputs": [],
      "source": [
        "from groq import Groq\n",
        "\n",
        "client = Groq(\n",
        "    api_key=\"\",\n",
        ")"
      ]
    },
    {
      "cell_type": "code",
      "execution_count": null,
      "id": "df3b0a93-941c-41e6-b11a-3f8d8634b337",
      "metadata": {
        "id": "df3b0a93-941c-41e6-b11a-3f8d8634b337"
      },
      "outputs": [],
      "source": [
        "model=\"moonshotai/kimi-k2-instruct\""
      ]
    },
    {
      "cell_type": "code",
      "execution_count": null,
      "id": "e65d0ac5-9a5e-4b76-9408-5961c92769c3",
      "metadata": {
        "id": "e65d0ac5-9a5e-4b76-9408-5961c92769c3"
      },
      "outputs": [],
      "source": [
        "chat_completion = client.chat.completions.create(\n",
        "    messages=[\n",
        "        {\"role\": \"user\", \"content\": \"Hop, hop! are you there???\"}\n",
        "    ],\n",
        "    model=model\n",
        ")"
      ]
    },
    {
      "cell_type": "code",
      "execution_count": null,
      "id": "b4703400-ed7e-4560-9373-134aa743e099",
      "metadata": {
        "id": "b4703400-ed7e-4560-9373-134aa743e099",
        "outputId": "5270443a-ecdc-4882-8f60-94d2aff9d7ae"
      },
      "outputs": [
        {
          "data": {
            "text/plain": [
              "ChatCompletion(id='chatcmpl-59c7fae1-97f4-4bf9-b2be-d946be177a0b', choices=[Choice(finish_reason='stop', index=0, logprobs=None, message=ChatCompletionMessage(content='Hoppity-hop—yep, I’m here! 🐰  \\nWhat can I hop to for you?', role='assistant', function_call=None, tool_calls=None))], created=1758442578, model='moonshotai/kimi-k2-instruct', object='chat.completion', system_fingerprint='fp_6e6ff3688b', usage=CompletionUsage(completion_tokens=25, prompt_tokens=33, total_tokens=58, completion_time=0.101666911, prompt_time=0.018726805, queue_time=0.035677346, total_time=0.120393716), usage_breakdown=None, x_groq={'id': 'req_01k5nngrk8eem82363frarnycz'}, service_tier='on_demand')"
            ]
          },
          "execution_count": 16,
          "metadata": {},
          "output_type": "execute_result"
        }
      ],
      "source": [
        "chat_completion"
      ]
    },
    {
      "cell_type": "code",
      "execution_count": null,
      "id": "fa61693b-ca54-4d62-852e-7e1a9842aa43",
      "metadata": {
        "id": "fa61693b-ca54-4d62-852e-7e1a9842aa43",
        "outputId": "6dde2231-a976-4447-94c9-9eb967fbce49"
      },
      "outputs": [
        {
          "data": {
            "text/plain": [
              "'Hoppity-hop—yep, I’m here! 🐰  \\nWhat can I hop to for you?'"
            ]
          },
          "execution_count": 21,
          "metadata": {},
          "output_type": "execute_result"
        }
      ],
      "source": [
        "chat_completion.choices[0].message.content"
      ]
    },
    {
      "cell_type": "code",
      "execution_count": null,
      "id": "f365fcb2-ab66-49a9-a082-f1e4c6a1fa98",
      "metadata": {
        "scrolled": true,
        "id": "f365fcb2-ab66-49a9-a082-f1e4c6a1fa98",
        "outputId": "7808f3b7-1851-4c63-cd9f-fce06339f631"
      },
      "outputs": [
        {
          "data": {
            "text/plain": [
              "'Hop hop! Yep, I’m here—wide awake and ready to bounce into whatever you need.'"
            ]
          },
          "execution_count": 56,
          "metadata": {},
          "output_type": "execute_result"
        }
      ],
      "source": [
        "chat_completion = client.chat.completions.create(\n",
        "    messages=[\n",
        "        {\"role\": \"user\", \"content\": \"Hop, hop! are you there???\"}\n",
        "    ],\n",
        "    model=model,\n",
        "    temperature=0\n",
        ")\n",
        "chat_completion.choices[0].message.content"
      ]
    },
    {
      "cell_type": "code",
      "execution_count": null,
      "id": "71dbf64e-bacf-43cf-8c80-d0f2f80cddad",
      "metadata": {
        "id": "71dbf64e-bacf-43cf-8c80-d0f2f80cddad",
        "outputId": "27617f29-d9ca-4c8e-f7cd-d04bdd2855cb"
      },
      "outputs": [
        {
          "name": "stdout",
          "output_type": "stream",
          "text": [
            "Zaklasyfikuj następujący tekst jako pozytywny, negatywny lub neutralny: Krowa je pyszną trawę\n"
          ]
        },
        {
          "data": {
            "text/plain": [
              "'Pozytywny'"
            ]
          },
          "execution_count": 75,
          "metadata": {},
          "output_type": "execute_result"
        }
      ],
      "source": [
        "text = \"Krowa je pyszną trawę\"\n",
        "\n",
        "prompt = \"Zaklasyfikuj następujący tekst jako pozytywny, negatywny lub neutralny: \" + text\n",
        "\n",
        "print(prompt)\n",
        "\n",
        "chat_completion = client.chat.completions.create(\n",
        "    messages=[\n",
        "        {\"role\": \"user\", \"content\": prompt}\n",
        "    ],\n",
        "    model=model,\n",
        "    temperature=1\n",
        ")\n",
        "chat_completion.choices[0].message.content"
      ]
    },
    {
      "cell_type": "code",
      "execution_count": null,
      "id": "7343c980-0c9a-4ea4-868b-1712ee165435",
      "metadata": {
        "id": "7343c980-0c9a-4ea4-868b-1712ee165435",
        "outputId": "60ebb649-c4dd-4642-81de-30f64ca0a6a0"
      },
      "outputs": [
        {
          "name": "stdout",
          "output_type": "stream",
          "text": [
            "Najpierw przeanalizuj tekst po kątem wydźwięku, a potem zaklasyfikuj go jako pozytywny, negatywny lub neutralny: Krowa je pyszną trawę\n",
            "---\n",
            "\n",
            "Wydźwięk: spokojny, obojętny emocjonalnie – opisuje zwyczajną, niczym nie wyróżniającą się sytuację, bez wartkościujących słów typu „super” czy „fatalnie”.\n",
            "\n",
            "Klasyfikacja: neutralny\n"
          ]
        }
      ],
      "source": [
        "text = \"Krowa je pyszną trawę\"\n",
        "\n",
        "prompt = \"Najpierw przeanalizuj tekst po kątem wydźwięku, a potem zaklasyfikuj go jako pozytywny, negatywny lub neutralny: \" + text\n",
        "\n",
        "print(prompt)\n",
        "print(\"---\\n\")\n",
        "\n",
        "chat_completion = client.chat.completions.create(\n",
        "    messages=[\n",
        "        {\"role\": \"user\", \"content\": prompt}\n",
        "    ],\n",
        "    model=model,\n",
        "    temperature=1\n",
        ")\n",
        "print(chat_completion.choices[0].message.content)"
      ]
    },
    {
      "cell_type": "code",
      "execution_count": null,
      "id": "1952fea1-47ef-4257-b5da-e1cbcfe562d6",
      "metadata": {
        "id": "1952fea1-47ef-4257-b5da-e1cbcfe562d6",
        "outputId": "984f9aa5-ceb0-4491-fcb1-0065d45aae09"
      },
      "outputs": [
        {
          "name": "stdout",
          "output_type": "stream",
          "text": [
            "neutralny\n"
          ]
        }
      ],
      "source": [
        "systemt_prompt = \"Zaklasyfikuj tekst, które poda użytkownik jako 'pozytywny', 'negatywny' lub 'neutralny'. Odpowiedz jednym słowem.\"\n",
        "\n",
        "input_text = \"Krowa je pyszną trawę\"\n",
        "\n",
        "chat_completion = client.chat.completions.create(\n",
        "    messages=[\n",
        "        {\"role\": \"system\", \"content\": systemt_prompt},\n",
        "        {\"role\": \"user\", \"content\": input_text}\n",
        "    ],\n",
        "    model=model,\n",
        "    temperature=1\n",
        ")\n",
        "print(chat_completion.choices[0].message.content)"
      ]
    },
    {
      "cell_type": "code",
      "execution_count": null,
      "id": "9a007dcc-1495-4c87-8db4-f4d2aef3c5a3",
      "metadata": {
        "id": "9a007dcc-1495-4c87-8db4-f4d2aef3c5a3",
        "outputId": "d3f38013-e4ac-4de0-9d69-a2c2996afaf9"
      },
      "outputs": [
        {
          "name": "stdout",
          "output_type": "stream",
          "text": [
            "2\n"
          ]
        }
      ],
      "source": [
        "systemt_prompt = \"\"\"\n",
        "    Mamy do przeanalizowania tysiące komentarzy pod katem wydźwięku,\n",
        "    ponieważ chce zbdać jak często ludzie wyrażają się pozytywnie w naszych tekstach.\n",
        "    Dlatego chcę abyś zaklasyfikował tekst, który poda użytkownik jako 'pozytywny' - klasa 2, 'negatywny' - 0 lub 'neutralny' - 1.\n",
        "    Odpowiedz identyfiaktorem klasy.\n",
        "\"\"\"\n",
        "\n",
        "input_text = \"Krowa je pyszną trawę\"\n",
        "\n",
        "chat_completion = client.chat.completions.create(\n",
        "    messages=[\n",
        "        {\"role\": \"system\", \"content\": systemt_prompt},\n",
        "        {\"role\": \"user\", \"content\": input_text}\n",
        "    ],\n",
        "    model=model,\n",
        "    temperature=1\n",
        ")\n",
        "print(chat_completion.choices[0].message.content)"
      ]
    },
    {
      "cell_type": "code",
      "execution_count": null,
      "id": "24fe88f3-3dba-4607-a596-b4e5def9a399",
      "metadata": {
        "id": "24fe88f3-3dba-4607-a596-b4e5def9a399",
        "outputId": "b0a0362c-4baa-40d5-b5b4-72204b5f56a8"
      },
      "outputs": [
        {
          "name": "stdout",
          "output_type": "stream",
          "text": [
            "2\n"
          ]
        }
      ],
      "source": [
        "systemt_prompt = \"\"\"\n",
        "    Mamy do przeanalizowania tysiące komentarzy pod katem wydźwięku,\n",
        "    ponieważ chce zbdać jak często ludzie wyrażają się negatywnie lub neutralnie w naszych tekstach.\n",
        "    Dlatego chcę abyś zaklasyfikował tekst, który poda użytkownik jako 'pozytywny' - klasa 2, 'negatywny' - 0 lub 'neutralny' - 1.\n",
        "    Odpowiedz identyfiaktorem klasy.\n",
        "\"\"\"\n",
        "\n",
        "input_text = \"Krowa je pyszną trawę\"\n",
        "\n",
        "chat_completion = client.chat.completions.create(\n",
        "    messages=[\n",
        "        {\"role\": \"system\", \"content\": systemt_prompt},\n",
        "        {\"role\": \"user\", \"content\": input_text}\n",
        "    ],\n",
        "    model=model,\n",
        "    temperature=1\n",
        ")\n",
        "print(chat_completion.choices[0].message.content)"
      ]
    },
    {
      "cell_type": "code",
      "execution_count": null,
      "id": "422fee8c-1850-47b2-8a63-6974bcc4e604",
      "metadata": {
        "id": "422fee8c-1850-47b2-8a63-6974bcc4e604",
        "outputId": "5766cc95-a40c-47cd-fcde-2a0761f66a0b"
      },
      "outputs": [
        {
          "data": {
            "text/plain": [
              "'Andrzej  \\nJarosław  \\nDonald'"
            ]
          },
          "execution_count": 291,
          "metadata": {},
          "output_type": "execute_result"
        }
      ],
      "source": [
        "system_prompt = \"\"\"\n",
        "    Wypisz wyłącznie imiona osób występujące w tekście po polsku.\n",
        "\n",
        "    Zachowaj polskie znaki i wielkie litery.\n",
        "\"\"\"\n",
        "\n",
        "input_text = \"Andrzej wypił piwo z Jarosławem, a Donald pomachał im z samolotu.\"\n",
        "\n",
        "chat_completion = client.chat.completions.create(\n",
        "    messages=[\n",
        "        {\"role\": \"system\", \"content\": system_prompt},\n",
        "        {\"role\": \"user\", \"content\": input_text}\n",
        "    ],\n",
        "    model=model,\n",
        "    temperature=1\n",
        ")\n",
        "chat_completion.choices[0].message.content"
      ]
    },
    {
      "cell_type": "code",
      "execution_count": null,
      "id": "cf9b2272-04be-4b76-9932-bfb0685b9da0",
      "metadata": {
        "id": "cf9b2272-04be-4b76-9932-bfb0685b9da0",
        "outputId": "1b90272b-dda8-43c0-d4ed-64b1e0f0c827"
      },
      "outputs": [
        {
          "data": {
            "text/plain": [
              "'Osoby występujące w tekście:  \\n- Andrzej  \\n- Jarosław  \\n- Donald  \\n- Jonh'"
            ]
          },
          "execution_count": 330,
          "metadata": {},
          "output_type": "execute_result"
        }
      ],
      "source": [
        "system_prompt = \"\"\"\n",
        "    Wypisz wyłacznie osoby występujące w tekście.\n",
        "\n",
        "\"\"\"\n",
        "\n",
        "input_text = \"Andrzej wypił piwo z jarosławem, a donald i Jonh pomachali im z samolotu.\"\n",
        "input_text = \"Andrzej wypił piwo z jarosławem, a donald i Jonh pomachali im z samolotu.\"\n",
        "\n",
        "chat_completion = client.chat.completions.create(\n",
        "    messages=[\n",
        "        {\"role\": \"system\", \"content\": system_prompt},\n",
        "        {\"role\": \"user\", \"content\": input_text}\n",
        "    ],\n",
        "    model=model,\n",
        "    temperature=1\n",
        ")\n",
        "chat_completion.choices[0].message.content"
      ]
    },
    {
      "cell_type": "code",
      "execution_count": null,
      "id": "dde5f4f9-04ca-4724-9179-a9ed605a95f1",
      "metadata": {
        "id": "dde5f4f9-04ca-4724-9179-a9ed605a95f1"
      },
      "outputs": [],
      "source": []
    },
    {
      "cell_type": "code",
      "execution_count": null,
      "id": "959f4825-143b-4923-9bc7-65ba371db167",
      "metadata": {
        "id": "959f4825-143b-4923-9bc7-65ba371db167"
      },
      "outputs": [],
      "source": [
        "[Andrzej, Donald, Donald, John, ...]"
      ]
    },
    {
      "cell_type": "code",
      "execution_count": null,
      "id": "c7c3f140-a9cb-4dd8-a642-e15b4b704635",
      "metadata": {
        "id": "c7c3f140-a9cb-4dd8-a642-e15b4b704635"
      },
      "outputs": [],
      "source": [
        "teksty = [\n",
        "    \"Andrzej wypił piwo z jarosławem\",\n",
        "    \"Andrzej, donald i Jonh pomachali im z samolotu.\"\n",
        "]\n",
        "\n",
        "\n",
        "chcemy otrzyamć:\n",
        "\n",
        "[Andrzej, Jarosław, Andrzej, Donald, John]"
      ]
    },
    {
      "cell_type": "code",
      "execution_count": null,
      "id": "19bd7124-6e0b-4d04-966f-f9fefe0acc5b",
      "metadata": {
        "id": "19bd7124-6e0b-4d04-966f-f9fefe0acc5b"
      },
      "outputs": [],
      "source": [
        "teksty = [\n",
        "    \"Andrzej wypił piwo z jarosławem\",\n",
        "    \"Andrzej, donald i Jonh pomachali im z samolotu.\"\n",
        "]"
      ]
    },
    {
      "cell_type": "code",
      "execution_count": null,
      "id": "ffa1cdf2-661f-4be9-a3bf-1ef51d51be73",
      "metadata": {
        "id": "ffa1cdf2-661f-4be9-a3bf-1ef51d51be73",
        "outputId": "dd68b609-7795-496e-983e-ea25378fe9a8"
      },
      "outputs": [
        {
          "data": {
            "text/plain": [
              "\"['Andrzej wypił piwo z jarosławem', 'Andrzej, donald i Jonh pomachali im z samolotu.']\""
            ]
          },
          "execution_count": 333,
          "metadata": {},
          "output_type": "execute_result"
        }
      ],
      "source": [
        "system_prompt = \"\"\"\n",
        "    Wypisz wyłącznie imiona osób występujące w tekście po polsku.\n",
        "    Zwróć imiona w mianowniku.\n",
        "    Zachowaj kolejność wystąpień w tekście.\n",
        "    Nie usuwaj duplikatów.\n",
        "    Zapisz to do listy pythona.\n",
        "    Nie używaj żadnych znaczników Markdown ani bloków kodu (żadnych ```)\n",
        "\"\"\"\n",
        "input_text = str(teksty)\n",
        "input_text"
      ]
    },
    {
      "cell_type": "code",
      "execution_count": null,
      "id": "5e8a3574-5b97-4b4a-a92e-1fd5c6c711e7",
      "metadata": {
        "id": "5e8a3574-5b97-4b4a-a92e-1fd5c6c711e7",
        "outputId": "d3260bba-23a0-4ce8-ce74-ed955bd5afee"
      },
      "outputs": [
        {
          "data": {
            "text/plain": [
              "'[\"Andrzej\", \"Jarosław\", \"Andrzej\", \"Donald\"]'"
            ]
          },
          "execution_count": 334,
          "metadata": {},
          "output_type": "execute_result"
        }
      ],
      "source": [
        "chat_completion = client.chat.completions.create(\n",
        "    messages=[\n",
        "        {\"role\": \"system\", \"content\": system_prompt},\n",
        "        {\"role\": \"user\", \"content\": input_text}\n",
        "    ],\n",
        "    model=model,\n",
        "    temperature=1\n",
        ")\n",
        "chat_completion.choices[0].message.content"
      ]
    },
    {
      "cell_type": "code",
      "execution_count": null,
      "id": "223d8242-739c-4983-8d16-52a7dc701a9d",
      "metadata": {
        "id": "223d8242-739c-4983-8d16-52a7dc701a9d",
        "outputId": "9d14ddbf-5802-405f-e2de-b8a3cc4b7ecd"
      },
      "outputs": [
        {
          "data": {
            "text/plain": [
              "['Andrzej', 'Jarosław', 'Andrzej', 'Donald', 'Jonh']"
            ]
          },
          "execution_count": 348,
          "metadata": {},
          "output_type": "execute_result"
        }
      ],
      "source": [
        "system_prompt = \"\"\"\n",
        "    Wypisz wyłacznie osoby występujące w tekście.\n",
        "    Wypissz imiona po przecinku. Niedodawaj żadncyh komentarzy.\n",
        "\"\"\"\n",
        "\n",
        "texts = [\n",
        "    \"Andrzej wypił piwo z jarosławem\",\n",
        "    \"Andrzej, donald i Jonh pomachali im z samolotu.\"\n",
        "]\n",
        "\n",
        "names = []\n",
        "for input_text in texts:\n",
        "    chat_completion = client.chat.completions.create(\n",
        "        messages=[\n",
        "            {\"role\": \"system\", \"content\": system_prompt},\n",
        "            {\"role\": \"user\", \"content\": input_text}\n",
        "        ],\n",
        "        model=model,\n",
        "        temperature=1\n",
        "    )\n",
        "    names.extend(chat_completion.choices[0].message.content.split(\", \"))\n",
        "\n",
        "names"
      ]
    },
    {
      "cell_type": "code",
      "execution_count": null,
      "id": "93ab5152-6120-4bf8-8985-dccff3a44243",
      "metadata": {
        "id": "93ab5152-6120-4bf8-8985-dccff3a44243",
        "outputId": "849e3791-0160-477c-9887-36ee1883f270"
      },
      "outputs": [
        {
          "data": {
            "text/plain": [
              "['andrzej;Donald']"
            ]
          },
          "execution_count": 349,
          "metadata": {},
          "output_type": "execute_result"
        }
      ],
      "source": [
        "\"andrzej;Donald\".split(\", \")"
      ]
    },
    {
      "cell_type": "code",
      "execution_count": null,
      "id": "223953d7-8c2b-4b17-b22b-4ca7c5597ae2",
      "metadata": {
        "id": "223953d7-8c2b-4b17-b22b-4ca7c5597ae2"
      },
      "outputs": [],
      "source": [
        "input_text = \"Telefon Samsung Galaxy S22 to urządzenie, które zaskakuje swoją wszechstronnością. Po pierwsze, jego wyświetlacz AMOLED o rozdzielczości 1440x3200 pikseli oferuje obraz o niezwykłej jakości, co sprawia, że korzystanie z niego jest prawdziwą przyjemnością. Co więcej, aparat fotograficzny z trzema obiektywami i możliwością nagrywania wideo w 8K sprawia, że telefon jest idealnym towarzyszem dla każdego, kto lubi robić zdjęcia i filmy. Jednocześnie, bateria o pojemności 4500 mAh zapewnia długi czas pracy na jednym ładowaniu, co jest szczególnie ważne dla osób, które są ciągle w ruchu. Niestety, cena tego urządzenia jest dość wysoka, co może stanowić barierę dla niektórych kupujących. Mimo to, uważam, że Samsung Galaxy S22 jest wart swojej ceny, ponieważ oferuje wiele funkcji i możliwości, które sprawiają, że jest to jeden z najlepszych telefonów na rynku.\""
      ]
    },
    {
      "cell_type": "code",
      "execution_count": null,
      "id": "69ce587c-6bc0-4905-a3c1-a82e3ddb2656",
      "metadata": {
        "id": "69ce587c-6bc0-4905-a3c1-a82e3ddb2656"
      },
      "outputs": [],
      "source": [
        "system_prompt = \"\"\"\n",
        "    Sprawdzam rynek smartfonów, chcę wyłapać zalety i wady każdego z nich.\n",
        "    Proszę na podstawie opinii w tekście zrobić podsumowanie z kategoryzacją.\n",
        "    Zdefiniuj kategorię takie jak bateria, ekran.\n",
        "    Zwróć wynik w postaci json.\n",
        "\"\"\""
      ]
    },
    {
      "cell_type": "code",
      "execution_count": null,
      "id": "160de39b-c2cd-45e0-8230-ca640d717c8c",
      "metadata": {
        "scrolled": true,
        "id": "160de39b-c2cd-45e0-8230-ca640d717c8c",
        "outputId": "44cd4c21-245f-4b9c-8f93-f380781009fe"
      },
      "outputs": [
        {
          "data": {
            "text/plain": [
              "{'Samsung Galaxy S22': {'ekran': {'zalety': ['wysoka rozdzielczość (1440x3200)',\n",
              "    'technologia AMOLED',\n",
              "    'obraz o niezwykłej jakości'],\n",
              "   'wady': []},\n",
              "  'aparat': {'zalety': ['trzy obiektywy',\n",
              "    'nagrywanie wideo w 8K',\n",
              "    'wysoka jakość zdjęć i filmów'],\n",
              "   'wady': []},\n",
              "  'bateria': {'zalety': ['pojemność 4500 mAh',\n",
              "    'długi czas pracy na jednym ładowaniu'],\n",
              "   'wady': []},\n",
              "  'cena': {'zalety': [], 'wady': ['dość wysoka cena']},\n",
              "  'ogólne': {'zalety': ['wszechstronność',\n",
              "    'funkcjonalność',\n",
              "    'pozycja jednego z najlepszych telefonów na rynku'],\n",
              "   'wady': []}}}"
            ]
          },
          "execution_count": 359,
          "metadata": {},
          "output_type": "execute_result"
        }
      ],
      "source": [
        "chat_completion = client.chat.completions.create(\n",
        "    messages=[\n",
        "        {\"role\": \"system\", \"content\": system_prompt},\n",
        "        {\"role\": \"user\", \"content\": input_text}\n",
        "    ],\n",
        "    model=model,\n",
        "    temperature=1\n",
        ")\n",
        "\n",
        "import json\n",
        "json.loads(chat_completion.choices[0].message.content[8:-4])"
      ]
    },
    {
      "cell_type": "code",
      "execution_count": null,
      "id": "3c182a06-d30c-4797-aa1c-d00de3350244",
      "metadata": {
        "id": "3c182a06-d30c-4797-aa1c-d00de3350244"
      },
      "outputs": [],
      "source": [
        "from pprint import pprint"
      ]
    },
    {
      "cell_type": "code",
      "execution_count": null,
      "id": "b61929a5-d76d-4713-90b2-57c421ae1506",
      "metadata": {
        "id": "b61929a5-d76d-4713-90b2-57c421ae1506",
        "outputId": "f674c2e7-78f7-4d48-a05b-690d2e9c75d2"
      },
      "outputs": [
        {
          "name": "stdout",
          "output_type": "stream",
          "text": [
            "{'Samsung Galaxy S22': {'cechy_negatywne': {'wysoka_cena': 2},\n",
            "                        'cechy_pozytywne': {'aparat_trzy_obiektywy': 1,\n",
            "                                            'bateria_4500_mah': 2,\n",
            "                                            'nagrywanie_8k': 1,\n",
            "                                            'rozdzielczosc_1440x3200': 1,\n",
            "                                            'wyswietlacz_amoled': 1}}}\n"
          ]
        }
      ],
      "source": [
        "system_prompt = \"\"\"\n",
        "    Dokonaj analizy komentarza, w której wyodrębnione zostają pozytywne i negatywne cechy.\n",
        "    Przyjmij skalę dla cech pozytywnych i negatywnych od 1-3 (gdzie 1 = najwyższa ocena).\n",
        "    Dane mają być zwrócone w formacie JSON, w którym kluczem głównym jest nazwa telefonu\n",
        "\"\"\"\n",
        "\n",
        "chat_completion = client.chat.completions.create(\n",
        "    messages=[\n",
        "        {\"role\": \"system\", \"content\": system_prompt},\n",
        "        {\"role\": \"user\", \"content\": input_text}\n",
        "    ],\n",
        "    model=model,\n",
        "    temperature=0\n",
        ")\n",
        "\n",
        "pprint(json.loads(chat_completion.choices[0].message.content[8:-4]))"
      ]
    },
    {
      "cell_type": "code",
      "execution_count": null,
      "id": "df56d4ce-5514-4e1d-af21-e72b5f2f5905",
      "metadata": {
        "id": "df56d4ce-5514-4e1d-af21-e72b5f2f5905",
        "outputId": "f24feb72-f13b-4b41-89db-cc69d8e00506"
      },
      "outputs": [
        {
          "name": "stdout",
          "output_type": "stream",
          "text": [
            "('{\\n'\n",
            " '    \"Ekran\": {\\n'\n",
            " '        \"zalety\": [\"jakość_wysoka\"],\\n'\n",
            " '        \"wady\": []\\n'\n",
            " '    },\\n'\n",
            " '    \"Aparat\": {\\n'\n",
            " '        \"zalety\": [\"wideo_8k\"],\\n'\n",
            " '        \"wady\": []\\n'\n",
            " '    },\\n'\n",
            " '    \"Bateria\": {\\n'\n",
            " '        \"zalety\": [\"czas_długi\"],\\n'\n",
            " '        \"wady\": []\\n'\n",
            " '    },\\n'\n",
            " '    \"Cena\": {\\n'\n",
            " '        \"zalety\": [\"opłacalny\"],\\n'\n",
            " '        \"wady\": [\"cena_wysoka\"]\\n'\n",
            " '    }\\n'\n",
            " '}')\n"
          ]
        }
      ],
      "source": [
        "system_prompt = '''\n",
        "    Analizujesz opinie o smartfonach w języku polskim.\n",
        "    Zadanie:\n",
        "    1. Podziel tekst na pojedyncze oceny dotyczące cech telefonu.\n",
        "    2. Każdą ocenę przypisz do jednej z kategorii: Bateria, Ekran, Aparat, Wydajność, Oprogramowanie, Jakość wykonania, Design, Cena, Łączność, Audio, Inne.\n",
        "    3. Zamiast pełnych opisów używaj wyłącznie tagów z podanego słownika.\n",
        "    4. Możesz przypisać kilka tagów do jednej kategorii, ale tylko gdy wynikają one z tekstu.\n",
        "    5. Zwróć wynik w postaci obiektu JSON przykład:\n",
        "    {\n",
        "        \"Ekran\":\n",
        "        {\n",
        "            \"zalety\": [\"jakość_wysoka\", \"kolory_dobre\"],\n",
        "            \"wady\": []\n",
        "        }\n",
        "    }\n",
        "\n",
        "    Zawsze zwróć oba pola: \"zalety\" i \"wady\" (mogą być puste).\n",
        "    Nie dodawaj nic poza JSON-em.\n",
        "\n",
        "    Kategorie i słownik tagów:\n",
        "\n",
        "    Bateria: czas_długi, czas_krótki, ładowanie_szybkie, ładowanie_wolne, pojemność_duża, pojemność_mała, problemy_przegrzewanie\n",
        "    Ekran: jakość_wysoka, jakość_niska, jasność_wysoka, jasność_niska, kolory_dobre, kolory_słabe\n",
        "    Aparat: zdjęcia_dobre, zdjęcia_słabe, wideo_8k, stabilizacja_dobra, stabilizacja_słaba, zoom_dobry, zoom_słaby, noc_dobre, noc_słabe\n",
        "    Jakość wykonania: solidny, nietrwały, wytrzymały, podatny_na_uszkodzenia\n",
        "    Cena: cena_wysoka, cena_rozsądna, cena_niska, opłacalny, nieopłacalny\n",
        "'''\n",
        "\n",
        "chat_completion = client.chat.completions.create(\n",
        "    messages=[\n",
        "        {\"role\": \"system\", \"content\": system_prompt},\n",
        "        {\"role\": \"user\", \"content\": input_text}\n",
        "    ],\n",
        "    model=model,\n",
        "    temperature=0\n",
        ")\n",
        "\n",
        "pprint(chat_completion.choices[0].message.content[8:-4])"
      ]
    },
    {
      "cell_type": "code",
      "execution_count": null,
      "id": "bf70345e-e869-4fe1-8e44-d4a4bdda6ba0",
      "metadata": {
        "id": "bf70345e-e869-4fe1-8e44-d4a4bdda6ba0",
        "outputId": "26bab9eb-0466-426f-b296-8fcbd086a531"
      },
      "outputs": [
        {
          "data": {
            "text/plain": [
              "'Telefon Samsung Galaxy S22 to urządzenie, które zaskakuje swoją wszechstronnością. Po pierwsze, jego wyświetlacz AMOLED o rozdzielczości 1440x3200 pikseli oferuje obraz o niezwykłej jakości, co sprawia, że korzystanie z niego jest prawdziwą przyjemnością. Co więcej, aparat fotograficzny z trzema obiektywami i możliwością nagrywania wideo w 8K sprawia, że telefon jest idealnym towarzyszem dla każdego, kto lubi robić zdjęcia i filmy. Jednocześnie, bateria o pojemności 4500 mAh zapewnia długi czas pracy na jednym ładowaniu, co jest szczególnie ważne dla osób, które są ciągle w ruchu. Niestety, cena tego urządzenia jest dość wysoka, co może stanowić barierę dla niektórych kupujących. Mimo to, uważam, że Samsung Galaxy S22 jest wart swojej ceny, ponieważ oferuje wiele funkcji i możliwości, które sprawiają, że jest to jeden z najlepszych telefonów na rynku.'"
            ]
          },
          "execution_count": 371,
          "metadata": {},
          "output_type": "execute_result"
        }
      ],
      "source": [
        "input_text"
      ]
    },
    {
      "cell_type": "code",
      "execution_count": null,
      "id": "064e0f5c-0c3c-48ed-bf30-e5b613aeef3e",
      "metadata": {
        "id": "064e0f5c-0c3c-48ed-bf30-e5b613aeef3e",
        "outputId": "e33224f0-76fa-4700-d2e4-c7fb1475190d"
      },
      "outputs": [
        {
          "name": "stdout",
          "output_type": "stream",
          "text": [
            "('{\\n'\n",
            " '  \"wyświetlacz\": \"pozytywnie\",\\n'\n",
            " '  \"aparat\": \"pozytywnie\",\\n'\n",
            " '  \"bateria\": \"pozytywnie\",\\n'\n",
            " '  \"cena\": \"negatywnie\"\\n'\n",
            " '}')\n"
          ]
        }
      ],
      "source": [
        "system_prompt = \"\"\"\n",
        "    Przeprowadź analizę opini, podając jaki aspekt jak jest oceniany - negatywnie czy pozytywnie.\n",
        "    Zwróć wyniki w formacie json {aspek1: ocena, aspekt2: ocena, ..}.\n",
        "\"\"\"\n",
        "\n",
        "chat_completion = client.chat.completions.create(\n",
        "    messages=[\n",
        "        {\"role\": \"system\", \"content\": system_prompt},\n",
        "        {\"role\": \"user\", \"content\": input_text}\n",
        "    ],\n",
        "    model=model,\n",
        "    temperature=0\n",
        ")\n",
        "\n",
        "pprint(chat_completion.choices[0].message.content[8:-4])"
      ]
    },
    {
      "cell_type": "code",
      "execution_count": null,
      "id": "bef7a2c2-189e-473e-bde9-daf97aabf69a",
      "metadata": {
        "id": "bef7a2c2-189e-473e-bde9-daf97aabf69a",
        "outputId": "48904f3d-73db-4041-b886-318972fcfb48"
      },
      "outputs": [
        {
          "name": "stdout",
          "output_type": "stream",
          "text": [
            "{\n",
            "  \"steps\": [\n",
            "    {\n",
            "      \"explanation\": \"Isolate the variable term by subtracting 7 from both sides.\",\n",
            "      \"output\": \"8x = -23 - 7 \\u2192 8x = -30\"\n",
            "    },\n",
            "    {\n",
            "      \"explanation\": \"Divide both sides by 8 to solve for x.\",\n",
            "      \"output\": \"x = -30 \\u00f7 8 \\u2192 x = -15/4\"\n",
            "    }\n",
            "  ],\n",
            "  \"final_answer\": \"x = -15/4\"\n",
            "}\n"
          ]
        }
      ],
      "source": [
        "response = client.chat.completions.create(\n",
        "    model=\"moonshotai/kimi-k2-instruct-0905\",\n",
        "    messages=[\n",
        "        {\"role\": \"system\", \"content\": \"You are a helpful math tutor. Guide the user through the solution step by step.\"},\n",
        "        {\"role\": \"user\", \"content\": \"how can I solve 8x + 7 = -23\"}\n",
        "    ],\n",
        "    response_format={\n",
        "        \"type\": \"json_schema\",\n",
        "        \"json_schema\": {\n",
        "            \"name\": \"math_response\",\n",
        "            \"schema\": {\n",
        "                \"type\": \"object\",\n",
        "                \"properties\": {\n",
        "                    \"steps\": {\n",
        "                        \"type\": \"array\",\n",
        "                        \"items\": {\n",
        "                            \"type\": \"object\",\n",
        "                            \"properties\": {\n",
        "                                \"explanation\": {\"type\": \"string\"},\n",
        "                                \"output\": {\"type\": \"string\"}\n",
        "                            },\n",
        "                            \"required\": [\"explanation\", \"output\"],\n",
        "                            \"additionalProperties\": False\n",
        "                        }\n",
        "                    },\n",
        "                    \"final_answer\": {\"type\": \"string\"}\n",
        "                },\n",
        "                \"required\": [\"steps\", \"final_answer\"],\n",
        "                \"additionalProperties\": False\n",
        "            }\n",
        "        }\n",
        "    }\n",
        ")\n",
        "\n",
        "result = json.loads(response.choices[0].message.content)\n",
        "print(json.dumps(result, indent=2))"
      ]
    },
    {
      "cell_type": "code",
      "execution_count": null,
      "id": "7c099c59-7e50-46e1-9c5d-f4540e2dd04d",
      "metadata": {
        "id": "7c099c59-7e50-46e1-9c5d-f4540e2dd04d",
        "outputId": "b16bfe61-da5e-4564-b61f-a534f64bbd38"
      },
      "outputs": [
        {
          "name": "stdout",
          "output_type": "stream",
          "text": [
            "{\n",
            "  \"rozumowanie\": \"Opinia zawiera wyraźne stwierdzenia pozytywne: wysokiej jakości wyświetlacz AMOLED, zaawansowany aparat z trzema obiektywami i nagrywaniem 8K, długi czas pracy baterii. Jedynym negatywnym aspektem wskazanym w tekście jest wysoka cena, choć autor uznaje, że urządzenie jest warte swojej ceny. Brak jest krytyki wydajności, oprogramowania, jakości wykonania czy innych cech. Ogólny ton jest entuzjastyczny, a wady relatywnie łagodne i zrównoważone zaletami.\",\n",
            "  \"wyświetlacz\": \"pozytywnie\",\n",
            "  \"aparat\": \"pozytywnie\",\n",
            "  \"bateria\": \"pozytywnie\",\n",
            "  \"cena\": \"negatywnie\"\n",
            "}\n"
          ]
        }
      ],
      "source": [
        "system_prompt = \"\"\"\n",
        "    Przeprowadź analizę opini, podając jaki aspekt jak jest oceniany - negatywnie czy pozytywnie.\n",
        "    W pierwszym rozpisz analizę tektstu i zarzyj ją w osobnym kluczu jsona wynikowego a w kolejnych oceny apsektów.\n",
        "    Zwróć wyniki w formacie json {rozumowanie: rozpisana_analiza, aspek1: ocena, aspekt2: ocena, ..}.\n",
        "\"\"\"\n",
        "\n",
        "chat_completion = client.chat.completions.create(\n",
        "    messages=[\n",
        "        {\"role\": \"system\", \"content\": system_prompt},\n",
        "        {\"role\": \"user\", \"content\": input_text}\n",
        "    ],\n",
        "    model=model,\n",
        "    temperature=0,\n",
        "    response_format={\"type\": \"json_object\"}\n",
        ")\n",
        "\n",
        "print(chat_completion.choices[0].message.content)"
      ]
    },
    {
      "cell_type": "code",
      "execution_count": null,
      "id": "0e29e0ad-59fe-4ffd-96fb-467b34089618",
      "metadata": {
        "id": "0e29e0ad-59fe-4ffd-96fb-467b34089618",
        "outputId": "1d29db0c-54cf-4653-fd62-10c941aaca9c"
      },
      "outputs": [
        {
          "data": {
            "text/plain": [
              "{'wyświetlacz': 'pozytywnie',\n",
              " 'aparat': 'pozytywnie',\n",
              " 'bateria': 'pozytywnie',\n",
              " 'cena': 'negatywnie'}"
            ]
          },
          "execution_count": 387,
          "metadata": {},
          "output_type": "execute_result"
        }
      ],
      "source": [
        "{k:v for k, v in json.loads(chat_completion.choices[0].message.content).items() if k != \"rozumowanie\"}"
      ]
    },
    {
      "cell_type": "code",
      "execution_count": null,
      "id": "e80cbc04-e394-4446-807c-9a11aecf42db",
      "metadata": {
        "scrolled": true,
        "id": "e80cbc04-e394-4446-807c-9a11aecf42db",
        "outputId": "3021be9e-5887-4a35-b465-dfb2ba28da45"
      },
      "outputs": [
        {
          "data": {
            "text/plain": [
              "{'Aniela': 'Zawsze nosi w kieszeni ziarnka słonecznika, które podrzuca wiatrowi, gdy czuje, że ktoś potrzebuje promyka.',\n",
              " 'Borys': 'Wiecznie spóźniony, bo zatrzymuje się, by wysłuchać historii każdego ławkowego bezdomnego kota.',\n",
              " 'Celina': 'Zapisała własne marzenia na papierze ryżowym, żeby rosły razem z nią, gdy wypuszcza je w strumień.',\n",
              " 'Dawid': 'Budzi o świcie, by szeptać do roślin w sąsiedztwie – twierdzi, że dzięki temu pomidory smakują jak wspomnienia lata.',\n",
              " 'Ela': 'Zbiera pęknięte talerze i skleja je złotym lakierem, twierdząc, że pęknięcia to mapy do cudzych serc.',\n",
              " 'Filip': 'Każdej nocy układa gwiazdy w nowe konstelacje, by nikt nie musiał patrzeć dwa razy na ten sam ból.',\n",
              " 'Gaja': 'Rozmawia z windą, bo wie, że czasem nawet metal potrzebuje, by ktoś zapytał „Jak się masz?”.'}"
            ]
          },
          "execution_count": 392,
          "metadata": {},
          "output_type": "execute_result"
        }
      ],
      "source": [
        "chat_completion = client.chat.completions.create(\n",
        "    messages=[\n",
        "        {\"role\": \"user\", \"content\": \"Wygenruj json, gdzie kluczami będą imiona, a wartościami krótkie wymyłśone opisy osób.\"}\n",
        "    ],\n",
        "    model=model,\n",
        "    temperature=0,\n",
        "    response_format={\"type\": \"json_object\"}\n",
        ")\n",
        "\n",
        "json.loads(chat_completion.choices[0].message.content)"
      ]
    },
    {
      "cell_type": "code",
      "execution_count": null,
      "id": "58ee3699-c974-47db-ac2c-385e43beb5ad",
      "metadata": {
        "id": "58ee3699-c974-47db-ac2c-385e43beb5ad"
      },
      "outputs": [],
      "source": [
        "database = {\n",
        " 'Aniela': 'Zawsze nosi w kieszeni ziarnka słonecznika, które podrzuca wiatrowi, gdy czuje, że ktoś potrzebuje promyka.',\n",
        " 'Borys': 'Wiecznie spóźniony, bo zatrzymuje się, by wysłuchać historii każdego ławkowego bezdomnego kota.',\n",
        " 'Celina': 'Zapisała własne marzenia na papierze ryżowym, żeby rosły razem z nią, gdy wypuszcza je w strumień.',\n",
        " 'Dawid': 'Budzi o świcie, by szeptać do roślin w sąsiedztwie – twierdzi, że dzięki temu pomidory smakują jak wspomnienia lata.',\n",
        " 'Ela': 'Zbiera pęknięte talerze i skleja je złotym lakierem, twierdząc, że pęknięcia to mapy do cudzych serc.',\n",
        " 'Filip': 'Każdej nocy układa gwiazdy w nowe konstelacje, by nikt nie musiał patrzeć dwa razy na ten sam ból.',\n",
        " 'Gaja': 'Rozmawia z windą, bo wie, że czasem nawet metal potrzebuje, by ktoś zapytał „Jak się masz?”.'\n",
        "}"
      ]
    },
    {
      "cell_type": "code",
      "execution_count": null,
      "id": "6da9a547-a47c-4973-af4f-b47e1017c42f",
      "metadata": {
        "id": "6da9a547-a47c-4973-af4f-b47e1017c42f",
        "outputId": "62e97b87-bb12-4de4-fcd7-5478cfa0f88d"
      },
      "outputs": [
        {
          "name": "stdout",
          "output_type": "stream",
          "text": [
            "Księżyc waży około **7,35 × 10²² kilogramów**, czyli **73 500 000 000 000 000 000 000 kg**.\n"
          ]
        }
      ],
      "source": [
        "question = \"ile waży księżyc?\"\n",
        "\n",
        "system_prompt = \"\"\"\n",
        "    Wydobądź osobę wspomnianą w tekście, który zostanie podany.\n",
        "    Zwróć tylko i wyłącznie nazwę tej osoby.\n",
        "    Jeśli w tekście nie ma odniesiania do żadnej osby, to zwróc pusty napis.\n",
        "\"\"\"\n",
        "\n",
        "chat_completion = client.chat.completions.create(\n",
        "    messages=[\n",
        "        {\"role\": \"system\", \"content\": system_prompt},\n",
        "        {\"role\": \"user\", \"content\": question}\n",
        "    ],\n",
        "    model=model,\n",
        "    temperature=0\n",
        ")\n",
        "person = chat_completion.choices[0].message.content\n",
        "\n",
        "if person:\n",
        "    if person in database:\n",
        "\n",
        "        prompt = f\"\"\"\n",
        "            Oto informacje źródłowe:\n",
        "\n",
        "            ```\n",
        "            {database[person]}\n",
        "            ```\n",
        "\n",
        "            Na ich podstawie odpowiedz na pytanie:\n",
        "\n",
        "            {question}\n",
        "        \"\"\"\n",
        "\n",
        "        print(prompt)\n",
        "\n",
        "        chat_completion = client.chat.completions.create(\n",
        "            messages=[\n",
        "                {\"role\": \"user\", \"content\": prompt}\n",
        "            ],\n",
        "            model=model,\n",
        "            temperature=0\n",
        "        )\n",
        "\n",
        "        print(chat_completion.choices[0].message.content)\n",
        "\n",
        "    else:\n",
        "        print(\"Sory, nie mam w bazie tej osoby:(\")\n",
        "else:\n",
        "    chat_completion = client.chat.completions.create(\n",
        "        messages=[\n",
        "            {\"role\": \"user\", \"content\": question}\n",
        "        ],\n",
        "        model=model,\n",
        "        temperature=0\n",
        "    )\n",
        "    print(chat_completion.choices[0].message.content)"
      ]
    },
    {
      "cell_type": "code",
      "execution_count": null,
      "id": "56812711-8ce5-4bb6-9c18-7fce14f18900",
      "metadata": {
        "id": "56812711-8ce5-4bb6-9c18-7fce14f18900"
      },
      "outputs": [],
      "source": []
    }
  ],
  "metadata": {
    "kernelspec": {
      "display_name": "nlp",
      "language": "python",
      "name": "nlp"
    },
    "language_info": {
      "codemirror_mode": {
        "name": "ipython",
        "version": 3
      },
      "file_extension": ".py",
      "mimetype": "text/x-python",
      "name": "python",
      "nbconvert_exporter": "python",
      "pygments_lexer": "ipython3",
      "version": "3.11.6"
    },
    "colab": {
      "provenance": [],
      "include_colab_link": true
    }
  },
  "nbformat": 4,
  "nbformat_minor": 5
}