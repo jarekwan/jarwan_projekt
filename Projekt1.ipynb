{
  "nbformat": 4,
  "nbformat_minor": 0,
  "metadata": {
    "colab": {
      "provenance": [],
      "authorship_tag": "ABX9TyNiWH1d1Rwla3n89c6p9jSH",
      "include_colab_link": true
    },
    "kernelspec": {
      "name": "python3",
      "display_name": "Python 3"
    },
    "language_info": {
      "name": "python"
    }
  },
  "cells": [
    {
      "cell_type": "markdown",
      "metadata": {
        "id": "view-in-github",
        "colab_type": "text"
      },
      "source": [
        "<a href=\"https://colab.research.google.com/github/jarekwan/jarwan_projekt/blob/main/Projekt1.ipynb\" target=\"_parent\"><img src=\"https://colab.research.google.com/assets/colab-badge.svg\" alt=\"Open In Colab\"/></a>"
      ]
    },
    {
      "cell_type": "markdown",
      "source": [
        "BIBLIOTEKI I POBRANIE JSON Z RESTCOUNTRIES"
      ],
      "metadata": {
        "id": "StWZD9UQKlbU"
      }
    },
    {
      "cell_type": "code",
      "execution_count": 14,
      "metadata": {
        "colab": {
          "base_uri": "https://localhost:8080/"
        },
        "id": "Cyd9Pu_3ItFI",
        "outputId": "8939e6cc-ede8-499d-a740-f35c9aa10c1f"
      },
      "outputs": [
        {
          "output_type": "stream",
          "name": "stdout",
          "text": [
            "Status: 200\n",
            "170660\n",
            "[{\"flags\":{\"png\":\"https://flagcdn.com/w320/jm.png\",\"svg\":\"https://flagcdn.com/jm.svg\",\"alt\":\"The flag of Jamaica is divided by a gold diagonal cross into four alternating triangular areas of green at the top and bottom, and black on the hoist and fly sides\"},\"name\":{\"common\":\"Jamaica\",\"official\":\"Jamaica\",\"nativeName\":{\"eng\":{\"official\":\"Jamaica\",\"common\":\"Jamaica\"},\"jam\":{\"official\":\"Jamaica\",\"common\":\"Jamaica\"}}},\"currencies\":{\"JMD\":{\"name\":\"Jamaican dollar\",\"symbol\":\"$\"}},\"capital\":[\"Kingston\n",
            "True\n",
            "True\n"
          ]
        }
      ],
      "source": [
        "import requests      # biblioteka do pobierania danych z API\n",
        "import pandas as pd  # biblioteka do pracy z tabelami (DataFrame)\n",
        "import json\n",
        "from typing import List, Dict, Optional\n",
        "from pydantic import BaseModel, ValidationError  # Pydantic do walidacji danych\n",
        "# adres API RestCountries z wybranymi polami (max 10 na raz)\n",
        "url = \"https://restcountries.com/v3.1/all?fields=name,capital,region,subregion,population,area,currencies,languages,timezones,flags\"\n",
        "\n",
        "# pobranie danych z API\n",
        "resp = requests.get(url)\n",
        "\n",
        "\n",
        "#sprawdzanie surowego jsona\n",
        "# wypisanie statusu odpowiedzi (200 = OK)\n",
        "print(\"Status:\", resp.status_code)\n",
        "\n",
        "print(len(resp.text))#po nim wstawiam PYDANTIC\n",
        "print(resp.text[:500])\n",
        "\n",
        "# czy zaweira kluczowe frazy\n",
        "print(\"name\" in resp.text)\n",
        "print(\"population\" in resp.text)\n"
      ]
    },
    {
      "cell_type": "markdown",
      "source": [
        "SPRAWDZANIE CZY JSON POBRAL SIE PRAWIDLOWO"
      ],
      "metadata": {
        "id": "zijwlvtPMXqa"
      }
    },
    {
      "cell_type": "code",
      "source": [
        "if resp.status_code == 200:\n",
        "    # konwersja odpowiedzi JSON → Python (lista słowników)\n",
        "    data = resp.json()\n",
        "    print(type(data))\n",
        "    # sprawdź typ pierwszego elementu\n",
        "    print(type(data[0]))\n",
        "    # zamiana listy słowników na tabelę Pandas\n",
        "\n",
        "\n",
        "\n",
        "else:\n",
        "    # jeśli status ≠ 200, wyświetlamy komunikat błędu\n",
        "    print(\"Błąd:\", resp.text)"
      ],
      "metadata": {
        "id": "0FRA2o6pxeoS",
        "colab": {
          "base_uri": "https://localhost:8080/"
        },
        "outputId": "26bbb9f5-8eca-4151-bf72-68fa3cfea2c7"
      },
      "execution_count": 15,
      "outputs": [
        {
          "output_type": "stream",
          "name": "stdout",
          "text": [
            "<class 'list'>\n",
            "<class 'dict'>\n"
          ]
        }
      ]
    },
    {
      "cell_type": "markdown",
      "source": [
        "SPRAWDZENIE 1SZY ELEMNTOW POSZCZEGOLNYCH POL JAKIEGO SA TYPU"
      ],
      "metadata": {
        "id": "2nfxYiEEa3Jv"
      }
    },
    {
      "cell_type": "code",
      "source": [
        "print(type(data[0][\"name\"]))\n",
        "print(type(data[0][\"capital\"]))\n",
        "print(type(data[0][\"region\"]))\n",
        "print(type(data[0][\"subregion\"]))\n",
        "print(type(data[0][\"population\"]))\n",
        "print(type(data[0][\"area\"]))\n",
        "print(type(data[0][\"currencies\"]))\n",
        "print(type(data[0][\"languages\"]))\n",
        "print(type(data[0][\"timezones\"]))\n",
        "print(type(data[0][\"flags\"]))\n"
      ],
      "metadata": {
        "colab": {
          "base_uri": "https://localhost:8080/"
        },
        "id": "cSleZ4Y7a7Iv",
        "outputId": "ff653d06-f397-4d4a-c832-9d581f2166bc"
      },
      "execution_count": 8,
      "outputs": [
        {
          "output_type": "stream",
          "name": "stdout",
          "text": [
            "<class 'dict'>\n",
            "<class 'list'>\n",
            "<class 'str'>\n",
            "<class 'str'>\n",
            "<class 'int'>\n",
            "<class 'float'>\n",
            "<class 'dict'>\n",
            "<class 'dict'>\n",
            "<class 'list'>\n",
            "<class 'dict'>\n"
          ]
        }
      ]
    },
    {
      "cell_type": "markdown",
      "source": [
        "SPRAWDZENIE WEWNATRZ WSZYSTKICH ZAGNIEZDZEN ILE ICH JEST I JAKIEGO SA TYPU ZA POMACA REKURENCYJNEJ FUNKCJI"
      ],
      "metadata": {
        "id": "0sKEfLIlJpcg"
      }
    },
    {
      "cell_type": "code",
      "source": [
        "def describe(val):\n",
        "    # jeśli to słownik\n",
        "    if isinstance(val, dict):\n",
        "        return {k: describe(v) for k, v in val.items()}\n",
        "    # jeśli to lista\n",
        "    elif isinstance(val, list) and len(val) > 0:\n",
        "        return {\"list_of\": describe(val[0])}\n",
        "    # proste typy\n",
        "    else:\n",
        "        return type(val).__name__\n",
        "\n",
        "# użycie:\n",
        "sample = data[0]  # pierwszy rekord z JSON\n",
        "field_types = {k: describe(v) for k, v in sample.items()}\n",
        "\n",
        "print(field_types)"
      ],
      "metadata": {
        "colab": {
          "base_uri": "https://localhost:8080/"
        },
        "id": "F8uyWnMCCxXc",
        "outputId": "26fe7a03-577d-4a60-b885-dda8c39e4a3c"
      },
      "execution_count": 18,
      "outputs": [
        {
          "output_type": "stream",
          "name": "stdout",
          "text": [
            "{'flags': {'png': 'str', 'svg': 'str', 'alt': 'str'}, 'name': {'common': 'str', 'official': 'str', 'nativeName': {'eng': {'official': 'str', 'common': 'str'}, 'jam': {'official': 'str', 'common': 'str'}}}, 'currencies': {'JMD': {'name': 'str', 'symbol': 'str'}}, 'capital': {'list_of': 'str'}, 'region': 'str', 'subregion': 'str', 'languages': {'eng': 'str', 'jam': 'str'}, 'area': 'float', 'population': 'int', 'timezones': {'list_of': 'str'}}\n"
          ]
        }
      ]
    },
    {
      "cell_type": "markdown",
      "source": [
        "PRZEDSTAWIENIE STRURY I TYPY WEW. JSON PLIKU W SPOSOB UMOZLIWJACA NAOCZNA WERYFIKACJE"
      ],
      "metadata": {
        "id": "jnClSJjVJ5y-"
      }
    },
    {
      "cell_type": "code",
      "source": [
        "\n",
        "\n",
        "print(json.dumps(field_types, indent=2))\n"
      ],
      "metadata": {
        "colab": {
          "base_uri": "https://localhost:8080/"
        },
        "id": "xUu69mthHAK3",
        "outputId": "ade2f653-8d2a-4be5-f708-ad2b671b24d9"
      },
      "execution_count": 21,
      "outputs": [
        {
          "output_type": "stream",
          "name": "stdout",
          "text": [
            "{\n",
            "  \"flags\": {\n",
            "    \"png\": \"str\",\n",
            "    \"svg\": \"str\",\n",
            "    \"alt\": \"str\"\n",
            "  },\n",
            "  \"name\": {\n",
            "    \"common\": \"str\",\n",
            "    \"official\": \"str\",\n",
            "    \"nativeName\": {\n",
            "      \"eng\": {\n",
            "        \"official\": \"str\",\n",
            "        \"common\": \"str\"\n",
            "      },\n",
            "      \"jam\": {\n",
            "        \"official\": \"str\",\n",
            "        \"common\": \"str\"\n",
            "      }\n",
            "    }\n",
            "  },\n",
            "  \"currencies\": {\n",
            "    \"JMD\": {\n",
            "      \"name\": \"str\",\n",
            "      \"symbol\": \"str\"\n",
            "    }\n",
            "  },\n",
            "  \"capital\": {\n",
            "    \"list_of\": \"str\"\n",
            "  },\n",
            "  \"region\": \"str\",\n",
            "  \"subregion\": \"str\",\n",
            "  \"languages\": {\n",
            "    \"eng\": \"str\",\n",
            "    \"jam\": \"str\"\n",
            "  },\n",
            "  \"area\": \"float\",\n",
            "  \"population\": \"int\",\n",
            "  \"timezones\": {\n",
            "    \"list_of\": \"str\"\n",
            "  }\n",
            "}\n"
          ]
        }
      ]
    },
    {
      "cell_type": "markdown",
      "source": [
        "STARE KODY KTORYCH NIE UZYWAM"
      ],
      "metadata": {
        "id": "x5SZWHT1cJXs"
      }
    },
    {
      "cell_type": "code",
      "source": [
        "# sample = data[0]  # pierwszy rekord\n",
        "# field_types = {key: type(val).__name__ for key, val in sample.items()}\n",
        "# print(field_types)"
      ],
      "metadata": {
        "colab": {
          "base_uri": "https://localhost:8080/"
        },
        "id": "yRdpUhngcG9U",
        "outputId": "bf2ae1d1-67d4-418c-9e1c-333b69fe0507"
      },
      "execution_count": 9,
      "outputs": [
        {
          "output_type": "stream",
          "name": "stdout",
          "text": [
            "{'flags': 'dict', 'name': 'dict', 'currencies': 'dict', 'capital': 'list', 'region': 'str', 'subregion': 'str', 'languages': 'dict', 'area': 'float', 'population': 'int', 'timezones': 'list'}\n"
          ]
        }
      ]
    },
    {
      "cell_type": "code",
      "source": [
        "# sample = data[0]  # pierwszy rekord\n",
        "\n",
        "# field_types = {}\n",
        "# for key, val in sample.items():\n",
        "#     if isinstance(val, dict):\n",
        "#         # słownik → sprawdzamy typy wartości wewnątrz\n",
        "#         inner_types = {k: type(v).__name__ for k, v in val.items()}\n",
        "#         field_types[key] = {\"type\": \"dict\", \"inside\": inner_types}\n",
        "#     elif isinstance(val, list) and len(val) > 0:\n",
        "#         # lista → sprawdzamy typ pierwszego elementu\n",
        "#         field_types[key] = {\"type\": \"list\", \"inside\": type(val[0]).__name__}\n",
        "#     else:\n",
        "#         # proste typy (str, int, float) albo pusta lista\n",
        "#         field_types[key] = {\"type\": type(val).__name__}\n",
        "\n",
        "# print(field_types)"
      ],
      "metadata": {
        "colab": {
          "base_uri": "https://localhost:8080/"
        },
        "id": "FmtbIbaSyLaa",
        "outputId": "6877cddf-55fd-4aa8-caf6-f11d79604a7f"
      },
      "execution_count": 11,
      "outputs": [
        {
          "output_type": "stream",
          "name": "stdout",
          "text": [
            "{'flags': {'type': 'dict', 'inside': {'png': 'str', 'svg': 'str', 'alt': 'str'}}, 'name': {'type': 'dict', 'inside': {'common': 'str', 'official': 'str', 'nativeName': 'dict'}}, 'currencies': {'type': 'dict', 'inside': {'JMD': 'dict'}}, 'capital': {'type': 'list', 'inside': 'str'}, 'region': {'type': 'str'}, 'subregion': {'type': 'str'}, 'languages': {'type': 'dict', 'inside': {'eng': 'str', 'jam': 'str'}}, 'area': {'type': 'float'}, 'population': {'type': 'int'}, 'timezones': {'type': 'list', 'inside': 'str'}}\n"
          ]
        }
      ]
    },
    {
      "cell_type": "markdown",
      "source": [
        "PYDATNIC UZYWAM NA JSON , SPRAWDZAM ELEMENTY LISTY SLOWNIKOW JAKIM JEST JSON CZY SA ODPOWIEDNIEGO TYPU"
      ],
      "metadata": {
        "id": "BjTeYHKIKi1e"
      }
    },
    {
      "cell_type": "markdown",
      "source": [
        "PONIZEJ 1SZA NIEUDANA PROBA"
      ],
      "metadata": {
        "id": "t3m1ADbSLG6s"
      }
    },
    {
      "cell_type": "code",
      "source": [
        "# from typing import List, Dict, Optional\n",
        "# from pydantic import BaseModel, ValidationError\n",
        "\n",
        "# # definiujemy model danych dla pojedynczego kraju\n",
        "# class Country(BaseModel):\n",
        "#     name: Dict[str, str]                # nazwa kraju (dict, np. {common: Poland})\n",
        "#     capital: Optional[List[str]]        # stolica (lista albo None)\n",
        "#     region: Optional[str]               # region (np. Europe)\n",
        "#     subregion: Optional[str]            # subregion (np. Eastern Europe)\n",
        "#     population: int                     # populacja (int)\n",
        "#     area: float                         # powierzchnia (float/int)\n",
        "#     currencies: Optional[Dict]          # waluty (dict albo None)\n",
        "#     languages: Optional[Dict]           # języki (dict albo None)\n",
        "#     timezones: Optional[List[str]]      # strefy czasowe (lista stringów)\n",
        "#     flags: Optional[Dict]               # flagi (dict np. png, svg)\n",
        "\n",
        "# # walidacja – sprawdzamy każdy rekord z JSON\n",
        "# valid = []\n",
        "# invalid = []\n",
        "\n",
        "# for kraj in data:\n",
        "#     try:\n",
        "#         c = Country(**kraj)         # walidacja pól\n",
        "#         valid.append(c.dict())      # poprawne rekordy\n",
        "#     except ValidationError as e:\n",
        "#         invalid.append(kraj)        # błędne rekordy\n",
        "#         print(\"❌ Błąd walidacji:\", e)\n",
        "\n",
        "# print(f\"✔ Poprawnych rekordów: {len(valid)}\")\n",
        "# print(f\"❌ Błędnych rekordów: {len(invalid)}\")\n",
        "\n",
        "# # dalej DataFrame tworzysz już z przefiltrowanych danych:\n",
        "# df = pd.json_normalize(valid)\n"
      ],
      "metadata": {
        "id": "FsUpFbyHKiKs"
      },
      "execution_count": 22,
      "outputs": []
    },
    {
      "cell_type": "code",
      "source": [
        "from typing import Dict, List\n",
        "from pydantic import BaseModel\n",
        "\n",
        "# -------- FLAGS --------\n",
        "class Flags(BaseModel):             # odpowiada polu \"flags\"\n",
        "    png: str\n",
        "    svg: str\n",
        "    alt: str\n",
        "\n",
        "# -------- NAME --------\n",
        "class Eng(BaseModel):               # dokładnie odpowiada \"eng\"\n",
        "    official: str\n",
        "    common: str\n",
        "\n",
        "class Jam(BaseModel):               # dokładnie odpowiada \"jam\"\n",
        "    official: str\n",
        "    common: str\n",
        "\n",
        "class NativeName(BaseModel):        # odpowiada \"nativeName\"\n",
        "    eng: Eng\n",
        "    jam: Jam\n",
        "\n",
        "class Name(BaseModel):              # pole \"name\"\n",
        "    common: str\n",
        "    official: str\n",
        "    nativeName: NativeName\n",
        "\n",
        "# -------- CURRENCIES --------\n",
        "class JMD(BaseModel):               # dokładnie odpowiada \"JMD\"\n",
        "    name: str\n",
        "    symbol: str\n",
        "\n",
        "class Currencies(BaseModel):        # odpowiada \"currencies\"\n",
        "    JMD: JMD\n",
        "\n",
        "# -------- COUNTRY --------\n",
        "class Country(BaseModel):           # cały rekord kraju\n",
        "    flags: Flags\n",
        "    name: Name\n",
        "    currencies: Currencies\n",
        "    capital: List[str]\n",
        "    region: str\n",
        "    subregion: str\n",
        "    languages: Dict[str, str]\n",
        "    area: float\n",
        "    population: int\n",
        "    timezones: List[str]\n",
        "\n",
        "\n"
      ],
      "metadata": {
        "id": "orNh3sm0NUYh"
      },
      "execution_count": 26,
      "outputs": []
    },
    {
      "cell_type": "code",
      "source": [
        "# from typing import Dict, List, Optional\n",
        "# from pydantic import BaseModel\n",
        "\n",
        "# # --- Najbardziej zagnieżdżone fragmenty ---\n",
        "\n",
        "# class Flag(BaseModel):                   # pole \"flags\"\n",
        "#     png: str\n",
        "#     svg: str\n",
        "#     alt: Optional[str]\n",
        "\n",
        "# class NativeNameDetail(BaseModel):       # elementy wewnątrz \"nativeName\"\n",
        "#     official: str\n",
        "#     common: str\n",
        "\n",
        "# class Name(BaseModel):                   # pole \"name\"\n",
        "#     common: str\n",
        "#     official: str\n",
        "#     nativeName: Dict[str, NativeNameDetail]\n",
        "\n",
        "# class CurrencyDetail(BaseModel):         # elementy wewnątrz \"currencies\"\n",
        "#     name: str\n",
        "#     symbol: str\n",
        "\n",
        "# # --- Główna klasa kraju ---\n",
        "# class Country(BaseModel):\n",
        "#     flags: Flag\n",
        "#     name: Name\n",
        "#     currencies: Dict[str, CurrencyDetail]\n",
        "#     capital: Optional[List[str]]\n",
        "#     region: str\n",
        "#     subregion: str\n",
        "#     languages: Dict[str, str]\n",
        "#     area: float\n",
        "#     population: int\n",
        "#     timezones: List[str]\n"
      ],
      "metadata": {
        "id": "lPVYwPJmUdH8"
      },
      "execution_count": 24,
      "outputs": []
    },
    {
      "cell_type": "code",
      "source": [
        "\n",
        "\n",
        "    # TU WSTAWIAM PYDANTIC\n",
        "    df = pd.json_normalize(data)\n",
        "    # liczba krajów w danych\n",
        "    print(\"Liczba krajów:\", len(df))\n",
        "    # podgląd pierwszych 5 wierszy\n",
        "    print(df.head())\n",
        "\n",
        "\n",
        "# df = pd.json_normalize(resp.json()) if resp.status_code == 200 else None\n",
        "# print(df.head() if df is not None else resp.text)"
      ],
      "metadata": {
        "colab": {
          "base_uri": "https://localhost:8080/"
        },
        "id": "72LBqHsJMF73",
        "outputId": "3a01dabe-69d4-4c85-c609-2970e5804ec3"
      },
      "execution_count": 4,
      "outputs": [
        {
          "output_type": "stream",
          "name": "stdout",
          "text": [
            "Liczba krajów: 250\n",
            "         capital    region           subregion      area  population  \\\n",
            "0     [Kingston]  Americas           Caribbean   10991.0     2961161   \n",
            "1       [Moroni]    Africa      Eastern Africa    1862.0      869595   \n",
            "2       [Harare]    Africa     Southern Africa  390757.0    14862927   \n",
            "3  [Philipsburg]  Americas           Caribbean      34.0       40812   \n",
            "4    [Vientiane]      Asia  South-Eastern Asia  236800.0     7275556   \n",
            "\n",
            "     timezones                        flags.png                   flags.svg  \\\n",
            "0  [UTC-05:00]  https://flagcdn.com/w320/jm.png  https://flagcdn.com/jm.svg   \n",
            "1  [UTC+03:00]  https://flagcdn.com/w320/km.png  https://flagcdn.com/km.svg   \n",
            "2  [UTC+02:00]  https://flagcdn.com/w320/zw.png  https://flagcdn.com/zw.svg   \n",
            "3  [UTC-04:00]  https://flagcdn.com/w320/sx.png  https://flagcdn.com/sx.svg   \n",
            "4  [UTC+07:00]  https://flagcdn.com/w320/la.png  https://flagcdn.com/la.svg   \n",
            "\n",
            "                                           flags.alt   name.common  ...  \\\n",
            "0  The flag of Jamaica is divided by a gold diago...       Jamaica  ...   \n",
            "1  The flag of Comoros is composed of four equal ...       Comoros  ...   \n",
            "2  The flag of Zimbabwe is composed of seven equa...      Zimbabwe  ...   \n",
            "3                                                     Sint Maarten  ...   \n",
            "4  The flag of Laos is composed of three horizont...          Laos  ...   \n",
            "\n",
            "  name.nativeName.mfe.common currencies.MUR.name currencies.MUR.symbol  \\\n",
            "0                        NaN                 NaN                   NaN   \n",
            "1                        NaN                 NaN                   NaN   \n",
            "2                        NaN                 NaN                   NaN   \n",
            "3                        NaN                 NaN                   NaN   \n",
            "4                        NaN                 NaN                   NaN   \n",
            "\n",
            "  languages.mfe currencies.KYD.name currencies.KYD.symbol  \\\n",
            "0           NaN                 NaN                   NaN   \n",
            "1           NaN                 NaN                   NaN   \n",
            "2           NaN                 NaN                   NaN   \n",
            "3           NaN                 NaN                   NaN   \n",
            "4           NaN                 NaN                   NaN   \n",
            "\n",
            "  name.nativeName.bar.official name.nativeName.bar.common currencies.LRD.name  \\\n",
            "0                          NaN                        NaN                 NaN   \n",
            "1                          NaN                        NaN                 NaN   \n",
            "2                          NaN                        NaN                 NaN   \n",
            "3                          NaN                        NaN                 NaN   \n",
            "4                          NaN                        NaN                 NaN   \n",
            "\n",
            "  currencies.LRD.symbol  \n",
            "0                   NaN  \n",
            "1                   NaN  \n",
            "2                   NaN  \n",
            "3                   NaN  \n",
            "4                   NaN  \n",
            "\n",
            "[5 rows x 795 columns]\n"
          ]
        }
      ]
    },
    {
      "cell_type": "code",
      "source": [
        "# sprawdzamy kilka pierwszych rekordów\n",
        "for i, kraj in enumerate(data[:5]):\n",
        "    try:\n",
        "        # walidacja typów pól:\n",
        "        assert isinstance(kraj.get(\"name\"), dict)                  # nazwa kraju = słownik\n",
        "        assert isinstance(kraj.get(\"capital\"), list) or kraj.get(\"capital\") is None  # stolica = lista lub None\n",
        "        assert isinstance(kraj.get(\"population\"), int)             # populacja = int\n",
        "        assert isinstance(kraj.get(\"area\"), (int, float))          # powierzchnia = int/float\n",
        "        assert isinstance(kraj.get(\"currencies\"), dict) or kraj.get(\"currencies\") is None\n",
        "        assert isinstance(kraj.get(\"languages\"), dict) or kraj.get(\"languages\") is None\n",
        "        assert isinstance(kraj.get(\"region\"), str) or kraj.get(\"region\") is None      # region = string\n",
        "        assert isinstance(kraj.get(\"subregion\"), str) or kraj.get(\"subregion\") is None # subregion = string\n",
        "        assert isinstance(kraj.get(\"timezones\"), list) or kraj.get(\"timezones\") is None # strefy czasowe = lista\n",
        "        assert isinstance(kraj.get(\"flags\"), dict) or kraj.get(\"flags\") is None        # flaga = dict\n",
        "\n",
        "        print(f\"✔ Rekord {i} poprawny\")\n",
        "    except AssertionError:\n",
        "        print(f\"❌ Błąd w rekordzie {i}: {kraj}\")\n",
        "\n"
      ],
      "metadata": {
        "colab": {
          "base_uri": "https://localhost:8080/"
        },
        "id": "ZtfcWzTeyLGE",
        "outputId": "f3f49dcd-a409-4e39-dfd2-285b8b6dffc2"
      },
      "execution_count": null,
      "outputs": [
        {
          "output_type": "stream",
          "name": "stdout",
          "text": [
            "✔ Rekord 0 poprawny\n",
            "✔ Rekord 1 poprawny\n",
            "✔ Rekord 2 poprawny\n",
            "✔ Rekord 3 poprawny\n",
            "✔ Rekord 4 poprawny\n"
          ]
        }
      ]
    }
  ]
}