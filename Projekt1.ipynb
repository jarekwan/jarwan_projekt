{
  "nbformat": 4,
  "nbformat_minor": 0,
  "metadata": {
    "colab": {
      "provenance": [],
      "authorship_tag": "ABX9TyNba8+AIZX8PQJDjhkK8b0w",
      "include_colab_link": true
    },
    "kernelspec": {
      "name": "python3",
      "display_name": "Python 3"
    },
    "language_info": {
      "name": "python"
    }
  },
  "cells": [
    {
      "cell_type": "markdown",
      "metadata": {
        "id": "view-in-github",
        "colab_type": "text"
      },
      "source": [
        "<a href=\"https://colab.research.google.com/github/jarekwan/jarwan_projekt/blob/main/Projekt1.ipynb\" target=\"_parent\"><img src=\"https://colab.research.google.com/assets/colab-badge.svg\" alt=\"Open In Colab\"/></a>"
      ]
    },
    {
      "cell_type": "markdown",
      "source": [
        "BIBLIOTEKI I POBRANIE JSON Z RESTCOUNTRIES"
      ],
      "metadata": {
        "id": "StWZD9UQKlbU"
      }
    },
    {
      "cell_type": "code",
      "execution_count": 2,
      "metadata": {
        "colab": {
          "base_uri": "https://localhost:8080/"
        },
        "id": "Cyd9Pu_3ItFI",
        "outputId": "c694b939-cc7a-4bb5-f48f-2c8030b8dd7c"
      },
      "outputs": [
        {
          "output_type": "stream",
          "name": "stdout",
          "text": [
            "Status: 200\n",
            "170660\n",
            "[{\"flags\":{\"png\":\"https://flagcdn.com/w320/jm.png\",\"svg\":\"https://flagcdn.com/jm.svg\",\"alt\":\"The flag of Jamaica is divided by a gold diagonal cross into four alternating triangular areas of green at the top and bottom, and black on the hoist and fly sides\"},\"name\":{\"common\":\"Jamaica\",\"official\":\"Jamaica\",\"nativeName\":{\"eng\":{\"official\":\"Jamaica\",\"common\":\"Jamaica\"},\"jam\":{\"official\":\"Jamaica\",\"common\":\"Jamaica\"}}},\"currencies\":{\"JMD\":{\"name\":\"Jamaican dollar\",\"symbol\":\"$\"}},\"capital\":[\"Kingston\n",
            "True\n",
            "True\n"
          ]
        }
      ],
      "source": [
        "import requests      # biblioteka do pobierania danych z API\n",
        "import pandas as pd  # biblioteka do pracy z tabelami (DataFrame)\n",
        "import json\n",
        "from typing import List, Dict, Optional\n",
        "from pydantic import BaseModel, ValidationError  # Pydantic do walidacji danych\n",
        "# adres API RestCountries z wybranymi polami (max 10 na raz)\n",
        "url = \"https://restcountries.com/v3.1/all?fields=name,capital,region,subregion,population,area,currencies,languages,timezones,flags\"\n",
        "\n",
        "# pobranie danych z API\n",
        "resp = requests.get(url)\n",
        "\n",
        "\n",
        "#sprawdzanie surowego jsona\n",
        "# wypisanie statusu odpowiedzi (200 = OK)\n",
        "print(\"Status:\", resp.status_code)\n",
        "\n",
        "print(len(resp.text))#po nim wstawiam PYDANTIC\n",
        "print(resp.text[:500])\n",
        "\n",
        "# czy zaweira kluczowe frazy\n",
        "print(\"name\" in resp.text)\n",
        "print(\"population\" in resp.text)\n"
      ]
    },
    {
      "cell_type": "markdown",
      "source": [
        "SPRAWDZANIE CZY JSON POBRAL SIE PRAWIDLOWO"
      ],
      "metadata": {
        "id": "zijwlvtPMXqa"
      }
    },
    {
      "cell_type": "code",
      "source": [
        "if resp.status_code == 200:\n",
        "    # konwersja odpowiedzi JSON → Python (lista słowników)\n",
        "    data = resp.json()\n",
        "    print(type(data))\n",
        "    # sprawdź typ pierwszego elementu\n",
        "    print(type(data[0]))\n",
        "    # zamiana listy słowników na tabelę Pandas\n",
        "\n",
        "\n",
        "\n",
        "else:\n",
        "    # jeśli status ≠ 200, wyświetlamy komunikat błędu\n",
        "    print(\"Błąd:\", resp.text)"
      ],
      "metadata": {
        "id": "0FRA2o6pxeoS",
        "colab": {
          "base_uri": "https://localhost:8080/"
        },
        "outputId": "40787570-29e2-4c8b-ed72-05f8334f41d7"
      },
      "execution_count": 3,
      "outputs": [
        {
          "output_type": "stream",
          "name": "stdout",
          "text": [
            "<class 'list'>\n",
            "<class 'dict'>\n"
          ]
        }
      ]
    },
    {
      "cell_type": "markdown",
      "source": [
        "SPRAWDZENIE 1SZY ELEMNTOW POSZCZEGOLNYCH POL JAKIEGO SA TYPU"
      ],
      "metadata": {
        "id": "2nfxYiEEa3Jv"
      }
    },
    {
      "cell_type": "code",
      "source": [
        "print(type(data[0][\"name\"]))\n",
        "print(type(data[0][\"capital\"]))\n",
        "print(type(data[0][\"region\"]))\n",
        "print(type(data[0][\"subregion\"]))\n",
        "print(type(data[0][\"population\"]))\n",
        "print(type(data[0][\"area\"]))\n",
        "print(type(data[0][\"currencies\"]))\n",
        "print(type(data[0][\"languages\"]))\n",
        "print(type(data[0][\"timezones\"]))\n",
        "print(type(data[0][\"flags\"]))\n"
      ],
      "metadata": {
        "colab": {
          "base_uri": "https://localhost:8080/"
        },
        "id": "cSleZ4Y7a7Iv",
        "outputId": "a1a14a9d-036b-4e57-db81-629c9fba1f44"
      },
      "execution_count": 4,
      "outputs": [
        {
          "output_type": "stream",
          "name": "stdout",
          "text": [
            "<class 'dict'>\n",
            "<class 'list'>\n",
            "<class 'str'>\n",
            "<class 'str'>\n",
            "<class 'int'>\n",
            "<class 'float'>\n",
            "<class 'dict'>\n",
            "<class 'dict'>\n",
            "<class 'list'>\n",
            "<class 'dict'>\n"
          ]
        }
      ]
    },
    {
      "cell_type": "markdown",
      "source": [
        "SPRAWDZENIE WEWNATRZ WSZYSTKICH ZAGNIEZDZEN ILE ICH JEST I JAKIEGO SA TYPU ZA POMACA REKURENCYJNEJ FUNKCJI"
      ],
      "metadata": {
        "id": "0sKEfLIlJpcg"
      }
    },
    {
      "cell_type": "code",
      "source": [
        "def describe(val):\n",
        "    # jeśli to słownik\n",
        "    if isinstance(val, dict):\n",
        "        return {k: describe(v) for k, v in val.items()}\n",
        "    # jeśli to lista\n",
        "    elif isinstance(val, list) and len(val) > 0:\n",
        "        return {\"list_of\": describe(val[0])}\n",
        "    # proste typy\n",
        "    else:\n",
        "        return type(val).__name__\n",
        "\n",
        "# użycie:\n",
        "sample = data[0]  # pierwszy rekord z JSON\n",
        "field_types = {k: describe(v) for k, v in sample.items()}\n",
        "\n",
        "print(field_types)"
      ],
      "metadata": {
        "colab": {
          "base_uri": "https://localhost:8080/"
        },
        "id": "F8uyWnMCCxXc",
        "outputId": "f5714d85-ebaa-4293-b834-741bdb0f8854"
      },
      "execution_count": 5,
      "outputs": [
        {
          "output_type": "stream",
          "name": "stdout",
          "text": [
            "{'flags': {'png': 'str', 'svg': 'str', 'alt': 'str'}, 'name': {'common': 'str', 'official': 'str', 'nativeName': {'eng': {'official': 'str', 'common': 'str'}, 'jam': {'official': 'str', 'common': 'str'}}}, 'currencies': {'JMD': {'name': 'str', 'symbol': 'str'}}, 'capital': {'list_of': 'str'}, 'region': 'str', 'subregion': 'str', 'languages': {'eng': 'str', 'jam': 'str'}, 'area': 'float', 'population': 'int', 'timezones': {'list_of': 'str'}}\n"
          ]
        }
      ]
    },
    {
      "cell_type": "markdown",
      "source": [
        "PRZEDSTAWIENIE STRURY I TYPY WEW. JSON PLIKU W SPOSOB UMOZLIWJACA NAOCZNA WERYFIKACJE"
      ],
      "metadata": {
        "id": "jnClSJjVJ5y-"
      }
    },
    {
      "cell_type": "code",
      "source": [
        "\n",
        "\n",
        "print(json.dumps(field_types, indent=2))\n"
      ],
      "metadata": {
        "colab": {
          "base_uri": "https://localhost:8080/"
        },
        "id": "xUu69mthHAK3",
        "outputId": "ca347a2d-fde2-4d33-e6eb-3729bed4140c"
      },
      "execution_count": 6,
      "outputs": [
        {
          "output_type": "stream",
          "name": "stdout",
          "text": [
            "{\n",
            "  \"flags\": {\n",
            "    \"png\": \"str\",\n",
            "    \"svg\": \"str\",\n",
            "    \"alt\": \"str\"\n",
            "  },\n",
            "  \"name\": {\n",
            "    \"common\": \"str\",\n",
            "    \"official\": \"str\",\n",
            "    \"nativeName\": {\n",
            "      \"eng\": {\n",
            "        \"official\": \"str\",\n",
            "        \"common\": \"str\"\n",
            "      },\n",
            "      \"jam\": {\n",
            "        \"official\": \"str\",\n",
            "        \"common\": \"str\"\n",
            "      }\n",
            "    }\n",
            "  },\n",
            "  \"currencies\": {\n",
            "    \"JMD\": {\n",
            "      \"name\": \"str\",\n",
            "      \"symbol\": \"str\"\n",
            "    }\n",
            "  },\n",
            "  \"capital\": {\n",
            "    \"list_of\": \"str\"\n",
            "  },\n",
            "  \"region\": \"str\",\n",
            "  \"subregion\": \"str\",\n",
            "  \"languages\": {\n",
            "    \"eng\": \"str\",\n",
            "    \"jam\": \"str\"\n",
            "  },\n",
            "  \"area\": \"float\",\n",
            "  \"population\": \"int\",\n",
            "  \"timezones\": {\n",
            "    \"list_of\": \"str\"\n",
            "  }\n",
            "}\n"
          ]
        }
      ]
    },
    {
      "cell_type": "markdown",
      "source": [
        "SPRAWDZAM JAKA WERSJE PYDANTIC MAM"
      ],
      "metadata": {
        "id": "908IKWCEydiu"
      }
    },
    {
      "cell_type": "code",
      "source": [
        "import pydantic\n",
        "print(pydantic.VERSION)"
      ],
      "metadata": {
        "colab": {
          "base_uri": "https://localhost:8080/"
        },
        "id": "cDIiPMluycqg",
        "outputId": "62847fc4-5073-42dd-8d35-930ded467ce2"
      },
      "execution_count": 7,
      "outputs": [
        {
          "output_type": "stream",
          "name": "stdout",
          "text": [
            "2.11.7\n"
          ]
        }
      ]
    },
    {
      "cell_type": "markdown",
      "source": [
        "WALIDACJA Z PYDANTIC (weryfikacja czy typy i klasy sa prawidlowe)"
      ],
      "metadata": {
        "id": "-FvS1j39jJkF"
      }
    },
    {
      "cell_type": "code",
      "source": [
        "\n",
        "from typing import List, Optional, Dict\n",
        "from pydantic import BaseModel, ValidationError\n",
        "\n",
        "class Flags(BaseModel):\n",
        "    png: str\n",
        "    svg: str\n",
        "    alt: str\n",
        "\n",
        "class NativeNameEntry(BaseModel):\n",
        "    official: str\n",
        "    common: str\n",
        "\n",
        "class Name(BaseModel):\n",
        "    common: str\n",
        "    official: str\n",
        "    nativeName: Optional[Dict[str, NativeNameEntry]]\n",
        "\n",
        "class Currency(BaseModel):\n",
        "    name: str\n",
        "    symbol: str\n",
        "\n",
        "\n",
        "\n",
        "class Country(BaseModel):\n",
        "    name: Name\n",
        "    flags: Flags\n",
        "    currencies: Optional[Dict[str, Currency]]  # This line uses Currency\n",
        "    capital: List[str]\n",
        "    region: str\n",
        "    subregion: Optional[str]\n",
        "    languages: Dict[str, str]\n",
        "    area: Optional[float]\n",
        "    population: int\n",
        "    timezones: List[str]\n",
        "\n",
        "\n",
        "# Usage:\n",
        "try:\n",
        "    countries = [Country(**item) for item in data]\n",
        "    print(f\"Validated {len(countries)} countries successfully\")\n",
        "except ValidationError as e:\n",
        "    print(f\"Validation error: {e}\")"
      ],
      "metadata": {
        "colab": {
          "base_uri": "https://localhost:8080/"
        },
        "id": "iwd2qYjFDLFd",
        "outputId": "f0b62a3f-c0f0-4883-c245-1f32e75a58ab"
      },
      "execution_count": 8,
      "outputs": [
        {
          "output_type": "stream",
          "name": "stdout",
          "text": [
            "Validated 250 countries successfully\n"
          ]
        }
      ]
    },
    {
      "cell_type": "markdown",
      "source": [
        "SPRAWDZAM CZY W OPCJONALNYCH FIELDS SA JAKIEKOLWIEK BRAKI DANYCH"
      ],
      "metadata": {
        "id": "r-QexryonjA3"
      }
    },
    {
      "cell_type": "code",
      "source": [
        "# Get all optional fields from your model\n",
        "optional_fields = []\n",
        "for field_name, field_info in Country.model_fields.items():\n",
        "    if not field_info.is_required():\n",
        "        optional_fields.append(field_name)\n",
        "\n",
        "print(f\"Optional fields: {optional_fields}\")\n",
        "\n",
        "# Check which optional fields are missing in each country\n",
        "for i, item in enumerate(data):\n",
        "    missing_optional = []\n",
        "    for field in optional_fields:\n",
        "        if field not in item or item[field] is None:\n",
        "            missing_optional.append(field)\n",
        "\n",
        "    if missing_optional:\n",
        "        print(f\"Country {i}: Missing optional data: {missing_optional}\")\n"
      ],
      "metadata": {
        "id": "lPVYwPJmUdH8",
        "colab": {
          "base_uri": "https://localhost:8080/"
        },
        "outputId": "ddbffa46-8387-4e3c-fa07-c019cd475fd2"
      },
      "execution_count": 9,
      "outputs": [
        {
          "output_type": "stream",
          "name": "stdout",
          "text": [
            "Optional fields: []\n"
          ]
        }
      ]
    },
    {
      "cell_type": "code",
      "source": [
        "for field_name, field_info in Country.model_fields.items():\n",
        "    print(f\"{field_name}: required={field_info.is_required()}\")"
      ],
      "metadata": {
        "id": "soF7nbgY0u-F",
        "outputId": "bd25578f-accd-4aff-aafd-afbd5779f933",
        "colab": {
          "base_uri": "https://localhost:8080/"
        }
      },
      "execution_count": 10,
      "outputs": [
        {
          "output_type": "stream",
          "name": "stdout",
          "text": [
            "name: required=True\n",
            "flags: required=True\n",
            "currencies: required=True\n",
            "capital: required=True\n",
            "region: required=True\n",
            "subregion: required=True\n",
            "languages: required=True\n",
            "area: required=True\n",
            "population: required=True\n",
            "timezones: required=True\n"
          ]
        }
      ]
    },
    {
      "cell_type": "code",
      "source": [
        "# 2. Serializacja → zapis danych do pliku JSON\n",
        "with open(\"countries.json\", \"w\") as f:   # \"w\" = write = zapis\n",
        "    json.dump(data, f, indent=2)         # indent=2 = czytelne formatowanie\n",
        "print(\"Dane zapisane do pliku countries.json\")\n",
        "\n",
        "# 3. Odczyt JSON z pliku\n",
        "with open(\"countries.json\", \"r\") as f:   # \"r\" = read = odczyt\n",
        "    loaded_data = json.load(f)\n",
        "\n",
        "print(f\"Odczytano {len(loaded_data)} rekordów z pliku\")\n",
        "\n",
        "# 4. Konwersja do DataFrame\n",
        "df = pd.json_normalize(loaded_data)\n",
        "\n",
        "print(\"DataFrame utworzony:\", df.shape)\n",
        "print(df.head(3))  # podgląd pierwszych wierszy\n"
      ],
      "metadata": {
        "colab": {
          "base_uri": "https://localhost:8080/"
        },
        "id": "p6pX9NLuaa7C",
        "outputId": "14f62062-895f-4517-ba35-fe1845811bf3"
      },
      "execution_count": 17,
      "outputs": [
        {
          "output_type": "stream",
          "name": "stdout",
          "text": [
            "Dane zapisane do pliku countries.json\n",
            "Odczytano 250 rekordów z pliku\n",
            "DataFrame utworzony: (250, 795)\n",
            "      capital    region        subregion      area  population    timezones  \\\n",
            "0  [Kingston]  Americas        Caribbean   10991.0     2961161  [UTC-05:00]   \n",
            "1    [Moroni]    Africa   Eastern Africa    1862.0      869595  [UTC+03:00]   \n",
            "2    [Harare]    Africa  Southern Africa  390757.0    14862927  [UTC+02:00]   \n",
            "\n",
            "                         flags.png                   flags.svg  \\\n",
            "0  https://flagcdn.com/w320/jm.png  https://flagcdn.com/jm.svg   \n",
            "1  https://flagcdn.com/w320/km.png  https://flagcdn.com/km.svg   \n",
            "2  https://flagcdn.com/w320/zw.png  https://flagcdn.com/zw.svg   \n",
            "\n",
            "                                           flags.alt name.common  ...  \\\n",
            "0  The flag of Jamaica is divided by a gold diago...     Jamaica  ...   \n",
            "1  The flag of Comoros is composed of four equal ...     Comoros  ...   \n",
            "2  The flag of Zimbabwe is composed of seven equa...    Zimbabwe  ...   \n",
            "\n",
            "  name.nativeName.mfe.common currencies.MUR.name currencies.MUR.symbol  \\\n",
            "0                        NaN                 NaN                   NaN   \n",
            "1                        NaN                 NaN                   NaN   \n",
            "2                        NaN                 NaN                   NaN   \n",
            "\n",
            "  languages.mfe currencies.KYD.name currencies.KYD.symbol  \\\n",
            "0           NaN                 NaN                   NaN   \n",
            "1           NaN                 NaN                   NaN   \n",
            "2           NaN                 NaN                   NaN   \n",
            "\n",
            "  name.nativeName.bar.official name.nativeName.bar.common currencies.LRD.name  \\\n",
            "0                          NaN                        NaN                 NaN   \n",
            "1                          NaN                        NaN                 NaN   \n",
            "2                          NaN                        NaN                 NaN   \n",
            "\n",
            "  currencies.LRD.symbol  \n",
            "0                   NaN  \n",
            "1                   NaN  \n",
            "2                   NaN  \n",
            "\n",
            "[3 rows x 795 columns]\n"
          ]
        }
      ]
    },
    {
      "cell_type": "code",
      "source": [
        "\n",
        "\n",
        "    # wstawiam dane do dataframe\n",
        "    df = pd.json_normalize(data)\n",
        "    # liczba krajów w danych\n",
        "    print(\"Liczba krajów:\", len(df))\n",
        "    # podgląd pierwszych 5 wierszy\n",
        "    print(df.head())\n",
        "\n",
        "\n",
        "# df = pd.json_normalize(resp.json()) if resp.status_code == 200 else None\n",
        "# print(df.head() if df is not None else resp.text)"
      ],
      "metadata": {
        "colab": {
          "base_uri": "https://localhost:8080/"
        },
        "id": "72LBqHsJMF73",
        "outputId": "8cf30eed-e2a9-4eec-f785-59cf7ad2386f"
      },
      "execution_count": 10,
      "outputs": [
        {
          "output_type": "stream",
          "name": "stdout",
          "text": [
            "Liczba krajów: 250\n",
            "         capital    region           subregion      area  population  \\\n",
            "0     [Kingston]  Americas           Caribbean   10991.0     2961161   \n",
            "1       [Moroni]    Africa      Eastern Africa    1862.0      869595   \n",
            "2       [Harare]    Africa     Southern Africa  390757.0    14862927   \n",
            "3  [Philipsburg]  Americas           Caribbean      34.0       40812   \n",
            "4    [Vientiane]      Asia  South-Eastern Asia  236800.0     7275556   \n",
            "\n",
            "     timezones                        flags.png                   flags.svg  \\\n",
            "0  [UTC-05:00]  https://flagcdn.com/w320/jm.png  https://flagcdn.com/jm.svg   \n",
            "1  [UTC+03:00]  https://flagcdn.com/w320/km.png  https://flagcdn.com/km.svg   \n",
            "2  [UTC+02:00]  https://flagcdn.com/w320/zw.png  https://flagcdn.com/zw.svg   \n",
            "3  [UTC-04:00]  https://flagcdn.com/w320/sx.png  https://flagcdn.com/sx.svg   \n",
            "4  [UTC+07:00]  https://flagcdn.com/w320/la.png  https://flagcdn.com/la.svg   \n",
            "\n",
            "                                           flags.alt   name.common  ...  \\\n",
            "0  The flag of Jamaica is divided by a gold diago...       Jamaica  ...   \n",
            "1  The flag of Comoros is composed of four equal ...       Comoros  ...   \n",
            "2  The flag of Zimbabwe is composed of seven equa...      Zimbabwe  ...   \n",
            "3                                                     Sint Maarten  ...   \n",
            "4  The flag of Laos is composed of three horizont...          Laos  ...   \n",
            "\n",
            "  name.nativeName.mfe.common currencies.MUR.name currencies.MUR.symbol  \\\n",
            "0                        NaN                 NaN                   NaN   \n",
            "1                        NaN                 NaN                   NaN   \n",
            "2                        NaN                 NaN                   NaN   \n",
            "3                        NaN                 NaN                   NaN   \n",
            "4                        NaN                 NaN                   NaN   \n",
            "\n",
            "  languages.mfe currencies.KYD.name currencies.KYD.symbol  \\\n",
            "0           NaN                 NaN                   NaN   \n",
            "1           NaN                 NaN                   NaN   \n",
            "2           NaN                 NaN                   NaN   \n",
            "3           NaN                 NaN                   NaN   \n",
            "4           NaN                 NaN                   NaN   \n",
            "\n",
            "  name.nativeName.bar.official name.nativeName.bar.common currencies.LRD.name  \\\n",
            "0                          NaN                        NaN                 NaN   \n",
            "1                          NaN                        NaN                 NaN   \n",
            "2                          NaN                        NaN                 NaN   \n",
            "3                          NaN                        NaN                 NaN   \n",
            "4                          NaN                        NaN                 NaN   \n",
            "\n",
            "  currencies.LRD.symbol  \n",
            "0                   NaN  \n",
            "1                   NaN  \n",
            "2                   NaN  \n",
            "3                   NaN  \n",
            "4                   NaN  \n",
            "\n",
            "[5 rows x 795 columns]\n"
          ]
        }
      ]
    },
    {
      "cell_type": "code",
      "source": [
        "# sprawdzamy kilka pierwszych rekordów\n",
        "for i, kraj in enumerate(data[:5]):\n",
        "    try:\n",
        "        # walidacja typów pól:\n",
        "        assert isinstance(kraj.get(\"name\"), dict)                  # nazwa kraju = słownik\n",
        "        assert isinstance(kraj.get(\"capital\"), list) or kraj.get(\"capital\") is None  # stolica = lista lub None\n",
        "        assert isinstance(kraj.get(\"population\"), int)             # populacja = int\n",
        "        assert isinstance(kraj.get(\"area\"), (int, float))          # powierzchnia = int/float\n",
        "        assert isinstance(kraj.get(\"currencies\"), dict) or kraj.get(\"currencies\") is None\n",
        "        assert isinstance(kraj.get(\"languages\"), dict) or kraj.get(\"languages\") is None\n",
        "        assert isinstance(kraj.get(\"region\"), str) or kraj.get(\"region\") is None      # region = string\n",
        "        assert isinstance(kraj.get(\"subregion\"), str) or kraj.get(\"subregion\") is None # subregion = string\n",
        "        assert isinstance(kraj.get(\"timezones\"), list) or kraj.get(\"timezones\") is None # strefy czasowe = lista\n",
        "        assert isinstance(kraj.get(\"flags\"), dict) or kraj.get(\"flags\") is None        # flaga = dict\n",
        "\n",
        "        print(f\"✔ Rekord {i} poprawny\")\n",
        "    except AssertionError:\n",
        "        print(f\"❌ Błąd w rekordzie {i}: {kraj}\")\n",
        "\n"
      ],
      "metadata": {
        "colab": {
          "base_uri": "https://localhost:8080/"
        },
        "id": "ZtfcWzTeyLGE",
        "outputId": "f3f49dcd-a409-4e39-dfd2-285b8b6dffc2"
      },
      "execution_count": null,
      "outputs": [
        {
          "output_type": "stream",
          "name": "stdout",
          "text": [
            "✔ Rekord 0 poprawny\n",
            "✔ Rekord 1 poprawny\n",
            "✔ Rekord 2 poprawny\n",
            "✔ Rekord 3 poprawny\n",
            "✔ Rekord 4 poprawny\n"
          ]
        }
      ]
    }
  ]
}