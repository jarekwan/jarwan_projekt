{
  "nbformat": 4,
  "nbformat_minor": 0,
  "metadata": {
    "colab": {
      "provenance": [],
      "authorship_tag": "ABX9TyMOcSI6/MAmjjIPD4hntuTq",
      "include_colab_link": true
    },
    "kernelspec": {
      "name": "python3",
      "display_name": "Python 3"
    },
    "language_info": {
      "name": "python"
    }
  },
  "cells": [
    {
      "cell_type": "markdown",
      "metadata": {
        "id": "view-in-github",
        "colab_type": "text"
      },
      "source": [
        "<a href=\"https://colab.research.google.com/github/jarekwan/jarwan_projekt/blob/main/Projekt1.ipynb\" target=\"_parent\"><img src=\"https://colab.research.google.com/assets/colab-badge.svg\" alt=\"Open In Colab\"/></a>"
      ]
    },
    {
      "cell_type": "markdown",
      "source": [
        "BIBLIOTEKI I POBRANIE JSON Z RESTCOUNTRIES"
      ],
      "metadata": {
        "id": "StWZD9UQKlbU"
      }
    },
    {
      "cell_type": "code",
      "execution_count": 86,
      "metadata": {
        "colab": {
          "base_uri": "https://localhost:8080/"
        },
        "id": "Cyd9Pu_3ItFI",
        "outputId": "47727a0b-3556-48db-9bdf-7e4ab916fe05"
      },
      "outputs": [
        {
          "output_type": "stream",
          "name": "stdout",
          "text": [
            "Status: 200\n",
            "170660\n",
            "[{\"flags\":{\"png\":\"https://flagcdn.com/w320/jm.png\",\"svg\":\"https://flagcdn.com/jm.svg\",\"alt\":\"The flag of Jamaica is divided by a gold diagonal cross into four alternating triangular areas of green at the top and bottom, and black on the hoist and fly sides\"},\"name\":{\"common\":\"Jamaica\",\"official\":\"Jamaica\",\"nativeName\":{\"eng\":{\"official\":\"Jamaica\",\"common\":\"Jamaica\"},\"jam\":{\"official\":\"Jamaica\",\"common\":\"Jamaica\"}}},\"currencies\":{\"JMD\":{\"name\":\"Jamaican dollar\",\"symbol\":\"$\"}},\"capital\":[\"Kingston\n",
            "True\n",
            "True\n"
          ]
        }
      ],
      "source": [
        "import requests      # biblioteka do pobierania danych z API\n",
        "import pandas as pd  # biblioteka do pracy z tabelami (DataFrame)\n",
        "import json\n",
        "from typing import List, Dict, Optional\n",
        "from pydantic import BaseModel, ValidationError  # Pydantic do walidacji danych\n",
        "# adres API RestCountries z wybranymi polami (max 10 na raz)\n",
        "url = \"https://restcountries.com/v3.1/all?fields=name,capital,region,subregion,population,area,currencies,languages,timezones,flags\"\n",
        "\n",
        "# pobranie danych z API\n",
        "resp = requests.get(url)\n",
        "\n",
        "\n",
        "#sprawdzanie surowego jsona\n",
        "# wypisanie statusu odpowiedzi (200 = OK)\n",
        "print(\"Status:\", resp.status_code)\n",
        "\n",
        "print(len(resp.text))#po nim wstawiam PYDANTIC\n",
        "print(resp.text[:500])\n",
        "\n",
        "# czy zaweira kluczowe frazy\n",
        "print(\"name\" in resp.text)\n",
        "print(\"population\" in resp.text)\n"
      ]
    },
    {
      "cell_type": "markdown",
      "source": [
        "SPRAWDZANIE CZY JSON POBRAL SIE PRAWIDLOWO"
      ],
      "metadata": {
        "id": "zijwlvtPMXqa"
      }
    },
    {
      "cell_type": "code",
      "source": [
        "if resp.status_code == 200:\n",
        "    # konwersja odpowiedzi JSON → Python (lista słowników)\n",
        "    data = resp.json()\n",
        "    print(type(data))\n",
        "    # sprawdź typ pierwszego elementu\n",
        "    print(type(data[0]))\n",
        "    # zamiana listy słowników na tabelę Pandas\n",
        "\n",
        "\n",
        "\n",
        "else:\n",
        "    # jeśli status ≠ 200, wyświetlamy komunikat błędu\n",
        "    print(\"Błąd:\", resp.text)"
      ],
      "metadata": {
        "id": "0FRA2o6pxeoS",
        "colab": {
          "base_uri": "https://localhost:8080/"
        },
        "outputId": "ba9cc76c-0f52-430f-e24f-c25fe21d46a3"
      },
      "execution_count": 87,
      "outputs": [
        {
          "output_type": "stream",
          "name": "stdout",
          "text": [
            "<class 'list'>\n",
            "<class 'dict'>\n"
          ]
        }
      ]
    },
    {
      "cell_type": "markdown",
      "source": [
        "SPRAWDZENIE 1SZY ELEMNTOW POSZCZEGOLNYCH POL JAKIEGO SA TYPU"
      ],
      "metadata": {
        "id": "2nfxYiEEa3Jv"
      }
    },
    {
      "cell_type": "code",
      "source": [
        "print(type(data[0][\"name\"]))\n",
        "print(type(data[0][\"capital\"]))\n",
        "print(type(data[0][\"region\"]))\n",
        "print(type(data[0][\"subregion\"]))\n",
        "print(type(data[0][\"population\"]))\n",
        "print(type(data[0][\"area\"]))\n",
        "print(type(data[0][\"currencies\"]))\n",
        "print(type(data[0][\"languages\"]))\n",
        "print(type(data[0][\"timezones\"]))\n",
        "print(type(data[0][\"flags\"]))\n"
      ],
      "metadata": {
        "colab": {
          "base_uri": "https://localhost:8080/"
        },
        "id": "cSleZ4Y7a7Iv",
        "outputId": "a5bfe290-716e-4a38-e2f9-b42ecab331c9"
      },
      "execution_count": 88,
      "outputs": [
        {
          "output_type": "stream",
          "name": "stdout",
          "text": [
            "<class 'dict'>\n",
            "<class 'list'>\n",
            "<class 'str'>\n",
            "<class 'str'>\n",
            "<class 'int'>\n",
            "<class 'float'>\n",
            "<class 'dict'>\n",
            "<class 'dict'>\n",
            "<class 'list'>\n",
            "<class 'dict'>\n"
          ]
        }
      ]
    },
    {
      "cell_type": "markdown",
      "source": [
        "SPRAWDZENIE WEWNATRZ WSZYSTKICH ZAGNIEZDZEN ILE ICH JEST I JAKIEGO SA TYPU ZA POMACA REKURENCYJNEJ FUNKCJI"
      ],
      "metadata": {
        "id": "0sKEfLIlJpcg"
      }
    },
    {
      "cell_type": "code",
      "source": [
        "def describe(val):\n",
        "    # jeśli to słownik\n",
        "    if isinstance(val, dict):\n",
        "        return {k: describe(v) for k, v in val.items()}\n",
        "    # jeśli to lista\n",
        "    elif isinstance(val, list) and len(val) > 0:\n",
        "        return {\"list_of\": describe(val[0])}\n",
        "    # proste typy\n",
        "    else:\n",
        "        return type(val).__name__\n",
        "\n",
        "# użycie:\n",
        "sample = data[0]  # pierwszy rekord z JSON\n",
        "field_types = {k: describe(v) for k, v in sample.items()}\n",
        "\n",
        "print(field_types)"
      ],
      "metadata": {
        "colab": {
          "base_uri": "https://localhost:8080/"
        },
        "id": "F8uyWnMCCxXc",
        "outputId": "bb935185-72d0-45af-bb8e-dd0916dd95d9"
      },
      "execution_count": 89,
      "outputs": [
        {
          "output_type": "stream",
          "name": "stdout",
          "text": [
            "{'flags': {'png': 'str', 'svg': 'str', 'alt': 'str'}, 'name': {'common': 'str', 'official': 'str', 'nativeName': {'eng': {'official': 'str', 'common': 'str'}, 'jam': {'official': 'str', 'common': 'str'}}}, 'currencies': {'JMD': {'name': 'str', 'symbol': 'str'}}, 'capital': {'list_of': 'str'}, 'region': 'str', 'subregion': 'str', 'languages': {'eng': 'str', 'jam': 'str'}, 'area': 'float', 'population': 'int', 'timezones': {'list_of': 'str'}}\n"
          ]
        }
      ]
    },
    {
      "cell_type": "markdown",
      "source": [
        "PRZEDSTAWIENIE STRURY I TYPY WEW. JSON PLIKU W SPOSOB UMOZLIWJACA NAOCZNA WERYFIKACJE"
      ],
      "metadata": {
        "id": "jnClSJjVJ5y-"
      }
    },
    {
      "cell_type": "code",
      "source": [
        "\n",
        "\n",
        "print(json.dumps(field_types, indent=2))\n"
      ],
      "metadata": {
        "colab": {
          "base_uri": "https://localhost:8080/"
        },
        "id": "xUu69mthHAK3",
        "outputId": "1cab04f7-a372-46c4-a16f-6bb482558a2a"
      },
      "execution_count": 90,
      "outputs": [
        {
          "output_type": "stream",
          "name": "stdout",
          "text": [
            "{\n",
            "  \"flags\": {\n",
            "    \"png\": \"str\",\n",
            "    \"svg\": \"str\",\n",
            "    \"alt\": \"str\"\n",
            "  },\n",
            "  \"name\": {\n",
            "    \"common\": \"str\",\n",
            "    \"official\": \"str\",\n",
            "    \"nativeName\": {\n",
            "      \"eng\": {\n",
            "        \"official\": \"str\",\n",
            "        \"common\": \"str\"\n",
            "      },\n",
            "      \"jam\": {\n",
            "        \"official\": \"str\",\n",
            "        \"common\": \"str\"\n",
            "      }\n",
            "    }\n",
            "  },\n",
            "  \"currencies\": {\n",
            "    \"JMD\": {\n",
            "      \"name\": \"str\",\n",
            "      \"symbol\": \"str\"\n",
            "    }\n",
            "  },\n",
            "  \"capital\": {\n",
            "    \"list_of\": \"str\"\n",
            "  },\n",
            "  \"region\": \"str\",\n",
            "  \"subregion\": \"str\",\n",
            "  \"languages\": {\n",
            "    \"eng\": \"str\",\n",
            "    \"jam\": \"str\"\n",
            "  },\n",
            "  \"area\": \"float\",\n",
            "  \"population\": \"int\",\n",
            "  \"timezones\": {\n",
            "    \"list_of\": \"str\"\n",
            "  }\n",
            "}\n"
          ]
        }
      ]
    },
    {
      "cell_type": "markdown",
      "source": [
        "SPRAWDZAM JAKA WERSJE PYDANTIC MAM"
      ],
      "metadata": {
        "id": "908IKWCEydiu"
      }
    },
    {
      "cell_type": "code",
      "source": [
        "import pydantic\n",
        "print(pydantic.VERSION)"
      ],
      "metadata": {
        "colab": {
          "base_uri": "https://localhost:8080/"
        },
        "id": "cDIiPMluycqg",
        "outputId": "dbcdb152-cf75-4c4b-8583-07b66d2c1a54"
      },
      "execution_count": 91,
      "outputs": [
        {
          "output_type": "stream",
          "name": "stdout",
          "text": [
            "2.11.7\n"
          ]
        }
      ]
    },
    {
      "cell_type": "markdown",
      "source": [
        "WALIDACJA Z PYDANTIC (weryfikacja czy typy i klasy sa prawidlowe)"
      ],
      "metadata": {
        "id": "-FvS1j39jJkF"
      }
    },
    {
      "cell_type": "code",
      "source": [
        "\n",
        "from typing import List, Optional, Dict\n",
        "from pydantic import BaseModel, ValidationError\n",
        "\n",
        "class Flags(BaseModel):\n",
        "    png: str\n",
        "    svg: str\n",
        "    alt: str\n",
        "\n",
        "class NativeNameEntry(BaseModel):\n",
        "    official: str\n",
        "    common: str\n",
        "\n",
        "class Name(BaseModel):\n",
        "    common: str\n",
        "    official: str\n",
        "    nativeName: Optional[Dict[str, NativeNameEntry]]\n",
        "\n",
        "class Currency(BaseModel):\n",
        "    name: str\n",
        "    symbol: str\n",
        "\n",
        "\n",
        "\n",
        "class Country(BaseModel):\n",
        "    name: Name\n",
        "    flags: Flags\n",
        "    currencies: Optional[Dict[str, Currency]]  # This line uses Currency\n",
        "    capital: List[str]\n",
        "    region: str\n",
        "    subregion: Optional[str]\n",
        "    languages: Dict[str, str]\n",
        "    area: Optional[float]\n",
        "    population: int\n",
        "    timezones: List[str]\n",
        "\n",
        "\n",
        "# Usage:\n",
        "try:\n",
        "    countries = [Country(**item) for item in data]\n",
        "    print(f\"Validated {len(countries)} countries successfully\")\n",
        "except ValidationError as e:\n",
        "    print(f\"Validation error: {e}\")"
      ],
      "metadata": {
        "colab": {
          "base_uri": "https://localhost:8080/"
        },
        "id": "iwd2qYjFDLFd",
        "outputId": "2cf8210d-56de-45b7-fddd-e91c7c140e0e"
      },
      "execution_count": 92,
      "outputs": [
        {
          "output_type": "stream",
          "name": "stdout",
          "text": [
            "Validated 250 countries successfully\n"
          ]
        }
      ]
    },
    {
      "cell_type": "markdown",
      "source": [
        "SPRAWDZAM CZY W OPCJONALNYCH FIELDS SA JAKIEKOLWIEK BRAKI DANYCH"
      ],
      "metadata": {
        "id": "r-QexryonjA3"
      }
    },
    {
      "cell_type": "code",
      "source": [
        "# Get all optional fields from your model\n",
        "optional_fields = []\n",
        "for field_name, field_info in Country.model_fields.items():\n",
        "    if not field_info.is_required():\n",
        "        optional_fields.append(field_name)\n",
        "\n",
        "print(f\"Optional fields: {optional_fields}\")\n",
        "\n",
        "# Check which optional fields are missing in each country\n",
        "for i, item in enumerate(data):\n",
        "    missing_optional = []\n",
        "    for field in optional_fields:\n",
        "        if field not in item or item[field] is None:\n",
        "            missing_optional.append(field)\n",
        "\n",
        "    if missing_optional:\n",
        "        print(f\"Country {i}: Missing optional data: {missing_optional}\")\n"
      ],
      "metadata": {
        "id": "lPVYwPJmUdH8",
        "colab": {
          "base_uri": "https://localhost:8080/"
        },
        "outputId": "a40bbc2a-7a2d-47c2-aab7-141819eca17f"
      },
      "execution_count": 93,
      "outputs": [
        {
          "output_type": "stream",
          "name": "stdout",
          "text": [
            "Optional fields: []\n"
          ]
        }
      ]
    },
    {
      "cell_type": "code",
      "source": [
        "for field_name, field_info in Country.model_fields.items():\n",
        "    print(f\"{field_name}: required={field_info.is_required()}\")"
      ],
      "metadata": {
        "id": "soF7nbgY0u-F",
        "outputId": "4041da7e-f67e-4e6e-cecf-17c27a04213c",
        "colab": {
          "base_uri": "https://localhost:8080/"
        }
      },
      "execution_count": 94,
      "outputs": [
        {
          "output_type": "stream",
          "name": "stdout",
          "text": [
            "name: required=True\n",
            "flags: required=True\n",
            "currencies: required=True\n",
            "capital: required=True\n",
            "region: required=True\n",
            "subregion: required=True\n",
            "languages: required=True\n",
            "area: required=True\n",
            "population: required=True\n",
            "timezones: required=True\n"
          ]
        }
      ]
    },
    {
      "cell_type": "code",
      "source": [
        "# 2. Serializacja → zapis danych do pliku JSON\n",
        "with open(\"countries.json\", \"w\") as f:   # \"w\" = write = zapis\n",
        "    json.dump(data, f, indent=2)         # indent=2 = czytelne formatowanie\n",
        "print(\"Dane zapisane do pliku countries.json\")\n",
        "\n",
        "# 3. Odczyt JSON z pliku\n",
        "with open(\"countries.json\", \"r\") as f:   # \"r\" = read = odczyt\n",
        "    loaded_data = json.load(f)\n",
        "\n",
        "print(f\"Odczytano {len(loaded_data)} rekordów z pliku\")\n",
        "\n",
        "# 4. Konwersja do DataFrame\n",
        "df = pd.json_normalize(loaded_data)\n",
        "\n",
        "print(\"DataFrame utworzony:\", df.shape)\n",
        "print(df.head(3))  # podgląd pierwszych wierszy\n"
      ],
      "metadata": {
        "colab": {
          "base_uri": "https://localhost:8080/"
        },
        "id": "p6pX9NLuaa7C",
        "outputId": "533e1be8-b9b3-4f16-d4b1-143303040597"
      },
      "execution_count": 95,
      "outputs": [
        {
          "output_type": "stream",
          "name": "stdout",
          "text": [
            "Dane zapisane do pliku countries.json\n",
            "Odczytano 250 rekordów z pliku\n",
            "DataFrame utworzony: (250, 795)\n",
            "      capital    region        subregion      area  population    timezones  \\\n",
            "0  [Kingston]  Americas        Caribbean   10991.0     2961161  [UTC-05:00]   \n",
            "1    [Moroni]    Africa   Eastern Africa    1862.0      869595  [UTC+03:00]   \n",
            "2    [Harare]    Africa  Southern Africa  390757.0    14862927  [UTC+02:00]   \n",
            "\n",
            "                         flags.png                   flags.svg  \\\n",
            "0  https://flagcdn.com/w320/jm.png  https://flagcdn.com/jm.svg   \n",
            "1  https://flagcdn.com/w320/km.png  https://flagcdn.com/km.svg   \n",
            "2  https://flagcdn.com/w320/zw.png  https://flagcdn.com/zw.svg   \n",
            "\n",
            "                                           flags.alt name.common  ...  \\\n",
            "0  The flag of Jamaica is divided by a gold diago...     Jamaica  ...   \n",
            "1  The flag of Comoros is composed of four equal ...     Comoros  ...   \n",
            "2  The flag of Zimbabwe is composed of seven equa...    Zimbabwe  ...   \n",
            "\n",
            "  name.nativeName.mfe.common currencies.MUR.name currencies.MUR.symbol  \\\n",
            "0                        NaN                 NaN                   NaN   \n",
            "1                        NaN                 NaN                   NaN   \n",
            "2                        NaN                 NaN                   NaN   \n",
            "\n",
            "  languages.mfe currencies.KYD.name currencies.KYD.symbol  \\\n",
            "0           NaN                 NaN                   NaN   \n",
            "1           NaN                 NaN                   NaN   \n",
            "2           NaN                 NaN                   NaN   \n",
            "\n",
            "  name.nativeName.bar.official name.nativeName.bar.common currencies.LRD.name  \\\n",
            "0                          NaN                        NaN                 NaN   \n",
            "1                          NaN                        NaN                 NaN   \n",
            "2                          NaN                        NaN                 NaN   \n",
            "\n",
            "  currencies.LRD.symbol  \n",
            "0                   NaN  \n",
            "1                   NaN  \n",
            "2                   NaN  \n",
            "\n",
            "[3 rows x 795 columns]\n"
          ]
        }
      ]
    },
    {
      "cell_type": "markdown",
      "source": [
        "WALIDACJA RECZNA W DATAFRAME"
      ],
      "metadata": {
        "id": "fCQOTPtABuf7"
      }
    },
    {
      "cell_type": "code",
      "source": [
        "# 5. Walidacja ręczna typu danych\n",
        "\n",
        "# Sprawdzenie czy wszystkie wartości w kolumnie \"population\" to int\n",
        "population_type_check = df[\"population\"].apply(lambda x: isinstance(x, int))\n",
        "\n",
        "# Sprawdzenie czy wszystkie wartości w kolumnie \"area\" to int lub float\n",
        "area_type_check = df[\"area\"].apply(lambda x: isinstance(x, (int, float)))\n",
        "\n",
        "# Wiersze z błędnym typem w \"population\"\n",
        "invalid_population = df[~population_type_check]\n",
        "print(f\"Liczba rekordów z niepoprawnym population: {len(invalid_population)}\")\n",
        "if not invalid_population.empty:\n",
        "    print(invalid_population[[\"name.common\", \"population\"]])\n",
        "\n",
        "# Wiersze z błędnym typem w \"area\"\n",
        "invalid_area = df[~area_type_check]\n",
        "print(f\"Liczba rekordów z niepoprawnym area: {len(invalid_area)}\")\n",
        "if not invalid_area.empty:\n",
        "    print(invalid_area[[\"name.common\", \"area\"]])\n"
      ],
      "metadata": {
        "colab": {
          "base_uri": "https://localhost:8080/"
        },
        "id": "rskQM7g2BtsE",
        "outputId": "ec357a7b-ab9b-4092-b19b-df69b48faf7b"
      },
      "execution_count": 96,
      "outputs": [
        {
          "output_type": "stream",
          "name": "stdout",
          "text": [
            "Liczba rekordów z niepoprawnym population: 0\n",
            "Liczba rekordów z niepoprawnym area: 0\n"
          ]
        }
      ]
    },
    {
      "cell_type": "markdown",
      "source": [
        "CZYSZCZENIE DANYCH"
      ],
      "metadata": {
        "id": "CTSLnM8UfwV-"
      }
    },
    {
      "cell_type": "markdown",
      "source": [
        "Sprawdzenie braków (NaN) w całym DataFrame"
      ],
      "metadata": {
        "id": "AmfLCTwlg6zZ"
      }
    },
    {
      "cell_type": "code",
      "source": [
        "print(\"\\n6. Czyszczenie danych\\n\")\n",
        "\n",
        "# 6.1 Sprawdzenie braków (NaN) w całym DataFrame\n",
        "print(\"Braki danych (NaN) w kolumnach:\")\n",
        "print(df.isna().sum())#\n",
        "print(len(df.isna().sum()))## sprawdzenie ilosci wierszy\n",
        "missing = df.isna().sum()# pokazanie probek sprawdzenia\n",
        "print(missing[missing > 0])# pokazanie tych brakujacych (ale nie calej listy)\n"
      ],
      "metadata": {
        "colab": {
          "base_uri": "https://localhost:8080/"
        },
        "id": "xxlV-aoyfyjv",
        "outputId": "5d943265-4a4b-4736-de8c-118ab4c549a7"
      },
      "execution_count": 97,
      "outputs": [
        {
          "output_type": "stream",
          "name": "stdout",
          "text": [
            "\n",
            "6. Czyszczenie danych\n",
            "\n",
            "Braki danych (NaN) w kolumnach:\n",
            "capital                           0\n",
            "region                            0\n",
            "subregion                         0\n",
            "area                              0\n",
            "population                        0\n",
            "                               ... \n",
            "currencies.KYD.symbol           249\n",
            "name.nativeName.bar.official    249\n",
            "name.nativeName.bar.common      249\n",
            "currencies.LRD.name             249\n",
            "currencies.LRD.symbol           249\n",
            "Length: 795, dtype: int64\n",
            "795\n",
            "name.nativeName.eng.official    160\n",
            "name.nativeName.eng.common      160\n",
            "name.nativeName.jam.official    249\n",
            "name.nativeName.jam.common      249\n",
            "currencies.JMD.name             249\n",
            "                               ... \n",
            "currencies.KYD.symbol           249\n",
            "name.nativeName.bar.official    249\n",
            "name.nativeName.bar.common      249\n",
            "currencies.LRD.name             249\n",
            "currencies.LRD.symbol           249\n",
            "Length: 784, dtype: int64\n"
          ]
        }
      ]
    },
    {
      "cell_type": "markdown",
      "source": [
        "WYSWIETLENIE WSZYSTKICH WIERSZY GDZIE SA BRAKI"
      ],
      "metadata": {
        "id": "y2ZTCkDyi6mr"
      }
    },
    {
      "cell_type": "code",
      "source": [
        "import pandas as pd\n",
        "\n",
        "pd.set_option(\"display.max_rows\", None)   # pokaż wszystkie kolumny\n",
        "print(missing[missing > 0])\n",
        "pd.reset_option(\"display.max_rows\")       # przywróć domyślne\n",
        "missing[missing > 0].to_csv(\"braki.csv\")\n"
      ],
      "metadata": {
        "colab": {
          "base_uri": "https://localhost:8080/"
        },
        "id": "lu8faU_ygswT",
        "outputId": "5c389081-fdff-4aea-bbd8-2ed7e767e8d9"
      },
      "execution_count": 98,
      "outputs": [
        {
          "output_type": "stream",
          "name": "stdout",
          "text": [
            "name.nativeName.eng.official    160\n",
            "name.nativeName.eng.common      160\n",
            "name.nativeName.jam.official    249\n",
            "name.nativeName.jam.common      249\n",
            "currencies.JMD.name             249\n",
            "currencies.JMD.symbol           249\n",
            "languages.eng                   159\n",
            "languages.jam                   249\n",
            "name.nativeName.ara.official    225\n",
            "name.nativeName.ara.common      225\n",
            "name.nativeName.fra.official    204\n",
            "name.nativeName.fra.common      204\n",
            "name.nativeName.zdj.official    249\n",
            "name.nativeName.zdj.common      249\n",
            "currencies.KMF.name             249\n",
            "currencies.KMF.symbol           249\n",
            "languages.ara                   225\n",
            "languages.fra                   204\n",
            "languages.zdj                   249\n",
            "name.nativeName.bwg.official    249\n",
            "name.nativeName.bwg.common      249\n",
            "name.nativeName.kck.official    249\n",
            "name.nativeName.kck.common      249\n",
            "name.nativeName.khi.official    249\n",
            "name.nativeName.khi.common      249\n",
            "name.nativeName.ndc.official    249\n",
            "name.nativeName.ndc.common      249\n",
            "name.nativeName.nde.official    249\n",
            "name.nativeName.nde.common      249\n",
            "name.nativeName.nya.official    248\n",
            "name.nativeName.nya.common      248\n",
            "name.nativeName.sna.official    249\n",
            "name.nativeName.sna.common      249\n",
            "name.nativeName.sot.official    247\n",
            "name.nativeName.sot.common      247\n",
            "name.nativeName.toi.official    249\n",
            "name.nativeName.toi.common      249\n",
            "name.nativeName.tsn.official    246\n",
            "name.nativeName.tsn.common      246\n",
            "name.nativeName.tso.official    248\n",
            "name.nativeName.tso.common      248\n",
            "name.nativeName.ven.official    248\n",
            "name.nativeName.ven.common      248\n",
            "name.nativeName.xho.official    248\n",
            "name.nativeName.xho.common      248\n",
            "name.nativeName.zib.official    249\n",
            "name.nativeName.zib.common      249\n",
            "currencies.ZWL.name             249\n",
            "currencies.ZWL.symbol           249\n",
            "languages.bwg                   249\n",
            "languages.kck                   249\n",
            "languages.khi                   249\n",
            "languages.ndc                   249\n",
            "languages.nde                   249\n",
            "languages.nya                   248\n",
            "languages.sna                   249\n",
            "languages.sot                   247\n",
            "languages.toi                   249\n",
            "languages.tsn                   246\n",
            "languages.tso                   248\n",
            "languages.ven                   248\n",
            "languages.xho                   248\n",
            "languages.zib                   249\n",
            "name.nativeName.nld.official    243\n",
            "name.nativeName.nld.common      243\n",
            "currencies.ANG.name             248\n",
            "currencies.ANG.symbol           248\n",
            "languages.nld                   243\n",
            "name.nativeName.lao.official    249\n",
            "name.nativeName.lao.common      249\n",
            "currencies.LAK.name             249\n",
            "currencies.LAK.symbol           249\n",
            "languages.lao                   249\n",
            "name.nativeName.lav.official    249\n",
            "name.nativeName.lav.common      249\n",
            "currencies.EUR.name             214\n",
            "currencies.EUR.symbol           214\n",
            "languages.lav                   249\n",
            "name.nativeName.rus.official    243\n",
            "name.nativeName.rus.common      243\n",
            "name.nativeName.tgk.official    249\n",
            "name.nativeName.tgk.common      249\n",
            "currencies.TJS.name             249\n",
            "currencies.TJS.symbol           249\n",
            "languages.rus                   243\n",
            "languages.tgk                   249\n",
            "currencies.GBP.name             244\n",
            "currencies.GBP.symbol           244\n",
            "name.nativeName.spa.official    226\n",
            "name.nativeName.spa.common      226\n",
            "currencies.NIO.name             249\n",
            "currencies.NIO.symbol           249\n",
            "languages.spa                   226\n",
            "currencies.SDG.name             249\n",
            "currencies.SDG.symbol           249\n",
            "name.nativeName.ell.official    248\n",
            "name.nativeName.ell.common      248\n",
            "languages.ell                   248\n",
            "name.nativeName.lit.official    249\n",
            "name.nativeName.lit.common      249\n",
            "languages.lit                   249\n",
            "name.nativeName.kin.official    249\n",
            "name.nativeName.kin.common      249\n",
            "currencies.RWF.name             249\n",
            "currencies.RWF.symbol           249\n",
            "languages.kin                   249\n",
            "currencies.XOF.name             242\n",
            "currencies.XOF.symbol           242\n",
            "currencies.LSL.name             249\n",
            "currencies.LSL.symbol           249\n",
            "currencies.ZAR.name             246\n",
            "currencies.ZAR.symbol           246\n",
            "currencies.TND.name             249\n",
            "currencies.TND.symbol           249\n",
            "name.nativeName.bis.official    249\n",
            "name.nativeName.bis.common      249\n",
            "currencies.VUV.name             249\n",
            "currencies.VUV.symbol           249\n",
            "languages.bis                   249\n",
            "currencies.USD.name             230\n",
            "currencies.USD.symbol           230\n",
            "currencies.KWD.name             249\n",
            "currencies.KWD.symbol           249\n",
            "name.nativeName.fil.official    249\n",
            "name.nativeName.fil.common      249\n",
            "currencies.PHP.name             249\n",
            "currencies.PHP.symbol           249\n",
            "languages.fil                   249\n",
            "currencies.CLP.name             249\n",
            "currencies.CLP.symbol           249\n",
            "currencies.BSD.name             249\n",
            "currencies.BSD.symbol           249\n",
            "name.nativeName.swa.official    246\n",
            "name.nativeName.swa.common      246\n",
            "currencies.TZS.name             249\n",
            "currencies.TZS.symbol           249\n",
            "languages.swa                   246\n",
            "currencies.CRC.name             249\n",
            "currencies.CRC.symbol           249\n",
            "name.nativeName.ber.official    248\n",
            "name.nativeName.ber.common      248\n",
            "currencies.MAD.name             248\n",
            "currencies.MAD.symbol           248\n",
            "languages.ber                   248\n",
            "name.nativeName.cnr.official    249\n",
            "name.nativeName.cnr.common      249\n",
            "languages.cnr                   249\n",
            "name.nativeName.por.official    240\n",
            "name.nativeName.por.common      240\n",
            "languages.por                   240\n",
            "currencies.AED.name             249\n",
            "currencies.AED.symbol           249\n",
            "currencies.LYD.name             249\n",
            "currencies.LYD.symbol           249\n",
            "name.nativeName.deu.official    245\n",
            "name.nativeName.deu.common      245\n",
            "name.nativeName.ltz.official    249\n",
            "name.nativeName.ltz.common      249\n",
            "languages.deu                   244\n",
            "languages.ltz                   249\n",
            "name.nativeName.nrf.official    249\n",
            "name.nativeName.nrf.common      249\n",
            "currencies.JEP.name             249\n",
            "currencies.JEP.symbol           249\n",
            "languages.nrf                   249\n",
            "currencies.SBD.name             249\n",
            "currencies.SBD.symbol           249\n",
            "currencies.DZD.name             248\n",
            "currencies.DZD.symbol           248\n",
            "currencies.XCD.name             242\n",
            "currencies.XCD.symbol           242\n",
            "currencies.SHP.name             249\n",
            "currencies.SHP.symbol           249\n",
            "currencies.BRL.name             249\n",
            "currencies.BRL.symbol           249\n",
            "name.nativeName.urd.official    249\n",
            "name.nativeName.urd.common      249\n",
            "currencies.PKR.name             249\n",
            "currencies.PKR.symbol           249\n",
            "languages.urd                   249\n",
            "currencies.TTD.name             249\n",
            "currencies.TTD.symbol           249\n",
            "name.nativeName.hye.official    249\n",
            "name.nativeName.hye.common      249\n",
            "currencies.AMD.name             249\n",
            "currencies.AMD.symbol           249\n",
            "languages.hye                   249\n",
            "name.nativeName.ben.official    249\n",
            "name.nativeName.ben.common      249\n",
            "currencies.BDT.name             249\n",
            "currencies.BDT.symbol           249\n",
            "languages.ben                   249\n",
            "name.nativeName.tuk.official    248\n",
            "name.nativeName.tuk.common      248\n",
            "currencies.TMT.name             249\n",
            "currencies.TMT.symbol           249\n",
            "languages.tuk                   248\n",
            "name.nativeName.dan.official    248\n",
            "name.nativeName.dan.common      248\n",
            "name.nativeName.fao.official    249\n",
            "name.nativeName.fao.common      249\n",
            "currencies.DKK.name             247\n",
            "currencies.DKK.symbol           247\n",
            "currencies.FOK.name             249\n",
            "currencies.FOK.symbol           249\n",
            "languages.dan                   248\n",
            "languages.fao                   249\n",
            "name.nativeName.pau.official    249\n",
            "name.nativeName.pau.common      249\n",
            "languages.pau                   249\n",
            "currencies.CUC.name             249\n",
            "currencies.CUC.symbol           249\n",
            "currencies.CUP.name             249\n",
            "currencies.CUP.symbol           249\n",
            "currencies.XAF.name             244\n",
            "currencies.XAF.symbol           244\n",
            "name.nativeName.bos.official    249\n",
            "name.nativeName.bos.common      249\n",
            "name.nativeName.hrv.official    248\n",
            "name.nativeName.hrv.common      248\n",
            "name.nativeName.srp.official    247\n",
            "name.nativeName.srp.common      247\n",
            "currencies.BAM.name             249\n",
            "currencies.BAM.symbol           249\n",
            "languages.bos                   249\n",
            "languages.hrv                   248\n",
            "languages.srp                   247\n",
            "currencies.BWP.name             249\n",
            "currencies.BWP.symbol           249\n",
            "name.nativeName.est.official    249\n",
            "name.nativeName.est.common      249\n",
            "languages.est                   249\n",
            "name.nativeName.kal.official    249\n",
            "name.nativeName.kal.common      249\n",
            "languages.kal                   249\n",
            "currencies.AUD.name             243\n",
            "currencies.AUD.symbol           243\n",
            "currencies.NZD.name             245\n",
            "currencies.NZD.symbol           245\n",
            "name.nativeName.mey.official    249\n",
            "name.nativeName.mey.common      249\n",
            "currencies.MRU.name             248\n",
            "currencies.MRU.symbol           248\n",
            "languages.mey                   249\n",
            "currencies.BHD.name             249\n",
            "currencies.BHD.symbol           249\n",
            "currencies.DOP.name             249\n",
            "currencies.DOP.symbol           249\n",
            "name.nativeName.rar.official    249\n",
            "name.nativeName.rar.common      249\n",
            "currencies.CKD.name             249\n",
            "currencies.CKD.symbol           249\n",
            "languages.rar                   249\n",
            "currencies.COP.name             249\n",
            "currencies.COP.symbol           249\n",
            "currencies.GNF.name             249\n",
            "currencies.GNF.symbol           249\n",
            "name.nativeName.gle.official    249\n",
            "name.nativeName.gle.common      249\n",
            "languages.gle                   249\n",
            "name.nativeName.div.official    249\n",
            "name.nativeName.div.common      249\n",
            "currencies.MVR.name             249\n",
            "currencies.MVR.symbol           249\n",
            "languages.div                   249\n",
            "currencies.PAB.name             249\n",
            "currencies.PAB.symbol           249\n",
            "currencies.MZN.name             249\n",
            "currencies.MZN.symbol           249\n",
            "currencies.OMR.name             249\n",
            "currencies.OMR.symbol           249\n",
            "name.nativeName.ces.official    249\n",
            "name.nativeName.ces.common      249\n",
            "name.nativeName.slk.official    248\n",
            "name.nativeName.slk.common      248\n",
            "currencies.CZK.name             249\n",
            "currencies.CZK.symbol           249\n",
            "languages.ces                   249\n",
            "languages.slk                   248\n",
            "name.nativeName.hat.official    249\n",
            "name.nativeName.hat.common      249\n",
            "currencies.HTG.name             249\n",
            "currencies.HTG.symbol           249\n",
            "languages.hat                   249\n",
            "currencies.NGN.name             249\n",
            "currencies.NGN.symbol           249\n",
            "name.nativeName.afr.official    248\n",
            "name.nativeName.afr.common      248\n",
            "name.nativeName.her.official    249\n",
            "name.nativeName.her.common      249\n",
            "name.nativeName.hgm.official    249\n",
            "name.nativeName.hgm.common      249\n",
            "name.nativeName.kwn.official    249\n",
            "name.nativeName.kwn.common      249\n",
            "name.nativeName.loz.official    249\n",
            "name.nativeName.loz.common      249\n",
            "name.nativeName.ndo.official    249\n",
            "name.nativeName.ndo.common      249\n",
            "currencies.NAD.name             249\n",
            "currencies.NAD.symbol           249\n",
            "languages.afr                   248\n",
            "languages.her                   249\n",
            "languages.hgm                   249\n",
            "languages.kwn                   249\n",
            "languages.loz                   249\n",
            "languages.ndo                   249\n",
            "currencies.CAD.name             249\n",
            "currencies.CAD.symbol           249\n",
            "name.nativeName.nfr.official    249\n",
            "name.nativeName.nfr.common      249\n",
            "currencies.GGP.name             249\n",
            "currencies.GGP.symbol           249\n",
            "languages.nfr                   249\n",
            "name.nativeName.ind.official    249\n",
            "name.nativeName.ind.common      249\n",
            "currencies.IDR.name             249\n",
            "currencies.IDR.symbol           249\n",
            "languages.ind                   249\n",
            "currencies.YER.name             249\n",
            "currencies.YER.symbol           249\n",
            "currencies.EGP.name             248\n",
            "currencies.EGP.symbol           248\n",
            "currencies.ILS.name             248\n",
            "currencies.ILS.symbol           248\n",
            "currencies.JOD.name             248\n",
            "currencies.JOD.symbol           248\n",
            "name.nativeName.tir.official    249\n",
            "name.nativeName.tir.common      249\n",
            "currencies.ERN.name             249\n",
            "currencies.ERN.symbol           249\n",
            "languages.tir                   249\n",
            "name.nativeName.tur.official    248\n",
            "name.nativeName.tur.common      248\n",
            "languages.tur                   248\n",
            "name.nativeName.zho.official    245\n",
            "name.nativeName.zho.common      245\n",
            "currencies.HKD.name             249\n",
            "currencies.HKD.symbol           249\n",
            "languages.zho                   245\n",
            "name.nativeName.nor.official    248\n",
            "name.nativeName.nor.common      248\n",
            "languages.nor                   248\n",
            "name.nativeName.slv.official    249\n",
            "name.nativeName.slv.common      249\n",
            "languages.slv                   249\n",
            "name.nativeName.niu.official    249\n",
            "name.nativeName.niu.common      249\n",
            "languages.niu                   249\n",
            "name.nativeName.gil.official    249\n",
            "name.nativeName.gil.common      249\n",
            "currencies.KID.name             249\n",
            "currencies.KID.symbol           249\n",
            "languages.gil                   249\n",
            "name.nativeName.sqi.official    248\n",
            "name.nativeName.sqi.common      248\n",
            "languages.sqi                   248\n",
            "name.nativeName.sin.official    249\n",
            "name.nativeName.sin.common      249\n",
            "name.nativeName.tam.official    247\n",
            "name.nativeName.tam.common      247\n",
            "currencies.LKR.name             249\n",
            "currencies.LKR.symbol           249\n",
            "languages.sin                   249\n",
            "languages.tam                   247\n",
            "name.nativeName.heb.official    249\n",
            "name.nativeName.heb.common      249\n",
            "languages.heb                   249\n",
            "name.nativeName.swe.official    247\n",
            "name.nativeName.swe.common      247\n",
            "languages.swe                   247\n",
            "name.nativeName.cal.official    249\n",
            "name.nativeName.cal.common      249\n",
            "name.nativeName.cha.official    248\n",
            "name.nativeName.cha.common      248\n",
            "languages.cal                   249\n",
            "languages.cha                   248\n",
            "currencies.BMD.name             249\n",
            "currencies.BMD.symbol           249\n",
            "currencies.GIP.name             249\n",
            "currencies.GIP.symbol           249\n",
            "currencies.SYP.name             249\n",
            "currencies.SYP.symbol           249\n",
            "name.nativeName.tet.official    249\n",
            "name.nativeName.tet.common      249\n",
            "languages.tet                   249\n",
            "name.nativeName.ita.official    246\n",
            "name.nativeName.ita.common      246\n",
            "languages.ita                   246\n",
            "currencies.GMD.name             249\n",
            "currencies.GMD.symbol           249\n",
            "name.nativeName.aym.official    248\n",
            "name.nativeName.aym.common      248\n",
            "name.nativeName.que.official    248\n",
            "name.nativeName.que.common      248\n",
            "currencies.PEN.name             249\n",
            "currencies.PEN.symbol           249\n",
            "languages.aym                   248\n",
            "languages.que                   248\n",
            "name.nativeName.pov.official    249\n",
            "name.nativeName.pov.common      249\n",
            "languages.pov                   249\n",
            "currencies.SLE.name             249\n",
            "currencies.SLE.symbol           249\n",
            "currencies.TRY.name             249\n",
            "currencies.TRY.symbol           249\n",
            "name.nativeName.grn.official    247\n",
            "name.nativeName.grn.common      247\n",
            "currencies.BOB.name             249\n",
            "currencies.BOB.symbol           249\n",
            "languages.grn                   247\n",
            "name.nativeName.nno.official    249\n",
            "name.nativeName.nno.common      249\n",
            "name.nativeName.nob.official    249\n",
            "name.nativeName.nob.common      249\n",
            "name.nativeName.smi.official    249\n",
            "name.nativeName.smi.common      249\n",
            "currencies.NOK.name             248\n",
            "currencies.NOK.symbol           248\n",
            "languages.nno                   249\n",
            "languages.nob                   249\n",
            "languages.smi                   249\n",
            "name.nativeName.kon.official    248\n",
            "name.nativeName.kon.common      248\n",
            "name.nativeName.lin.official    248\n",
            "name.nativeName.lin.common      248\n",
            "languages.kon                   248\n",
            "languages.lin                   248\n",
            "name.nativeName.ssw.official    248\n",
            "name.nativeName.ssw.common      248\n",
            "currencies.SZL.name             249\n",
            "currencies.SZL.symbol           249\n",
            "languages.ssw                   248\n",
            "currencies.PYG.name             249\n",
            "currencies.PYG.symbol           249\n",
            "name.nativeName.ukr.official    249\n",
            "name.nativeName.ukr.common      249\n",
            "currencies.UAH.name             249\n",
            "currencies.UAH.symbol           249\n",
            "languages.ukr                   249\n",
            "name.nativeName.msa.official    247\n",
            "name.nativeName.msa.common      247\n",
            "currencies.MYR.name             249\n",
            "currencies.MYR.symbol           249\n",
            "languages.msa                   247\n",
            "name.nativeName.ton.official    249\n",
            "name.nativeName.ton.common      249\n",
            "currencies.TOP.name             249\n",
            "currencies.TOP.symbol           249\n",
            "languages.ton                   249\n",
            "currencies.SEK.name             249\n",
            "currencies.SEK.symbol           249\n",
            "name.nativeName.tvl.official    249\n",
            "name.nativeName.tvl.common      249\n",
            "currencies.TVD.name             249\n",
            "currencies.TVD.symbol           249\n",
            "languages.tvl                   249\n",
            "name.nativeName.mon.official    249\n",
            "name.nativeName.mon.common      249\n",
            "currencies.MNT.name             249\n",
            "currencies.MNT.symbol           249\n",
            "languages.mon                   249\n",
            "name.nativeName.nbl.official    249\n",
            "name.nativeName.nbl.common      249\n",
            "name.nativeName.nso.official    249\n",
            "name.nativeName.nso.common      249\n",
            "name.nativeName.zul.official    249\n",
            "name.nativeName.zul.common      249\n",
            "languages.nbl                   249\n",
            "languages.nso                   249\n",
            "languages.zul                   249\n",
            "name.nativeName.pap.official    247\n",
            "name.nativeName.pap.common      247\n",
            "languages.pap                   247\n",
            "currencies.GHS.name             249\n",
            "currencies.GHS.symbol           249\n",
            "name.nativeName.arc.official    249\n",
            "name.nativeName.arc.common      249\n",
            "name.nativeName.ckb.official    249\n",
            "name.nativeName.ckb.common      249\n",
            "currencies.IQD.name             249\n",
            "currencies.IQD.symbol           249\n",
            "languages.arc                   249\n",
            "languages.ckb                   249\n",
            "name.nativeName.vie.official    249\n",
            "name.nativeName.vie.common      249\n",
            "currencies.VND.name             249\n",
            "currencies.VND.symbol           249\n",
            "languages.vie                   249\n",
            "currencies.GYD.name             249\n",
            "currencies.GYD.symbol           249\n",
            "name.nativeName.aze.official    249\n",
            "name.nativeName.aze.common      249\n",
            "currencies.AZN.name             249\n",
            "currencies.AZN.symbol           249\n",
            "languages.aze                   249\n",
            "name.nativeName.isl.official    249\n",
            "name.nativeName.isl.common      249\n",
            "currencies.ISK.name             249\n",
            "currencies.ISK.symbol           249\n",
            "languages.isl                   249\n",
            "currencies.VES.name             249\n",
            "currencies.VES.symbol           249\n",
            "currencies.BBD.name             249\n",
            "currencies.BBD.symbol           249\n",
            "currencies.FKP.name             249\n",
            "currencies.FKP.symbol           249\n",
            "currencies.MWK.name             249\n",
            "currencies.MWK.symbol           249\n",
            "name.nativeName.kir.official    249\n",
            "name.nativeName.kir.common      249\n",
            "currencies.KGS.name             249\n",
            "currencies.KGS.symbol           249\n",
            "languages.kir                   249\n",
            "currencies.TWD.name             249\n",
            "currencies.TWD.symbol           249\n",
            "name.nativeName.bul.official    249\n",
            "name.nativeName.bul.common      249\n",
            "currencies.BGN.name             249\n",
            "currencies.BGN.symbol           249\n",
            "languages.bul                   249\n",
            "name.nativeName.kor.official    248\n",
            "name.nativeName.kor.common      248\n",
            "currencies.KPW.name             249\n",
            "currencies.KPW.symbol           249\n",
            "languages.kor                   248\n",
            "name.nativeName.cat.official    249\n",
            "name.nativeName.cat.common      249\n",
            "languages.cat                   247\n",
            "currencies.AOA.name             249\n",
            "currencies.AOA.symbol           249\n",
            "currencies.RUB.name             249\n",
            "currencies.RUB.symbol           249\n",
            "name.nativeName.lat.official    249\n",
            "name.nativeName.lat.common      249\n",
            "languages.lat                   249\n",
            "name.nativeName.glv.official    249\n",
            "name.nativeName.glv.common      249\n",
            "currencies.IMP.name             249\n",
            "currencies.IMP.symbol           249\n",
            "languages.glv                   249\n",
            "name.nativeName.prs.official    249\n",
            "name.nativeName.prs.common      249\n",
            "name.nativeName.pus.official    249\n",
            "name.nativeName.pus.common      249\n",
            "currencies.AFN.name             249\n",
            "currencies.AFN.symbol           249\n",
            "languages.prs                   249\n",
            "languages.pus                   249\n",
            "name.nativeName.dzo.official    249\n",
            "name.nativeName.dzo.common      249\n",
            "currencies.BTN.name             249\n",
            "currencies.BTN.symbol           249\n",
            "currencies.INR.name             248\n",
            "currencies.INR.symbol           248\n",
            "languages.dzo                   249\n",
            "name.nativeName.bel.official    249\n",
            "name.nativeName.bel.common      249\n",
            "currencies.BYN.name             249\n",
            "currencies.BYN.symbol           249\n",
            "languages.bel                   249\n",
            "name.nativeName.mri.official    249\n",
            "name.nativeName.mri.common      249\n",
            "name.nativeName.nzs.official    249\n",
            "name.nativeName.nzs.common      249\n",
            "languages.mri                   249\n",
            "languages.nzs                   249\n",
            "name.nativeName.mlg.official    249\n",
            "name.nativeName.mlg.common      249\n",
            "currencies.MGA.name             249\n",
            "currencies.MGA.symbol           249\n",
            "languages.mlg                   249\n",
            "name.nativeName.tha.official    249\n",
            "name.nativeName.tha.common      249\n",
            "currencies.THB.name             249\n",
            "currencies.THB.symbol           249\n",
            "languages.tha                   249\n",
            "name.nativeName.kat.official    249\n",
            "name.nativeName.kat.common      249\n",
            "currencies.GEL.name             249\n",
            "currencies.GEL.symbol           249\n",
            "languages.kat                   249\n",
            "name.nativeName.hin.official    249\n",
            "name.nativeName.hin.common      249\n",
            "languages.hin                   249\n",
            "currencies.CNY.name             249\n",
            "currencies.CNY.symbol           249\n",
            "currencies.DJF.name             249\n",
            "currencies.DJF.symbol           249\n",
            "currencies.SAR.name             249\n",
            "currencies.SAR.symbol           249\n",
            "name.nativeName.fas.official    249\n",
            "name.nativeName.fas.common      249\n",
            "currencies.IRR.name             249\n",
            "currencies.IRR.symbol           249\n",
            "languages.fas                   249\n",
            "currencies.ZMW.name             249\n",
            "currencies.ZMW.symbol           249\n",
            "name.nativeName.amh.official    249\n",
            "name.nativeName.amh.common      249\n",
            "currencies.ETB.name             249\n",
            "currencies.ETB.symbol           249\n",
            "languages.amh                   249\n",
            "currencies.MOP.name             249\n",
            "currencies.MOP.symbol           249\n",
            "currencies.GTQ.name             249\n",
            "currencies.GTQ.symbol           249\n",
            "currencies.SRD.name             249\n",
            "currencies.SRD.symbol           249\n",
            "currencies.UYU.name             249\n",
            "currencies.UYU.symbol           249\n",
            "currencies.XPF.name             247\n",
            "currencies.XPF.symbol           247\n",
            "name.nativeName.fij.official    249\n",
            "name.nativeName.fij.common      249\n",
            "name.nativeName.hif.official    249\n",
            "name.nativeName.hif.common      249\n",
            "currencies.FJD.name             249\n",
            "currencies.FJD.symbol           249\n",
            "languages.fij                   249\n",
            "languages.hif                   249\n",
            "currencies.AWG.name             249\n",
            "currencies.AWG.symbol           249\n",
            "currencies.STN.name             249\n",
            "currencies.STN.symbol           249\n",
            "name.nativeName.gsw.official    249\n",
            "name.nativeName.gsw.common      249\n",
            "name.nativeName.roh.official    249\n",
            "name.nativeName.roh.common      249\n",
            "currencies.CHF.name             248\n",
            "currencies.CHF.symbol           248\n",
            "languages.gsw                   249\n",
            "languages.roh                   249\n",
            "name.nativeName.lua.official    249\n",
            "name.nativeName.lua.common      249\n",
            "currencies.CDF.name             249\n",
            "currencies.CDF.symbol           249\n",
            "languages.lua                   249\n",
            "name.nativeName.fin.official    249\n",
            "name.nativeName.fin.common      249\n",
            "languages.fin                   249\n",
            "name.nativeName.mlt.official    249\n",
            "name.nativeName.mlt.common      249\n",
            "languages.mlt                   249\n",
            "name.nativeName.smo.official    247\n",
            "name.nativeName.smo.common      247\n",
            "name.nativeName.tkl.official    249\n",
            "name.nativeName.tkl.common      249\n",
            "languages.smo                   247\n",
            "languages.tkl                   249\n",
            "name.nativeName.nau.official    249\n",
            "name.nativeName.nau.common      249\n",
            "languages.nau                   249\n",
            "name.nativeName.pol.official    249\n",
            "name.nativeName.pol.common      249\n",
            "currencies.PLN.name             249\n",
            "currencies.PLN.symbol           249\n",
            "languages.pol                   249\n",
            "name.nativeName.mkd.official    249\n",
            "name.nativeName.mkd.common      249\n",
            "currencies.MKD.name             249\n",
            "currencies.MKD.symbol           249\n",
            "languages.mkd                   249\n",
            "name.nativeName.mya.official    249\n",
            "name.nativeName.mya.common      249\n",
            "currencies.MMK.name             249\n",
            "currencies.MMK.symbol           249\n",
            "languages.mya                   249\n",
            "currencies.QAR.name             249\n",
            "currencies.QAR.symbol           249\n",
            "name.nativeName.pih.official    249\n",
            "name.nativeName.pih.common      249\n",
            "languages.pih                   249\n",
            "name.nativeName.crs.official    249\n",
            "name.nativeName.crs.common      249\n",
            "currencies.SCR.name             249\n",
            "currencies.SCR.symbol           249\n",
            "languages.crs                   249\n",
            "name.nativeName.ron.official    248\n",
            "name.nativeName.ron.common      248\n",
            "currencies.MDL.name             249\n",
            "currencies.MDL.symbol           249\n",
            "languages.ron                   248\n",
            "currencies.SSP.name             249\n",
            "currencies.SSP.symbol           249\n",
            "currencies.BND.name             249\n",
            "currencies.BND.symbol           249\n",
            "currencies.SGD.name             248\n",
            "currencies.SGD.symbol           248\n",
            "name.nativeName.jpn.official    249\n",
            "name.nativeName.jpn.common      249\n",
            "currencies.JPY.name             249\n",
            "currencies.JPY.symbol           249\n",
            "languages.jpn                   249\n",
            "languages.eus                   249\n",
            "languages.glc                   249\n",
            "name.nativeName.hmo.official    249\n",
            "name.nativeName.hmo.common      249\n",
            "name.nativeName.tpi.official    249\n",
            "name.nativeName.tpi.common      249\n",
            "currencies.PGK.name             249\n",
            "currencies.PGK.symbol           249\n",
            "languages.hmo                   249\n",
            "languages.tpi                   249\n",
            "name.nativeName.uzb.official    249\n",
            "name.nativeName.uzb.common      249\n",
            "currencies.UZS.name             249\n",
            "currencies.UZS.symbol           249\n",
            "languages.uzb                   249\n",
            "currencies.ARS.name             249\n",
            "currencies.ARS.symbol           249\n",
            "currencies.KRW.name             249\n",
            "currencies.KRW.symbol           249\n",
            "name.nativeName.bjz.official    249\n",
            "name.nativeName.bjz.common      249\n",
            "currencies.BZD.name             249\n",
            "currencies.BZD.symbol           249\n",
            "languages.bjz                   249\n",
            "currencies.MXN.name             249\n",
            "currencies.MXN.symbol           249\n",
            "currencies.RSD.name             249\n",
            "currencies.RSD.symbol           249\n",
            "currencies.CVE.name             249\n",
            "currencies.CVE.symbol           249\n",
            "name.nativeName.khm.official    249\n",
            "name.nativeName.khm.common      249\n",
            "currencies.KHR.name             249\n",
            "currencies.KHR.symbol           249\n",
            "languages.khm                   249\n",
            "currencies.RON.name             249\n",
            "currencies.RON.symbol           249\n",
            "name.nativeName.hun.official    249\n",
            "name.nativeName.hun.common      249\n",
            "currencies.HUF.name             249\n",
            "currencies.HUF.symbol           249\n",
            "languages.hun                   249\n",
            "name.nativeName.mah.official    249\n",
            "name.nativeName.mah.common      249\n",
            "languages.mah                   249\n",
            "name.nativeName.som.official    249\n",
            "name.nativeName.som.common      249\n",
            "currencies.SOS.name             249\n",
            "currencies.SOS.symbol           249\n",
            "languages.som                   249\n",
            "currencies.ALL.name             249\n",
            "currencies.ALL.symbol           249\n",
            "name.nativeName.run.official    249\n",
            "name.nativeName.run.common      249\n",
            "currencies.BIF.name             249\n",
            "currencies.BIF.symbol           249\n",
            "languages.run                   249\n",
            "name.nativeName.sag.official    249\n",
            "name.nativeName.sag.common      249\n",
            "languages.sag                   249\n",
            "currencies.UGX.name             249\n",
            "currencies.UGX.symbol           249\n",
            "currencies.HNL.name             249\n",
            "currencies.HNL.symbol           249\n",
            "name.nativeName.kaz.official    249\n",
            "name.nativeName.kaz.common      249\n",
            "currencies.KZT.name             249\n",
            "currencies.KZT.symbol           249\n",
            "languages.kaz                   249\n",
            "currencies.KES.name             249\n",
            "currencies.KES.symbol           249\n",
            "currencies.WST.name             249\n",
            "currencies.WST.symbol           249\n",
            "name.nativeName.nep.official    249\n",
            "name.nativeName.nep.common      249\n",
            "currencies.NPR.name             249\n",
            "currencies.NPR.symbol           249\n",
            "languages.nep                   249\n",
            "currencies.LBP.name             249\n",
            "currencies.LBP.symbol           249\n",
            "name.nativeName.mfe.official    249\n",
            "name.nativeName.mfe.common      249\n",
            "currencies.MUR.name             249\n",
            "currencies.MUR.symbol           249\n",
            "languages.mfe                   249\n",
            "currencies.KYD.name             249\n",
            "currencies.KYD.symbol           249\n",
            "name.nativeName.bar.official    249\n",
            "name.nativeName.bar.common      249\n",
            "currencies.LRD.name             249\n",
            "currencies.LRD.symbol           249\n",
            "dtype: int64\n"
          ]
        }
      ]
    },
    {
      "cell_type": "markdown",
      "source": [
        " Liczba kolumn zawierających przynajmniej jeden brak"
      ],
      "metadata": {
        "id": "T2EkdyyZj_5g"
      }
    },
    {
      "cell_type": "code",
      "source": [
        "# Liczba kolumn zawierających przynajmniej jeden brak\n",
        "num_cols_with_na = (df.isna().sum() > 0).sum()\n",
        "num_cols_without_na = (df.isna().sum() == 0).sum()\n",
        "\n",
        "print(f\"\\n📊 Liczba kolumn z brakami: {num_cols_with_na}\")\n",
        "print(f\"📊 Liczba kolumn bez braków: {num_cols_without_na}\")\n"
      ],
      "metadata": {
        "colab": {
          "base_uri": "https://localhost:8080/"
        },
        "id": "zhyt9Ybpjh7E",
        "outputId": "d39070c7-ed2f-4755-b293-0ad69d70f8c8"
      },
      "execution_count": 99,
      "outputs": [
        {
          "output_type": "stream",
          "name": "stdout",
          "text": [
            "\n",
            "📊 Liczba kolumn z brakami: 784\n",
            "📊 Liczba kolumn bez braków: 11\n"
          ]
        }
      ]
    },
    {
      "cell_type": "markdown",
      "source": [
        "Liczba wierszy zawierających przynajmniej jeden brak"
      ],
      "metadata": {
        "id": "QLljgwFCqWro"
      }
    },
    {
      "cell_type": "code",
      "source": [
        "# Liczba wierszy zawierających przynajmniej jeden brak\n",
        "num_rows_with_na = df.isna().any(axis=1).sum()\n",
        "num_rows_without_na = (~df.isna().any(axis=1)).sum()\n",
        "\n",
        "print(f\"\\n📈 Liczba wierszy z brakami: {num_rows_with_na}\")\n",
        "print(f\"📈 Liczba wierszy bez braków: {num_rows_without_na}\")\n"
      ],
      "metadata": {
        "colab": {
          "base_uri": "https://localhost:8080/"
        },
        "id": "gVKg17PekEty",
        "outputId": "4a7da6c9-5d6a-44c4-e505-1adfe1de5bb9"
      },
      "execution_count": 100,
      "outputs": [
        {
          "output_type": "stream",
          "name": "stdout",
          "text": [
            "\n",
            "📈 Liczba wierszy z brakami: 250\n",
            "📈 Liczba wierszy bez braków: 0\n"
          ]
        }
      ]
    },
    {
      "cell_type": "code",
      "source": [
        "# Oblicz procent braków w każdej kolumnie\n",
        "missing_percent = (df.isna().sum() / len(df) * 100).sort_values(ascending=False)\n",
        "\n",
        "# Pokaż kolumny z największą liczbą braków na początku\n",
        "print(\"\\n🔍 Procent braków w kolumnach (posortowane malejąco):\")\n",
        "print(missing_percent)\n",
        "\n",
        "# Opcjonalnie: zapisz do pliku CSV, żeby przejrzeć w Excelu\n",
        "missing_percent.to_csv(\"braki_procent.csv\")\n"
      ],
      "metadata": {
        "colab": {
          "base_uri": "https://localhost:8080/"
        },
        "id": "O5zCE5WGl5f-",
        "outputId": "3e50a1dc-4ac5-495a-a473-ec152837fc2b"
      },
      "execution_count": 101,
      "outputs": [
        {
          "output_type": "stream",
          "name": "stdout",
          "text": [
            "\n",
            "🔍 Procent braków w kolumnach (posortowane malejąco):\n",
            "currencies.LRD.symbol           99.6\n",
            "currencies.LRD.name             99.6\n",
            "name.nativeName.bar.common      99.6\n",
            "name.nativeName.bar.official    99.6\n",
            "currencies.KYD.symbol           99.6\n",
            "                                ... \n",
            "population                       0.0\n",
            "area                             0.0\n",
            "subregion                        0.0\n",
            "region                           0.0\n",
            "capital                          0.0\n",
            "Length: 795, dtype: float64\n"
          ]
        }
      ]
    },
    {
      "cell_type": "code",
      "source": [
        "# --- 6.2 Usuwanie kolumn z ponad 89% braków ---\n",
        "\n",
        "# Ustal próg procentowy\n",
        "threshold = 89\n",
        "\n",
        "# Wybierz kolumny do usunięcia\n",
        "cols_to_drop = missing_percent[missing_percent > threshold].index.tolist()\n",
        "\n",
        "print(f\"\\n🗑️ Usuwam {len(cols_to_drop)} kolumn z ponad {threshold}% braków\")\n",
        "print(\"Kolumny do usunięcia:\")\n",
        "print(cols_to_drop)\n",
        "\n",
        "# Usuń te kolumny z DataFrame\n",
        "df = df.drop(columns=cols_to_drop)\n",
        "\n",
        "print(f\"✅ Pozostało kolumn po usunięciu: {df.shape[1]}\")"
      ],
      "metadata": {
        "colab": {
          "base_uri": "https://localhost:8080/"
        },
        "id": "15jmR6OMp_FE",
        "outputId": "286b9b4d-99a7-4219-b28f-138f689c17d8"
      },
      "execution_count": 102,
      "outputs": [
        {
          "output_type": "stream",
          "name": "stdout",
          "text": [
            "\n",
            "🗑️ Usuwam 776 kolumn z ponad 89% braków\n",
            "Kolumny do usunięcia:\n",
            "['currencies.LRD.symbol', 'currencies.LRD.name', 'name.nativeName.bar.common', 'name.nativeName.bar.official', 'currencies.KYD.symbol', 'currencies.KYD.name', 'currencies.KES.name', 'languages.kaz', 'currencies.KZT.symbol', 'currencies.KZT.name', 'name.nativeName.kaz.common', 'name.nativeName.kaz.official', 'currencies.HNL.symbol', 'currencies.HNL.name', 'currencies.UGX.symbol', 'currencies.UGX.name', 'languages.sag', 'name.nativeName.sag.common', 'name.nativeName.sag.official', 'languages.run', 'currencies.BIF.symbol', 'currencies.BIF.name', 'name.nativeName.ndc.common', 'name.nativeName.ndc.official', 'name.nativeName.khi.common', 'name.nativeName.khi.official', 'name.nativeName.kck.common', 'name.nativeName.kck.official', 'name.nativeName.bwg.common', 'name.nativeName.bwg.official', 'languages.zdj', 'currencies.KMF.symbol', 'currencies.KMF.name', 'name.nativeName.zdj.common', 'name.nativeName.zdj.official', 'name.nativeName.toi.common', 'name.nativeName.toi.official', 'name.nativeName.sna.common', 'name.nativeName.sna.official', 'name.nativeName.nde.common', 'name.nativeName.nde.official', 'languages.toi', 'languages.sna', 'languages.nde', 'languages.ndc', 'languages.khi', 'languages.kck', 'languages.bwg', 'currencies.ZWL.symbol', 'currencies.ZWL.name', 'name.nativeName.zib.common', 'name.nativeName.zib.official', 'name.nativeName.run.common', 'name.nativeName.run.official', 'currencies.ALL.symbol', 'currencies.ALL.name', 'languages.som', 'currencies.SOS.symbol', 'currencies.SOS.name', 'name.nativeName.som.common', 'name.nativeName.som.official', 'languages.mah', 'name.nativeName.mah.common', 'name.nativeName.mah.official', 'languages.hun', 'currencies.HUF.symbol', 'currencies.HUF.name', 'name.nativeName.hun.common', 'name.nativeName.lav.common', 'name.nativeName.lav.official', 'languages.lao', 'currencies.LAK.symbol', 'currencies.LAK.name', 'name.nativeName.lao.common', 'name.nativeName.lao.official', 'languages.zib', 'currencies.NIO.name', 'languages.tgk', 'currencies.TJS.symbol', 'currencies.TJS.name', 'name.nativeName.tgk.common', 'name.nativeName.tgk.official', 'languages.lav', 'name.nativeName.hun.official', 'currencies.RON.symbol', 'currencies.RON.name', 'languages.khm', 'currencies.KHR.symbol', 'currencies.KHR.name', 'name.nativeName.khm.common', 'name.nativeName.khm.official', 'currencies.CVE.symbol', 'currencies.CVE.name', 'currencies.RSD.symbol', 'currencies.RSD.name', 'currencies.MXN.symbol', 'currencies.MXN.name', 'languages.bjz', 'currencies.BZD.symbol', 'languages.kin', 'currencies.RWF.symbol', 'currencies.RWF.name', 'name.nativeName.kin.common', 'name.nativeName.kin.official', 'languages.lit', 'name.nativeName.lit.common', 'name.nativeName.lit.official', 'currencies.SDG.symbol', 'currencies.SDG.name', 'currencies.NIO.symbol', 'currencies.KWD.symbol', 'currencies.KWD.name', 'languages.bis', 'currencies.VUV.symbol', 'currencies.VUV.name', 'name.nativeName.bis.common', 'name.nativeName.bis.official', 'currencies.TND.symbol', 'currencies.TND.name', 'currencies.LSL.symbol', 'currencies.LSL.name', 'currencies.CRC.symbol', 'currencies.CRC.name', 'currencies.TZS.symbol', 'currencies.TZS.name', 'currencies.BSD.symbol', 'currencies.BSD.name', 'currencies.CLP.symbol', 'currencies.CLP.name', 'languages.fil', 'currencies.PHP.symbol', 'currencies.PHP.name', 'name.nativeName.fil.common', 'name.nativeName.fil.official', 'currencies.BZD.name', 'name.nativeName.bjz.common', 'name.nativeName.bjz.official', 'currencies.KRW.symbol', 'currencies.KRW.name', 'currencies.ARS.symbol', 'currencies.ARS.name', 'languages.uzb', 'currencies.UZS.symbol', 'currencies.UZS.name', 'name.nativeName.uzb.common', 'name.nativeName.uzb.official', 'languages.tpi', 'languages.hmo', 'currencies.PGK.symbol', 'currencies.PGK.name', 'currencies.LYD.symbol', 'currencies.LYD.name', 'currencies.AED.symbol', 'currencies.AED.name', 'languages.cnr', 'name.nativeName.cnr.common', 'name.nativeName.cnr.official', 'currencies.SBD.symbol', 'currencies.SBD.name', 'languages.nrf', 'currencies.JEP.symbol', 'currencies.JEP.name', 'name.nativeName.nrf.common', 'name.nativeName.nrf.official', 'languages.ltz', 'name.nativeName.ltz.common', 'name.nativeName.ltz.official', 'languages.hye', 'currencies.AMD.symbol', 'currencies.AMD.name', 'name.nativeName.hye.common', 'name.nativeName.hye.official', 'currencies.TTD.symbol', 'currencies.TTD.name', 'languages.urd', 'currencies.PKR.symbol', 'currencies.PKR.name', 'name.nativeName.urd.common', 'name.nativeName.urd.official', 'currencies.BRL.symbol', 'currencies.BRL.name', 'currencies.SHP.symbol', 'currencies.SHP.name', 'name.nativeName.fao.common', 'name.nativeName.fao.official', 'currencies.TMT.symbol', 'currencies.TMT.name', 'languages.ben', 'currencies.BDT.symbol', 'currencies.BDT.name', 'name.nativeName.ben.common', 'name.nativeName.ben.official', 'name.nativeName.tpi.common', 'name.nativeName.tpi.official', 'name.nativeName.hmo.common', 'name.nativeName.hmo.official', 'languages.glc', 'languages.eus', 'languages.jpn', 'currencies.JPY.symbol', 'currencies.JPY.name', 'name.nativeName.jpn.common', 'name.nativeName.jpn.official', 'currencies.BND.symbol', 'currencies.BND.name', 'currencies.SSP.symbol', 'name.nativeName.bos.common', 'name.nativeName.bos.official', 'currencies.CUP.symbol', 'currencies.CUP.name', 'currencies.CUC.symbol', 'currencies.CUC.name', 'languages.pau', 'name.nativeName.pau.common', 'name.nativeName.pau.official', 'languages.fao', 'currencies.FOK.symbol', 'currencies.FOK.name', 'languages.kal', 'name.nativeName.kal.common', 'name.nativeName.kal.official', 'languages.est', 'name.nativeName.est.common', 'name.nativeName.est.official', 'currencies.BWP.symbol', 'currencies.BWP.name', 'languages.bos', 'currencies.BAM.symbol', 'currencies.BAM.name', 'currencies.SSP.name', 'currencies.MDL.symbol', 'currencies.MDL.name', 'languages.crs', 'currencies.SCR.symbol', 'currencies.SCR.name', 'name.nativeName.crs.common', 'name.nativeName.crs.official', 'languages.pih', 'name.nativeName.pih.common', 'name.nativeName.pih.official', 'currencies.QAR.symbol', 'currencies.QAR.name', 'currencies.CKD.name', 'name.nativeName.rar.common', 'name.nativeName.rar.official', 'currencies.DOP.symbol', 'currencies.DOP.name', 'currencies.BHD.symbol', 'currencies.BHD.name', 'languages.mey', 'name.nativeName.mey.common', 'name.nativeName.mey.official', 'currencies.PAB.symbol', 'currencies.PAB.name', 'languages.div', 'currencies.MVR.symbol', 'currencies.MVR.name', 'name.nativeName.div.common', 'name.nativeName.div.official', 'languages.gle', 'name.nativeName.gle.common', 'name.nativeName.gle.official', 'currencies.GNF.symbol', 'currencies.GNF.name', 'currencies.COP.symbol', 'currencies.COP.name', 'languages.rar', 'currencies.CKD.symbol', 'currencies.HTG.symbol', 'currencies.HTG.name', 'name.nativeName.hat.common', 'name.nativeName.hat.official', 'languages.ces', 'currencies.CZK.symbol', 'currencies.CZK.name', 'name.nativeName.ces.common', 'name.nativeName.ces.official', 'currencies.OMR.symbol', 'currencies.OMR.name', 'currencies.MZN.symbol', 'currencies.MZN.name', 'currencies.NAD.name', 'name.nativeName.ndo.common', 'name.nativeName.ndo.official', 'name.nativeName.loz.common', 'name.nativeName.loz.official', 'name.nativeName.kwn.common', 'name.nativeName.kwn.official', 'name.nativeName.hgm.common', 'name.nativeName.hgm.official', 'name.nativeName.her.common', 'name.nativeName.her.official', 'currencies.NGN.symbol', 'currencies.NGN.name', 'languages.hat', 'name.nativeName.ind.common', 'name.nativeName.ind.official', 'languages.nfr', 'currencies.GGP.symbol', 'currencies.GGP.name', 'name.nativeName.nfr.common', 'name.nativeName.nfr.official', 'currencies.CAD.symbol', 'currencies.CAD.name', 'languages.ndo', 'languages.loz', 'languages.kwn', 'languages.hgm', 'languages.her', 'currencies.NAD.symbol', 'languages.mya', 'currencies.MMK.symbol', 'currencies.MMK.name', 'name.nativeName.mya.common', 'name.nativeName.mya.official', 'languages.mkd', 'currencies.MKD.symbol', 'currencies.MKD.name', 'name.nativeName.mkd.common', 'name.nativeName.mkd.official', 'languages.pol', 'currencies.PLN.symbol', 'currencies.PLN.name', 'name.nativeName.pol.common', 'name.nativeName.pol.official', 'languages.nau', 'languages.tir', 'currencies.ERN.symbol', 'currencies.ERN.name', 'name.nativeName.tir.common', 'name.nativeName.tir.official', 'currencies.YER.symbol', 'currencies.YER.name', 'languages.ind', 'currencies.IDR.symbol', 'currencies.IDR.name', 'name.nativeName.niu.common', 'name.nativeName.niu.official', 'languages.slv', 'name.nativeName.slv.common', 'name.nativeName.slv.official', 'currencies.HKD.symbol', 'currencies.HKD.name', 'languages.sin', 'currencies.LKR.symbol', 'currencies.LKR.name', 'name.nativeName.sin.common', 'name.nativeName.sin.official', 'languages.gil', 'currencies.KID.symbol', 'currencies.KID.name', 'name.nativeName.gil.common', 'name.nativeName.gil.official', 'languages.niu', 'name.nativeName.nau.common', 'name.nativeName.nau.official', 'languages.tkl', 'name.nativeName.tkl.common', 'name.nativeName.tkl.official', 'languages.mlt', 'name.nativeName.mlt.common', 'name.nativeName.mlt.official', 'languages.fin', 'name.nativeName.fin.common', 'name.nativeName.fin.official', 'languages.lua', 'currencies.CDF.symbol', 'currencies.GIP.name', 'currencies.BMD.symbol', 'currencies.BMD.name', 'languages.cal', 'name.nativeName.cal.common', 'name.nativeName.cal.official', 'languages.heb', 'name.nativeName.heb.common', 'name.nativeName.heb.official', 'currencies.PEN.name', 'currencies.GMD.symbol', 'currencies.GMD.name', 'languages.tet', 'name.nativeName.tet.common', 'name.nativeName.tet.official', 'currencies.SYP.symbol', 'currencies.SYP.name', 'currencies.GIP.symbol', 'currencies.CDF.name', 'name.nativeName.lua.common', 'name.nativeName.lua.official', 'languages.roh', 'languages.gsw', 'name.nativeName.roh.common', 'name.nativeName.roh.official', 'name.nativeName.gsw.common', 'name.nativeName.gsw.official', 'currencies.STN.symbol', 'currencies.STN.name', 'currencies.AWG.symbol', 'currencies.AWG.name', 'languages.hif', 'name.nativeName.nno.official', 'currencies.BOB.symbol', 'currencies.BOB.name', 'currencies.TRY.symbol', 'currencies.TRY.name', 'currencies.SLE.symbol', 'currencies.SLE.name', 'languages.pov', 'name.nativeName.pov.common', 'name.nativeName.pov.official', 'currencies.PEN.symbol', 'languages.smi', 'languages.nob', 'languages.nno', 'name.nativeName.smi.common', 'name.nativeName.smi.official', 'name.nativeName.nob.common', 'name.nativeName.nob.official', 'name.nativeName.nno.common', 'languages.fij', 'currencies.FJD.symbol', 'currencies.FJD.name', 'name.nativeName.hif.common', 'name.nativeName.hif.official', 'name.nativeName.fij.common', 'name.nativeName.fij.official', 'currencies.UYU.symbol', 'currencies.UYU.name', 'currencies.SRD.symbol', 'currencies.SRD.name', 'currencies.GTQ.symbol', 'currencies.GTQ.name', 'currencies.MOP.symbol', 'currencies.MYR.symbol', 'currencies.MYR.name', 'languages.ukr', 'currencies.UAH.symbol', 'currencies.UAH.name', 'name.nativeName.ukr.common', 'name.nativeName.ukr.official', 'currencies.PYG.symbol', 'currencies.PYG.name', 'currencies.SZL.symbol', 'currencies.SZL.name', 'currencies.MNT.name', 'name.nativeName.mon.common', 'name.nativeName.mon.official', 'languages.tvl', 'currencies.TVD.symbol', 'currencies.TVD.name', 'name.nativeName.tvl.common', 'name.nativeName.tvl.official', 'currencies.SEK.symbol', 'currencies.SEK.name', 'languages.ton', 'currencies.TOP.symbol', 'currencies.TOP.name', 'name.nativeName.ton.common', 'name.nativeName.ton.official', 'currencies.GHS.symbol', 'currencies.GHS.name', 'languages.zul', 'languages.nso', 'languages.nbl', 'name.nativeName.zul.common', 'name.nativeName.zul.official', 'name.nativeName.nso.common', 'name.nativeName.nso.official', 'name.nativeName.nbl.common', 'name.nativeName.nbl.official', 'languages.mon', 'currencies.MNT.symbol', 'name.nativeName.aze.official', 'currencies.GYD.symbol', 'currencies.GYD.name', 'languages.vie', 'currencies.VND.symbol', 'currencies.VND.name', 'name.nativeName.vie.common', 'name.nativeName.vie.official', 'languages.ckb', 'languages.arc', 'currencies.IQD.symbol', 'currencies.IQD.name', 'name.nativeName.ckb.common', 'name.nativeName.ckb.official', 'name.nativeName.arc.common', 'name.nativeName.arc.official', 'currencies.MWK.name', 'currencies.FKP.symbol', 'currencies.FKP.name', 'currencies.BBD.symbol', 'currencies.BBD.name', 'currencies.VES.symbol', 'currencies.VES.name', 'languages.isl', 'currencies.ISK.symbol', 'currencies.ISK.name', 'name.nativeName.isl.common', 'name.nativeName.isl.official', 'languages.aze', 'currencies.AZN.symbol', 'currencies.AZN.name', 'name.nativeName.aze.common', 'currencies.KPW.name', 'languages.bul', 'currencies.BGN.symbol', 'currencies.BGN.name', 'name.nativeName.bul.common', 'name.nativeName.bul.official', 'currencies.TWD.symbol', 'currencies.TWD.name', 'languages.kir', 'currencies.KGS.symbol', 'currencies.KGS.name', 'name.nativeName.kir.common', 'name.nativeName.kir.official', 'currencies.MWK.symbol', 'currencies.MOP.name', 'languages.amh', 'currencies.ETB.symbol', 'currencies.ETB.name', 'name.nativeName.amh.common', 'name.nativeName.amh.official', 'currencies.ZMW.symbol', 'currencies.ZMW.name', 'languages.fas', 'currencies.IRR.symbol', 'currencies.IRR.name', 'name.nativeName.fas.common', 'name.nativeName.fas.official', 'currencies.SAR.symbol', 'currencies.SAR.name', 'currencies.DJF.symbol', 'currencies.IMP.symbol', 'currencies.IMP.name', 'name.nativeName.glv.common', 'name.nativeName.glv.official', 'languages.lat', 'name.nativeName.lat.common', 'name.nativeName.lat.official', 'currencies.RUB.symbol', 'currencies.RUB.name', 'currencies.AOA.symbol', 'currencies.AOA.name', 'name.nativeName.cat.common', 'name.nativeName.cat.official', 'currencies.KPW.symbol', 'languages.dzo', 'currencies.BTN.symbol', 'currencies.BTN.name', 'name.nativeName.dzo.common', 'name.nativeName.dzo.official', 'languages.pus', 'languages.prs', 'currencies.AFN.symbol', 'currencies.AFN.name', 'name.nativeName.pus.common', 'name.nativeName.pus.official', 'name.nativeName.prs.common', 'name.nativeName.prs.official', 'languages.glv', 'languages.mlg', 'currencies.MGA.symbol', 'currencies.MGA.name', 'name.nativeName.mlg.common', 'name.nativeName.mlg.official', 'languages.nzs', 'languages.mri', 'name.nativeName.nzs.common', 'name.nativeName.nzs.official', 'name.nativeName.mri.common', 'name.nativeName.mri.official', 'languages.bel', 'currencies.BYN.symbol', 'currencies.BYN.name', 'name.nativeName.bel.common', 'name.nativeName.bel.official', 'currencies.DJF.name', 'currencies.CNY.symbol', 'currencies.CNY.name', 'languages.hin', 'name.nativeName.hin.common', 'name.nativeName.hin.official', 'languages.kat', 'currencies.GEL.symbol', 'currencies.GEL.name', 'name.nativeName.kat.common', 'name.nativeName.kat.official', 'languages.tha', 'currencies.THB.symbol', 'currencies.THB.name', 'name.nativeName.tha.common', 'name.nativeName.tha.official', 'languages.mfe', 'currencies.MUR.symbol', 'currencies.MUR.name', 'name.nativeName.mfe.common', 'name.nativeName.mfe.official', 'currencies.LBP.symbol', 'currencies.LBP.name', 'languages.nep', 'currencies.NPR.symbol', 'currencies.NPR.name', 'name.nativeName.nep.common', 'name.nativeName.nep.official', 'currencies.WST.symbol', 'currencies.WST.name', 'currencies.KES.symbol', 'languages.jam', 'currencies.JMD.symbol', 'currencies.JMD.name', 'name.nativeName.jam.common', 'name.nativeName.jam.official', 'currencies.INR.symbol', 'name.nativeName.kor.common', 'languages.kor', 'name.nativeName.kor.official', 'currencies.INR.name', 'name.nativeName.que.common', 'languages.que', 'currencies.CHF.name', 'currencies.CHF.symbol', 'name.nativeName.aym.official', 'languages.aym', 'languages.lin', 'languages.kon', 'name.nativeName.lin.common', 'currencies.NOK.symbol', 'name.nativeName.kon.official', 'name.nativeName.kon.common', 'name.nativeName.lin.official', 'currencies.NOK.name', 'languages.ssw', 'name.nativeName.ssw.common', 'name.nativeName.ssw.official', 'name.nativeName.aym.common', 'name.nativeName.que.official', 'currencies.MRU.symbol', 'currencies.MRU.name', 'languages.hrv', 'name.nativeName.hrv.common', 'languages.ron', 'name.nativeName.ron.common', 'languages.dan', 'currencies.ILS.symbol', 'name.nativeName.slk.common', 'name.nativeName.slk.official', 'languages.afr', 'currencies.JOD.symbol', 'name.nativeName.afr.common', 'name.nativeName.afr.official', 'name.nativeName.nor.common', 'name.nativeName.nor.official', 'currencies.EGP.name', 'languages.nor', 'currencies.EGP.symbol', 'currencies.ILS.name', 'currencies.JOD.name', 'languages.tur', 'name.nativeName.sqi.common', 'languages.sqi', 'name.nativeName.tur.common', 'name.nativeName.tur.official', 'name.nativeName.sqi.official', 'languages.cha', 'name.nativeName.cha.common', 'name.nativeName.cha.official', 'currencies.DZD.name', 'currencies.DZD.symbol', 'name.nativeName.dan.official', 'name.nativeName.tuk.common', 'currencies.SGD.symbol', 'name.nativeName.tuk.official', 'name.nativeName.hrv.official', 'currencies.SGD.name', 'languages.tuk', 'name.nativeName.dan.common', 'name.nativeName.nya.official', 'name.nativeName.nya.common', 'name.nativeName.tso.official', 'name.nativeName.tso.common', 'name.nativeName.ven.official', 'name.nativeName.ven.common', 'languages.tso', 'languages.ven', 'languages.xho', 'currencies.ANG.symbol', 'currencies.ANG.name', 'languages.nya', 'name.nativeName.xho.common', 'name.nativeName.xho.official', 'name.nativeName.ell.common', 'languages.ell', 'name.nativeName.ell.official', 'languages.ber', 'currencies.MAD.name', 'currencies.MAD.symbol', 'name.nativeName.ron.official', 'languages.slk', 'name.nativeName.ber.official', 'name.nativeName.ber.common', 'languages.swe', 'name.nativeName.tam.common', 'name.nativeName.smo.official', 'name.nativeName.smo.common', 'name.nativeName.tam.official', 'languages.smo', 'name.nativeName.sot.official', 'name.nativeName.srp.official', 'name.nativeName.srp.common', 'currencies.DKK.name', 'currencies.DKK.symbol', 'languages.srp', 'name.nativeName.sot.common', 'languages.sot', 'languages.pap', 'languages.msa', 'name.nativeName.pap.common', 'name.nativeName.pap.official', 'languages.grn', 'name.nativeName.grn.common', 'languages.tam', 'name.nativeName.swe.official', 'name.nativeName.grn.official', 'currencies.XPF.name', 'name.nativeName.msa.common', 'name.nativeName.msa.official', 'currencies.XPF.symbol', 'languages.cat', 'name.nativeName.swe.common', 'name.nativeName.ita.official', 'name.nativeName.tsn.official', 'name.nativeName.tsn.common', 'languages.tsn', 'languages.swa', 'currencies.ZAR.symbol', 'name.nativeName.swa.official', 'currencies.ZAR.name', 'name.nativeName.swa.common', 'languages.ita', 'name.nativeName.ita.common', 'currencies.NZD.symbol', 'name.nativeName.deu.common', 'languages.zho', 'name.nativeName.zho.official', 'name.nativeName.zho.common', 'name.nativeName.deu.official', 'currencies.NZD.name', 'currencies.GBP.symbol', 'languages.deu', 'currencies.XAF.symbol', 'currencies.GBP.name', 'currencies.XAF.name', 'currencies.AUD.name', 'currencies.AUD.symbol', 'name.nativeName.rus.common', 'name.nativeName.rus.official', 'name.nativeName.nld.common', 'languages.rus', 'name.nativeName.nld.official', 'languages.nld', 'currencies.XOF.name', 'currencies.XCD.name', 'currencies.XCD.symbol', 'currencies.XOF.symbol', 'name.nativeName.por.official', 'languages.por', 'name.nativeName.por.common', 'currencies.USD.name', 'currencies.USD.symbol', 'languages.spa', 'name.nativeName.spa.official', 'name.nativeName.spa.common', 'name.nativeName.ara.official', 'name.nativeName.ara.common', 'languages.ara']\n",
            "✅ Pozostało kolumn po usunięciu: 19\n"
          ]
        }
      ]
    },
    {
      "cell_type": "code",
      "source": [
        "# Zapisz listę pozostałych kolumn do pliku CSV\n",
        "df.columns.to_series().to_csv(\"pozostale_kolumny.csv\", index=False)\n",
        "\n",
        "print(\"📁 Zapisano listę pozostałych kolumn do pliku 'pozostale_kolumny.csv'\")"
      ],
      "metadata": {
        "colab": {
          "base_uri": "https://localhost:8080/"
        },
        "id": "J_JEbi90snUk",
        "outputId": "6f353791-1652-4c06-b5e6-71e229221144"
      },
      "execution_count": 103,
      "outputs": [
        {
          "output_type": "stream",
          "name": "stdout",
          "text": [
            "📁 Zapisano listę pozostałych kolumn do pliku 'pozostale_kolumny.csv'\n"
          ]
        }
      ]
    },
    {
      "cell_type": "code",
      "source": [
        "import pandas as pd\n",
        "\n",
        "# Kolumny do sprawdzenia\n",
        "check_cols = [\n",
        "    'currencies.EUR.name', 'currencies.EUR.symbol',\n",
        "    'name.nativeName.fra.official', 'name.nativeName.fra.common', 'languages.fra',\n",
        "    'name.nativeName.eng.official', 'name.nativeName.eng.common', 'languages.eng'\n",
        "]\n",
        "\n",
        "# Sprawdzenie unikalnych typów danych dla każdej kolumny\n",
        "type_checks = {}\n",
        "\n",
        "for col in check_cols:\n",
        "    if col in df.columns:\n",
        "        unique_types = df[col].dropna().map(type).unique()\n",
        "        type_checks[col] = [t.__name__ for t in unique_types]\n",
        "    else:\n",
        "        type_checks[col] = ['Column not found']\n",
        "\n",
        "# Konwersja do DataFrame\n",
        "type_checks_df = pd.DataFrame.from_dict(type_checks, orient='index', columns=['Types'])\n",
        "\n",
        "# Wyświetlenie wyników\n",
        "print(\"\\n✅ Typy danych w sprawdzanych kolumnach:\")\n",
        "print(type_checks_df)\n",
        "\n",
        "# Zapis do pliku CSV (opcjonalnie)\n",
        "type_checks_df.to_csv(\"typy_danych_sprawdzane.csv\")\n",
        "print(\"📁 Zapisano typy danych do pliku: typy_danych_sprawdzane.csv\")\n",
        "\n",
        "\n"
      ],
      "metadata": {
        "colab": {
          "base_uri": "https://localhost:8080/"
        },
        "id": "AU1GoLyAu9h9",
        "outputId": "27d903b1-d762-486b-875e-cbc339d6b6bb"
      },
      "execution_count": 105,
      "outputs": [
        {
          "output_type": "stream",
          "name": "stdout",
          "text": [
            "\n",
            "✅ Typy danych w sprawdzanych kolumnach:\n",
            "                             Types\n",
            "currencies.EUR.name            str\n",
            "currencies.EUR.symbol          str\n",
            "name.nativeName.fra.official   str\n",
            "name.nativeName.fra.common     str\n",
            "languages.fra                  str\n",
            "name.nativeName.eng.official   str\n",
            "name.nativeName.eng.common     str\n",
            "languages.eng                  str\n",
            "📁 Zapisano typy danych do pliku: typy_danych_sprawdzane.csv\n"
          ]
        }
      ]
    },
    {
      "cell_type": "code",
      "source": [
        "# Wypełnianie braków zgodnie z ustalonymi zasadami\n",
        "\n",
        "# 1. currencies.EUR.* → \"not EUR\"\n",
        "df['currencies.EUR.name'] = df['currencies.EUR.name'].fillna(\"not EUR\")\n",
        "df['currencies.EUR.symbol'] = df['currencies.EUR.symbol'].fillna(\"not EUR\")\n",
        "\n",
        "# 2. name.nativeName.fra.* + languages.fra → \"nonFR\"\n",
        "df['name.nativeName.fra.official'] = df['name.nativeName.fra.official'].fillna(\"nonFR\")\n",
        "df['name.nativeName.fra.common'] = df['name.nativeName.fra.common'].fillna(\"nonFR\")\n",
        "df['languages.fra'] = df['languages.fra'].fillna(\"nonFR\")\n",
        "\n",
        "# 3. name.nativeName.eng.* + languages.eng → \"nonENG\"\n",
        "df['name.nativeName.eng.official'] = df['name.nativeName.eng.official'].fillna(\"nonENG\")\n",
        "df['name.nativeName.eng.common'] = df['name.nativeName.eng.common'].fillna(\"nonENG\")\n",
        "df['languages.eng'] = df['languages.eng'].fillna(\"nonENG\")\n",
        "\n",
        "# Sprawdzenie, czy zostały jeszcze jakieś braki w tych kolumnach\n",
        "remaining_na = df[[\n",
        "    'currencies.EUR.name', 'currencies.EUR.symbol',\n",
        "    'name.nativeName.fra.official', 'name.nativeName.fra.common', 'languages.fra',\n",
        "    'name.nativeName.eng.official', 'name.nativeName.eng.common', 'languages.eng'\n",
        "]].isna().sum()\n",
        "\n",
        "remaining_na\n"
      ],
      "metadata": {
        "colab": {
          "base_uri": "https://localhost:8080/",
          "height": 335
        },
        "id": "9wrO_y2Ty-RP",
        "outputId": "deedce27-a316-405f-a185-63001ea7d0c6"
      },
      "execution_count": 107,
      "outputs": [
        {
          "output_type": "execute_result",
          "data": {
            "text/plain": [
              "currencies.EUR.name             0\n",
              "currencies.EUR.symbol           0\n",
              "name.nativeName.fra.official    0\n",
              "name.nativeName.fra.common      0\n",
              "languages.fra                   0\n",
              "name.nativeName.eng.official    0\n",
              "name.nativeName.eng.common      0\n",
              "languages.eng                   0\n",
              "dtype: int64"
            ],
            "text/html": [
              "<div>\n",
              "<style scoped>\n",
              "    .dataframe tbody tr th:only-of-type {\n",
              "        vertical-align: middle;\n",
              "    }\n",
              "\n",
              "    .dataframe tbody tr th {\n",
              "        vertical-align: top;\n",
              "    }\n",
              "\n",
              "    .dataframe thead th {\n",
              "        text-align: right;\n",
              "    }\n",
              "</style>\n",
              "<table border=\"1\" class=\"dataframe\">\n",
              "  <thead>\n",
              "    <tr style=\"text-align: right;\">\n",
              "      <th></th>\n",
              "      <th>0</th>\n",
              "    </tr>\n",
              "  </thead>\n",
              "  <tbody>\n",
              "    <tr>\n",
              "      <th>currencies.EUR.name</th>\n",
              "      <td>0</td>\n",
              "    </tr>\n",
              "    <tr>\n",
              "      <th>currencies.EUR.symbol</th>\n",
              "      <td>0</td>\n",
              "    </tr>\n",
              "    <tr>\n",
              "      <th>name.nativeName.fra.official</th>\n",
              "      <td>0</td>\n",
              "    </tr>\n",
              "    <tr>\n",
              "      <th>name.nativeName.fra.common</th>\n",
              "      <td>0</td>\n",
              "    </tr>\n",
              "    <tr>\n",
              "      <th>languages.fra</th>\n",
              "      <td>0</td>\n",
              "    </tr>\n",
              "    <tr>\n",
              "      <th>name.nativeName.eng.official</th>\n",
              "      <td>0</td>\n",
              "    </tr>\n",
              "    <tr>\n",
              "      <th>name.nativeName.eng.common</th>\n",
              "      <td>0</td>\n",
              "    </tr>\n",
              "    <tr>\n",
              "      <th>languages.eng</th>\n",
              "      <td>0</td>\n",
              "    </tr>\n",
              "  </tbody>\n",
              "</table>\n",
              "</div><br><label><b>dtype:</b> int64</label>"
            ]
          },
          "metadata": {},
          "execution_count": 107
        }
      ]
    },
    {
      "cell_type": "markdown",
      "source": [
        "Sprawdzenie braków tylko w tych kolumnach (zwraca liczbę braków):"
      ],
      "metadata": {
        "id": "-DmSzOYr0WYj"
      }
    },
    {
      "cell_type": "code",
      "source": [
        "df[[\n",
        "    'currencies.EUR.name', 'currencies.EUR.symbol',\n",
        "    'name.nativeName.fra.official', 'name.nativeName.fra.common', 'languages.fra',\n",
        "    'name.nativeName.eng.official', 'name.nativeName.eng.common', 'languages.eng'\n",
        "]].isna().sum()\n"
      ],
      "metadata": {
        "colab": {
          "base_uri": "https://localhost:8080/",
          "height": 335
        },
        "id": "s9gyuLah0THB",
        "outputId": "7eb4d2af-36b0-4c54-ec0e-444beb1dc81a"
      },
      "execution_count": 108,
      "outputs": [
        {
          "output_type": "execute_result",
          "data": {
            "text/plain": [
              "currencies.EUR.name             0\n",
              "currencies.EUR.symbol           0\n",
              "name.nativeName.fra.official    0\n",
              "name.nativeName.fra.common      0\n",
              "languages.fra                   0\n",
              "name.nativeName.eng.official    0\n",
              "name.nativeName.eng.common      0\n",
              "languages.eng                   0\n",
              "dtype: int64"
            ],
            "text/html": [
              "<div>\n",
              "<style scoped>\n",
              "    .dataframe tbody tr th:only-of-type {\n",
              "        vertical-align: middle;\n",
              "    }\n",
              "\n",
              "    .dataframe tbody tr th {\n",
              "        vertical-align: top;\n",
              "    }\n",
              "\n",
              "    .dataframe thead th {\n",
              "        text-align: right;\n",
              "    }\n",
              "</style>\n",
              "<table border=\"1\" class=\"dataframe\">\n",
              "  <thead>\n",
              "    <tr style=\"text-align: right;\">\n",
              "      <th></th>\n",
              "      <th>0</th>\n",
              "    </tr>\n",
              "  </thead>\n",
              "  <tbody>\n",
              "    <tr>\n",
              "      <th>currencies.EUR.name</th>\n",
              "      <td>0</td>\n",
              "    </tr>\n",
              "    <tr>\n",
              "      <th>currencies.EUR.symbol</th>\n",
              "      <td>0</td>\n",
              "    </tr>\n",
              "    <tr>\n",
              "      <th>name.nativeName.fra.official</th>\n",
              "      <td>0</td>\n",
              "    </tr>\n",
              "    <tr>\n",
              "      <th>name.nativeName.fra.common</th>\n",
              "      <td>0</td>\n",
              "    </tr>\n",
              "    <tr>\n",
              "      <th>languages.fra</th>\n",
              "      <td>0</td>\n",
              "    </tr>\n",
              "    <tr>\n",
              "      <th>name.nativeName.eng.official</th>\n",
              "      <td>0</td>\n",
              "    </tr>\n",
              "    <tr>\n",
              "      <th>name.nativeName.eng.common</th>\n",
              "      <td>0</td>\n",
              "    </tr>\n",
              "    <tr>\n",
              "      <th>languages.eng</th>\n",
              "      <td>0</td>\n",
              "    </tr>\n",
              "  </tbody>\n",
              "</table>\n",
              "</div><br><label><b>dtype:</b> int64</label>"
            ]
          },
          "metadata": {},
          "execution_count": 108
        }
      ]
    },
    {
      "cell_type": "markdown",
      "source": [
        "Sprawdzenie, czy jakikolwiek NaN występuje:"
      ],
      "metadata": {
        "id": "hRktE3KM0Z_x"
      }
    },
    {
      "cell_type": "code",
      "source": [
        "df[[\n",
        "    'currencies.EUR.name', 'currencies.EUR.symbol',\n",
        "    'name.nativeName.fra.official', 'name.nativeName.fra.common', 'languages.fra',\n",
        "    'name.nativeName.eng.official', 'name.nativeName.eng.common', 'languages.eng'\n",
        "]].isna().any()\n"
      ],
      "metadata": {
        "colab": {
          "base_uri": "https://localhost:8080/",
          "height": 335
        },
        "id": "vjFE_atV0apa",
        "outputId": "40998ae3-d933-4c91-b318-d2aad9091f32"
      },
      "execution_count": 112,
      "outputs": [
        {
          "output_type": "execute_result",
          "data": {
            "text/plain": [
              "currencies.EUR.name             False\n",
              "currencies.EUR.symbol           False\n",
              "name.nativeName.fra.official    False\n",
              "name.nativeName.fra.common      False\n",
              "languages.fra                   False\n",
              "name.nativeName.eng.official    False\n",
              "name.nativeName.eng.common      False\n",
              "languages.eng                   False\n",
              "dtype: bool"
            ],
            "text/html": [
              "<div>\n",
              "<style scoped>\n",
              "    .dataframe tbody tr th:only-of-type {\n",
              "        vertical-align: middle;\n",
              "    }\n",
              "\n",
              "    .dataframe tbody tr th {\n",
              "        vertical-align: top;\n",
              "    }\n",
              "\n",
              "    .dataframe thead th {\n",
              "        text-align: right;\n",
              "    }\n",
              "</style>\n",
              "<table border=\"1\" class=\"dataframe\">\n",
              "  <thead>\n",
              "    <tr style=\"text-align: right;\">\n",
              "      <th></th>\n",
              "      <th>0</th>\n",
              "    </tr>\n",
              "  </thead>\n",
              "  <tbody>\n",
              "    <tr>\n",
              "      <th>currencies.EUR.name</th>\n",
              "      <td>False</td>\n",
              "    </tr>\n",
              "    <tr>\n",
              "      <th>currencies.EUR.symbol</th>\n",
              "      <td>False</td>\n",
              "    </tr>\n",
              "    <tr>\n",
              "      <th>name.nativeName.fra.official</th>\n",
              "      <td>False</td>\n",
              "    </tr>\n",
              "    <tr>\n",
              "      <th>name.nativeName.fra.common</th>\n",
              "      <td>False</td>\n",
              "    </tr>\n",
              "    <tr>\n",
              "      <th>languages.fra</th>\n",
              "      <td>False</td>\n",
              "    </tr>\n",
              "    <tr>\n",
              "      <th>name.nativeName.eng.official</th>\n",
              "      <td>False</td>\n",
              "    </tr>\n",
              "    <tr>\n",
              "      <th>name.nativeName.eng.common</th>\n",
              "      <td>False</td>\n",
              "    </tr>\n",
              "    <tr>\n",
              "      <th>languages.eng</th>\n",
              "      <td>False</td>\n",
              "    </tr>\n",
              "  </tbody>\n",
              "</table>\n",
              "</div><br><label><b>dtype:</b> bool</label>"
            ]
          },
          "metadata": {},
          "execution_count": 112
        }
      ]
    },
    {
      "cell_type": "markdown",
      "source": [
        "Filtruj i wyświetl wiersze, gdzie nadal coś jest NaN:"
      ],
      "metadata": {
        "id": "QpP2QF100eTN"
      }
    },
    {
      "cell_type": "code",
      "source": [
        "filtered = df[\n",
        "    df[[\n",
        "        'currencies.EUR.name', 'currencies.EUR.symbol',\n",
        "        'name.nativeName.fra.official', 'name.nativeName.fra.common', 'languages.fra',\n",
        "        'name.nativeName.eng.official', 'name.nativeName.eng.common', 'languages.eng'\n",
        "    ]].isna().any(axis=1)\n",
        "]\n",
        "print(\"Liczba wierszy z brakami w wybranych kolumnach:\", len(filtered))\n",
        "\n"
      ],
      "metadata": {
        "colab": {
          "base_uri": "https://localhost:8080/"
        },
        "id": "PGd1h9Ro0gqM",
        "outputId": "e2682828-4489-4202-cbbd-85422730bd34"
      },
      "execution_count": 111,
      "outputs": [
        {
          "output_type": "stream",
          "name": "stdout",
          "text": [
            "Liczba wierszy z brakami w wybranych kolumnach: 0\n"
          ]
        }
      ]
    },
    {
      "cell_type": "markdown",
      "source": [
        "Liczba kolumn z jakimikolwiek brakami"
      ],
      "metadata": {
        "id": "5au3sqJO6uAI"
      }
    },
    {
      "cell_type": "code",
      "source": [
        "kolumny_z_brakami = df.isna().sum()\n",
        "kolumny_z_brakami = kolumny_z_brakami[kolumny_z_brakami > 0]\n",
        "\n",
        "print(f\"📊 Liczba kolumn z brakami: {len(kolumny_z_brakami)}\")\n",
        "if not kolumny_z_brakami.empty:\n",
        "    print(\"🔍 Kolumny z brakami:\")\n",
        "    print(kolumny_z_brakami)\n",
        "else:\n",
        "    print(\"✅ Brak kolumn z brakami.\")\n"
      ],
      "metadata": {
        "colab": {
          "base_uri": "https://localhost:8080/"
        },
        "id": "0lc6a6m06uuF",
        "outputId": "e3311041-c51e-4678-a527-d11125f34b02"
      },
      "execution_count": 113,
      "outputs": [
        {
          "output_type": "stream",
          "name": "stdout",
          "text": [
            "📊 Liczba kolumn z brakami: 0\n",
            "✅ Brak kolumn z brakami.\n"
          ]
        }
      ]
    },
    {
      "cell_type": "markdown",
      "source": [
        "Liczba wierszy z jakimikolwiek brakami"
      ],
      "metadata": {
        "id": "-Q-Suk2y6z_y"
      }
    },
    {
      "cell_type": "code",
      "source": [
        "wiersze_z_brakami = df[df.isna().any(axis=1)]\n",
        "print(f\"\\n📈 Liczba wierszy z brakami: {len(wiersze_z_brakami)}\")\n",
        "if not wiersze_z_brakami.empty:\n",
        "    print(\"🔍 Przykładowe wiersze z brakami:\")\n",
        "    print(wiersze_z_brakami.head(3))\n",
        "else:\n",
        "    print(\"✅ Brak wierszy z brakami.\")\n"
      ],
      "metadata": {
        "colab": {
          "base_uri": "https://localhost:8080/"
        },
        "id": "2VOm7CvI60t2",
        "outputId": "90518106-0d7a-4750-8012-735557a6a3fb"
      },
      "execution_count": 114,
      "outputs": [
        {
          "output_type": "stream",
          "name": "stdout",
          "text": [
            "\n",
            "📈 Liczba wierszy z brakami: 0\n",
            "✅ Brak wierszy z brakami.\n"
          ]
        }
      ]
    },
    {
      "cell_type": "markdown",
      "source": [
        ". Czy cały DataFrame jest wolny od braków?"
      ],
      "metadata": {
        "id": "U7sXAN3g64wd"
      }
    },
    {
      "cell_type": "code",
      "source": [
        "if df.isna().any().any():\n",
        "    print(\"\\n❌ Wciąż są braki w danych.\")\n",
        "else:\n",
        "    print(\"\\n✅ DataFrame jest całkowicie wolny od braków.\")\n"
      ],
      "metadata": {
        "colab": {
          "base_uri": "https://localhost:8080/"
        },
        "id": "WyIgbW3K65WI",
        "outputId": "633d4271-8252-4f0f-d74f-b8803914676b"
      },
      "execution_count": 115,
      "outputs": [
        {
          "output_type": "stream",
          "name": "stdout",
          "text": [
            "\n",
            "✅ DataFrame jest całkowicie wolny od braków.\n"
          ]
        }
      ]
    },
    {
      "cell_type": "markdown",
      "source": [
        "STATYSTYKI W PANDAS"
      ],
      "metadata": {
        "id": "CVvNHLux7x4o"
      }
    },
    {
      "cell_type": "code",
      "source": [
        "# Wybór tylko kolumn liczbowych\n",
        "numeric_cols = df.select_dtypes(include=['number']).columns\n",
        "print(f\"📊 Kolumny liczbowe: {list(numeric_cols)}\")\n",
        "\n",
        "# Pełny opis statystyczny\n",
        "print(\"\\n📈 Statystyki opisowe (describe):\")\n",
        "print(df[numeric_cols].describe())\n",
        "\n",
        "# Średnia\n",
        "print(\"\\n🔢 Średnie wartości (.mean()):\")\n",
        "print(df[numeric_cols].mean())\n",
        "\n",
        "# Mediana\n",
        "print(\"\\n🔸 Mediany (.median()):\")\n",
        "print(df[numeric_cols].median())\n",
        "\n",
        "# Odchylenie standardowe\n",
        "print(\"\\n📉 Odchylenie standardowe (.std()):\")\n",
        "print(df[numeric_cols].std())\n",
        "\n",
        "stats_summary = df[numeric_cols].describe().T\n",
        "stats_summary.to_csv(\"statystyki_opisowe.csv\")\n",
        "print(\"📁 Zapisano statystyki do pliku statystyki_opisowe.csv\")\n"
      ],
      "metadata": {
        "colab": {
          "base_uri": "https://localhost:8080/"
        },
        "id": "_k1126okd9QY",
        "outputId": "461c8477-498f-44cd-dcea-9925829f8166"
      },
      "execution_count": 117,
      "outputs": [
        {
          "output_type": "stream",
          "name": "stdout",
          "text": [
            "📊 Kolumny liczbowe: ['area', 'population']\n",
            "\n",
            "📈 Statystyki opisowe (describe):\n",
            "               area    population\n",
            "count  2.500000e+02  2.500000e+02\n",
            "mean   6.005848e+05  3.111089e+07\n",
            "std    1.909805e+06  1.296673e+08\n",
            "min    4.400000e-01  0.000000e+00\n",
            "25%    1.194250e+03  2.210995e+05\n",
            "50%    6.492950e+04  4.912244e+06\n",
            "75%    3.727260e+05  1.902577e+07\n",
            "max    1.709824e+07  1.402112e+09\n",
            "\n",
            "🔢 Średnie wartości (.mean()):\n",
            "area          6.005848e+05\n",
            "population    3.111089e+07\n",
            "dtype: float64\n",
            "\n",
            "🔸 Mediany (.median()):\n",
            "area            64929.5\n",
            "population    4912244.0\n",
            "dtype: float64\n",
            "\n",
            "📉 Odchylenie standardowe (.std()):\n",
            "area          1.909805e+06\n",
            "population    1.296673e+08\n",
            "dtype: float64\n",
            "📁 Zapisano statystyki do pliku statystyki_opisowe.csv\n"
          ]
        }
      ]
    },
    {
      "cell_type": "markdown",
      "source": [
        "BRUDNOPIS DO TESTOWANIA ISNA I SUM"
      ],
      "metadata": {
        "id": "PrPzDn5FdYMP"
      }
    },
    {
      "cell_type": "code",
      "source": [
        "# import pandas as pd\n",
        "# import numpy as np\n",
        "\n",
        "# # Tworzymy DataFrame z kilkoma brakami danych (NaN)\n",
        "# df = pd.DataFrame({\n",
        "#     \"country\": [\"Polska\", \"Niemcy\", \"Francja\", \"Hiszpania\"],\n",
        "#     \"population\": [38000000, np.nan, 67000000, None],\n",
        "#     \"area\": [312679, 357022, None, 505990]\n",
        "# })\n",
        "\n",
        "# print(\"DataFrame:\")\n",
        "# print(df, \"\\n\")\n",
        "\n",
        "# # Sprawdzenie braków (NaN) w każdej kolumnie\n",
        "# print(\"Braki danych (NaN) w kolumnach:\")\n",
        "# print(df.isna().sum(), \"\\n\")\n",
        "\n",
        "# # Wiersze, gdzie są jakieś braki\n",
        "# print(\"Wiersze z brakami danych:\")\n",
        "# print(df[df.isna().any(axis=1)])\n"
      ],
      "metadata": {
        "id": "gIgd7YjsdPwr"
      },
      "execution_count": 43,
      "outputs": []
    }
  ]
}