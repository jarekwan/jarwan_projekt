{
  "nbformat": 4,
  "nbformat_minor": 0,
  "metadata": {
    "colab": {
      "provenance": [],
      "authorship_tag": "ABX9TyNHRce2yxp2TPx9W0dYOIA6",
      "include_colab_link": true
    },
    "kernelspec": {
      "name": "python3",
      "display_name": "Python 3"
    },
    "language_info": {
      "name": "python"
    }
  },
  "cells": [
    {
      "cell_type": "markdown",
      "metadata": {
        "id": "view-in-github",
        "colab_type": "text"
      },
      "source": [
        "<a href=\"https://colab.research.google.com/github/jarekwan/jarwan_projekt/blob/main/Projekt1.ipynb\" target=\"_parent\"><img src=\"https://colab.research.google.com/assets/colab-badge.svg\" alt=\"Open In Colab\"/></a>"
      ]
    },
    {
      "cell_type": "markdown",
      "source": [
        "BIBLIOTEKI I POBRANIE JSON Z RESTCOUNTRIES"
      ],
      "metadata": {
        "id": "StWZD9UQKlbU"
      }
    },
    {
      "cell_type": "code",
      "execution_count": 2,
      "metadata": {
        "colab": {
          "base_uri": "https://localhost:8080/"
        },
        "id": "Cyd9Pu_3ItFI",
        "outputId": "9434b9fc-42a8-495d-93b7-223e9d1d6b65"
      },
      "outputs": [
        {
          "output_type": "stream",
          "name": "stdout",
          "text": [
            "Status: 200\n",
            "170660\n",
            "[{\"flags\":{\"png\":\"https://flagcdn.com/w320/jm.png\",\"svg\":\"https://flagcdn.com/jm.svg\",\"alt\":\"The flag of Jamaica is divided by a gold diagonal cross into four alternating triangular areas of green at the top and bottom, and black on the hoist and fly sides\"},\"name\":{\"common\":\"Jamaica\",\"official\":\"Jamaica\",\"nativeName\":{\"eng\":{\"official\":\"Jamaica\",\"common\":\"Jamaica\"},\"jam\":{\"official\":\"Jamaica\",\"common\":\"Jamaica\"}}},\"currencies\":{\"JMD\":{\"name\":\"Jamaican dollar\",\"symbol\":\"$\"}},\"capital\":[\"Kingston\n",
            "True\n",
            "True\n"
          ]
        }
      ],
      "source": [
        "import requests      # biblioteka do pobierania danych z API\n",
        "import pandas as pd  # biblioteka do pracy z tabelami (DataFrame)\n",
        "import json\n",
        "from typing import List, Dict, Optional\n",
        "from pydantic import BaseModel, ValidationError  # Pydantic do walidacji danych\n",
        "# adres API RestCountries z wybranymi polami (max 10 na raz)\n",
        "url = \"https://restcountries.com/v3.1/all?fields=name,capital,region,subregion,population,area,currencies,languages,timezones,flags\"\n",
        "\n",
        "# pobranie danych z API\n",
        "resp = requests.get(url)\n",
        "\n",
        "\n",
        "#sprawdzanie surowego jsona\n",
        "# wypisanie statusu odpowiedzi (200 = OK)\n",
        "print(\"Status:\", resp.status_code)\n",
        "\n",
        "print(len(resp.text))#po nim wstawiam PYDANTIC\n",
        "print(resp.text[:500])\n",
        "\n",
        "# czy zaweira kluczowe frazy\n",
        "print(\"name\" in resp.text)\n",
        "print(\"population\" in resp.text)\n"
      ]
    },
    {
      "cell_type": "markdown",
      "source": [
        "SPRAWDZANIE CZY JSON POBRAL SIE PRAWIDLOWO"
      ],
      "metadata": {
        "id": "zijwlvtPMXqa"
      }
    },
    {
      "cell_type": "code",
      "source": [
        "if resp.status_code == 200:\n",
        "    # konwersja odpowiedzi JSON → Python (lista słowników)\n",
        "    data = resp.json()\n",
        "    print(type(data))\n",
        "    # sprawdź typ pierwszego elementu\n",
        "    print(type(data[0]))\n",
        "    # zamiana listy słowników na tabelę Pandas\n",
        "\n",
        "\n",
        "\n",
        "else:\n",
        "    # jeśli status ≠ 200, wyświetlamy komunikat błędu\n",
        "    print(\"Błąd:\", resp.text)"
      ],
      "metadata": {
        "id": "0FRA2o6pxeoS",
        "colab": {
          "base_uri": "https://localhost:8080/"
        },
        "outputId": "dcf1a06b-5e72-4318-8e88-cc8653e2ce4b"
      },
      "execution_count": 3,
      "outputs": [
        {
          "output_type": "stream",
          "name": "stdout",
          "text": [
            "<class 'list'>\n",
            "<class 'dict'>\n"
          ]
        }
      ]
    },
    {
      "cell_type": "markdown",
      "source": [
        "SPRAWDZENIE 1SZY ELEMNTOW POSZCZEGOLNYCH POL JAKIEGO SA TYPU"
      ],
      "metadata": {
        "id": "2nfxYiEEa3Jv"
      }
    },
    {
      "cell_type": "code",
      "source": [
        "print(type(data[0][\"name\"]))\n",
        "print(type(data[0][\"capital\"]))\n",
        "print(type(data[0][\"region\"]))\n",
        "print(type(data[0][\"subregion\"]))\n",
        "print(type(data[0][\"population\"]))\n",
        "print(type(data[0][\"area\"]))\n",
        "print(type(data[0][\"currencies\"]))\n",
        "print(type(data[0][\"languages\"]))\n",
        "print(type(data[0][\"timezones\"]))\n",
        "print(type(data[0][\"flags\"]))\n"
      ],
      "metadata": {
        "colab": {
          "base_uri": "https://localhost:8080/"
        },
        "id": "cSleZ4Y7a7Iv",
        "outputId": "437243fe-2e69-4246-9340-b7f2d346bdc8"
      },
      "execution_count": 4,
      "outputs": [
        {
          "output_type": "stream",
          "name": "stdout",
          "text": [
            "<class 'dict'>\n",
            "<class 'list'>\n",
            "<class 'str'>\n",
            "<class 'str'>\n",
            "<class 'int'>\n",
            "<class 'float'>\n",
            "<class 'dict'>\n",
            "<class 'dict'>\n",
            "<class 'list'>\n",
            "<class 'dict'>\n"
          ]
        }
      ]
    },
    {
      "cell_type": "markdown",
      "source": [
        "SPRAWDZENIE WEWNATRZ WSZYSTKICH ZAGNIEZDZEN ILE ICH JEST I JAKIEGO SA TYPU ZA POMACA REKURENCYJNEJ FUNKCJI"
      ],
      "metadata": {
        "id": "0sKEfLIlJpcg"
      }
    },
    {
      "cell_type": "code",
      "source": [
        "def describe(val):\n",
        "    # jeśli to słownik\n",
        "    if isinstance(val, dict):\n",
        "        return {k: describe(v) for k, v in val.items()}\n",
        "    # jeśli to lista\n",
        "    elif isinstance(val, list) and len(val) > 0:\n",
        "        return {\"list_of\": describe(val[0])}\n",
        "    # proste typy\n",
        "    else:\n",
        "        return type(val).__name__\n",
        "\n",
        "# użycie:\n",
        "sample = data[0]  # pierwszy rekord z JSON\n",
        "field_types = {k: describe(v) for k, v in sample.items()}\n",
        "\n",
        "print(field_types)"
      ],
      "metadata": {
        "colab": {
          "base_uri": "https://localhost:8080/"
        },
        "id": "F8uyWnMCCxXc",
        "outputId": "a6cbda58-39f6-4e7a-b7b9-3ad491589fd5"
      },
      "execution_count": 5,
      "outputs": [
        {
          "output_type": "stream",
          "name": "stdout",
          "text": [
            "{'flags': {'png': 'str', 'svg': 'str', 'alt': 'str'}, 'name': {'common': 'str', 'official': 'str', 'nativeName': {'eng': {'official': 'str', 'common': 'str'}, 'jam': {'official': 'str', 'common': 'str'}}}, 'currencies': {'JMD': {'name': 'str', 'symbol': 'str'}}, 'capital': {'list_of': 'str'}, 'region': 'str', 'subregion': 'str', 'languages': {'eng': 'str', 'jam': 'str'}, 'area': 'float', 'population': 'int', 'timezones': {'list_of': 'str'}}\n"
          ]
        }
      ]
    },
    {
      "cell_type": "markdown",
      "source": [
        "PRZEDSTAWIENIE STRURY I TYPY WEW. JSON PLIKU W SPOSOB UMOZLIWJACA NAOCZNA WERYFIKACJE"
      ],
      "metadata": {
        "id": "jnClSJjVJ5y-"
      }
    },
    {
      "cell_type": "code",
      "source": [
        "\n",
        "\n",
        "print(json.dumps(field_types, indent=2))\n"
      ],
      "metadata": {
        "colab": {
          "base_uri": "https://localhost:8080/"
        },
        "id": "xUu69mthHAK3",
        "outputId": "ef1d7492-4c31-4964-f124-ea4f6b32a471"
      },
      "execution_count": 6,
      "outputs": [
        {
          "output_type": "stream",
          "name": "stdout",
          "text": [
            "{\n",
            "  \"flags\": {\n",
            "    \"png\": \"str\",\n",
            "    \"svg\": \"str\",\n",
            "    \"alt\": \"str\"\n",
            "  },\n",
            "  \"name\": {\n",
            "    \"common\": \"str\",\n",
            "    \"official\": \"str\",\n",
            "    \"nativeName\": {\n",
            "      \"eng\": {\n",
            "        \"official\": \"str\",\n",
            "        \"common\": \"str\"\n",
            "      },\n",
            "      \"jam\": {\n",
            "        \"official\": \"str\",\n",
            "        \"common\": \"str\"\n",
            "      }\n",
            "    }\n",
            "  },\n",
            "  \"currencies\": {\n",
            "    \"JMD\": {\n",
            "      \"name\": \"str\",\n",
            "      \"symbol\": \"str\"\n",
            "    }\n",
            "  },\n",
            "  \"capital\": {\n",
            "    \"list_of\": \"str\"\n",
            "  },\n",
            "  \"region\": \"str\",\n",
            "  \"subregion\": \"str\",\n",
            "  \"languages\": {\n",
            "    \"eng\": \"str\",\n",
            "    \"jam\": \"str\"\n",
            "  },\n",
            "  \"area\": \"float\",\n",
            "  \"population\": \"int\",\n",
            "  \"timezones\": {\n",
            "    \"list_of\": \"str\"\n",
            "  }\n",
            "}\n"
          ]
        }
      ]
    },
    {
      "cell_type": "markdown",
      "source": [
        "WALIDACJA Z PYDANTIC (weryfikacja czy typy i klasy sa prawidlowe)"
      ],
      "metadata": {
        "id": "-FvS1j39jJkF"
      }
    },
    {
      "cell_type": "code",
      "source": [
        "\n",
        "from typing import List, Optional, Dict\n",
        "from pydantic import BaseModel, ValidationError\n",
        "\n",
        "class Flags(BaseModel):\n",
        "    png: str\n",
        "    svg: str\n",
        "    alt: str\n",
        "\n",
        "class NativeNameEntry(BaseModel):\n",
        "    official: str\n",
        "    common: str\n",
        "\n",
        "class Name(BaseModel):\n",
        "    common: str\n",
        "    official: str\n",
        "    nativeName: Optional[Dict[str, NativeNameEntry]]\n",
        "\n",
        "class Currency(BaseModel):\n",
        "    name: str\n",
        "    symbol: str\n",
        "\n",
        "\n",
        "\n",
        "class Country(BaseModel):\n",
        "    name: Name\n",
        "    flags: Flags\n",
        "    currencies: Optional[Dict[str, Currency]]  # This line uses Currency\n",
        "    capital: List[str]\n",
        "    region: str\n",
        "    subregion: Optional[str]\n",
        "    languages: Dict[str, str]\n",
        "    area: Optional[float]\n",
        "    population: int\n",
        "    timezones: List[str]\n",
        "\n",
        "\n",
        "# Usage:\n",
        "try:\n",
        "    countries = [Country(**item) for item in data]\n",
        "    print(f\"Validated {len(countries)} countries successfully\")\n",
        "except ValidationError as e:\n",
        "    print(f\"Validation error: {e}\")"
      ],
      "metadata": {
        "colab": {
          "base_uri": "https://localhost:8080/"
        },
        "id": "iwd2qYjFDLFd",
        "outputId": "06f572a4-03d7-4678-ed08-d826d1f488b1"
      },
      "execution_count": 8,
      "outputs": [
        {
          "output_type": "stream",
          "name": "stdout",
          "text": [
            "Validated 250 countries successfully\n"
          ]
        }
      ]
    },
    {
      "cell_type": "markdown",
      "source": [
        "SPRAWDZAM CZY W OPCJONALNYCH FIELDS SA JAKIEKOLWIEK BRAKI DANYCH"
      ],
      "metadata": {
        "id": "r-QexryonjA3"
      }
    },
    {
      "cell_type": "code",
      "source": [
        "# Get all optional fields from your model\n",
        "optional_fields = []\n",
        "for field_name, field_info in Country.model_fields.items():\n",
        "    if not field_info.is_required():\n",
        "        optional_fields.append(field_name)\n",
        "\n",
        "print(f\"Optional fields: {optional_fields}\")\n",
        "\n",
        "# Check which optional fields are missing in each country\n",
        "for i, item in enumerate(data):\n",
        "    missing_optional = []\n",
        "    for field in optional_fields:\n",
        "        if field not in item or item[field] is None:\n",
        "            missing_optional.append(field)\n",
        "\n",
        "    if missing_optional:\n",
        "        print(f\"Country {i}: Missing optional data: {missing_optional}\")\n"
      ],
      "metadata": {
        "id": "lPVYwPJmUdH8",
        "colab": {
          "base_uri": "https://localhost:8080/"
        },
        "outputId": "9e6f41b8-5ee4-4997-92c6-765a58bc202a"
      },
      "execution_count": 9,
      "outputs": [
        {
          "output_type": "stream",
          "name": "stdout",
          "text": [
            "Optional fields: []\n"
          ]
        }
      ]
    },
    {
      "cell_type": "code",
      "source": [
        "\n",
        "\n",
        "    # TU WSTAWIAM PYDANTIC\n",
        "    df = pd.json_normalize(data)\n",
        "    # liczba krajów w danych\n",
        "    print(\"Liczba krajów:\", len(df))\n",
        "    # podgląd pierwszych 5 wierszy\n",
        "    print(df.head())\n",
        "\n",
        "\n",
        "# df = pd.json_normalize(resp.json()) if resp.status_code == 200 else None\n",
        "# print(df.head() if df is not None else resp.text)"
      ],
      "metadata": {
        "colab": {
          "base_uri": "https://localhost:8080/"
        },
        "id": "72LBqHsJMF73",
        "outputId": "3a01dabe-69d4-4c85-c609-2970e5804ec3"
      },
      "execution_count": null,
      "outputs": [
        {
          "output_type": "stream",
          "name": "stdout",
          "text": [
            "Liczba krajów: 250\n",
            "         capital    region           subregion      area  population  \\\n",
            "0     [Kingston]  Americas           Caribbean   10991.0     2961161   \n",
            "1       [Moroni]    Africa      Eastern Africa    1862.0      869595   \n",
            "2       [Harare]    Africa     Southern Africa  390757.0    14862927   \n",
            "3  [Philipsburg]  Americas           Caribbean      34.0       40812   \n",
            "4    [Vientiane]      Asia  South-Eastern Asia  236800.0     7275556   \n",
            "\n",
            "     timezones                        flags.png                   flags.svg  \\\n",
            "0  [UTC-05:00]  https://flagcdn.com/w320/jm.png  https://flagcdn.com/jm.svg   \n",
            "1  [UTC+03:00]  https://flagcdn.com/w320/km.png  https://flagcdn.com/km.svg   \n",
            "2  [UTC+02:00]  https://flagcdn.com/w320/zw.png  https://flagcdn.com/zw.svg   \n",
            "3  [UTC-04:00]  https://flagcdn.com/w320/sx.png  https://flagcdn.com/sx.svg   \n",
            "4  [UTC+07:00]  https://flagcdn.com/w320/la.png  https://flagcdn.com/la.svg   \n",
            "\n",
            "                                           flags.alt   name.common  ...  \\\n",
            "0  The flag of Jamaica is divided by a gold diago...       Jamaica  ...   \n",
            "1  The flag of Comoros is composed of four equal ...       Comoros  ...   \n",
            "2  The flag of Zimbabwe is composed of seven equa...      Zimbabwe  ...   \n",
            "3                                                     Sint Maarten  ...   \n",
            "4  The flag of Laos is composed of three horizont...          Laos  ...   \n",
            "\n",
            "  name.nativeName.mfe.common currencies.MUR.name currencies.MUR.symbol  \\\n",
            "0                        NaN                 NaN                   NaN   \n",
            "1                        NaN                 NaN                   NaN   \n",
            "2                        NaN                 NaN                   NaN   \n",
            "3                        NaN                 NaN                   NaN   \n",
            "4                        NaN                 NaN                   NaN   \n",
            "\n",
            "  languages.mfe currencies.KYD.name currencies.KYD.symbol  \\\n",
            "0           NaN                 NaN                   NaN   \n",
            "1           NaN                 NaN                   NaN   \n",
            "2           NaN                 NaN                   NaN   \n",
            "3           NaN                 NaN                   NaN   \n",
            "4           NaN                 NaN                   NaN   \n",
            "\n",
            "  name.nativeName.bar.official name.nativeName.bar.common currencies.LRD.name  \\\n",
            "0                          NaN                        NaN                 NaN   \n",
            "1                          NaN                        NaN                 NaN   \n",
            "2                          NaN                        NaN                 NaN   \n",
            "3                          NaN                        NaN                 NaN   \n",
            "4                          NaN                        NaN                 NaN   \n",
            "\n",
            "  currencies.LRD.symbol  \n",
            "0                   NaN  \n",
            "1                   NaN  \n",
            "2                   NaN  \n",
            "3                   NaN  \n",
            "4                   NaN  \n",
            "\n",
            "[5 rows x 795 columns]\n"
          ]
        }
      ]
    },
    {
      "cell_type": "code",
      "source": [
        "# sprawdzamy kilka pierwszych rekordów\n",
        "for i, kraj in enumerate(data[:5]):\n",
        "    try:\n",
        "        # walidacja typów pól:\n",
        "        assert isinstance(kraj.get(\"name\"), dict)                  # nazwa kraju = słownik\n",
        "        assert isinstance(kraj.get(\"capital\"), list) or kraj.get(\"capital\") is None  # stolica = lista lub None\n",
        "        assert isinstance(kraj.get(\"population\"), int)             # populacja = int\n",
        "        assert isinstance(kraj.get(\"area\"), (int, float))          # powierzchnia = int/float\n",
        "        assert isinstance(kraj.get(\"currencies\"), dict) or kraj.get(\"currencies\") is None\n",
        "        assert isinstance(kraj.get(\"languages\"), dict) or kraj.get(\"languages\") is None\n",
        "        assert isinstance(kraj.get(\"region\"), str) or kraj.get(\"region\") is None      # region = string\n",
        "        assert isinstance(kraj.get(\"subregion\"), str) or kraj.get(\"subregion\") is None # subregion = string\n",
        "        assert isinstance(kraj.get(\"timezones\"), list) or kraj.get(\"timezones\") is None # strefy czasowe = lista\n",
        "        assert isinstance(kraj.get(\"flags\"), dict) or kraj.get(\"flags\") is None        # flaga = dict\n",
        "\n",
        "        print(f\"✔ Rekord {i} poprawny\")\n",
        "    except AssertionError:\n",
        "        print(f\"❌ Błąd w rekordzie {i}: {kraj}\")\n",
        "\n"
      ],
      "metadata": {
        "colab": {
          "base_uri": "https://localhost:8080/"
        },
        "id": "ZtfcWzTeyLGE",
        "outputId": "f3f49dcd-a409-4e39-dfd2-285b8b6dffc2"
      },
      "execution_count": null,
      "outputs": [
        {
          "output_type": "stream",
          "name": "stdout",
          "text": [
            "✔ Rekord 0 poprawny\n",
            "✔ Rekord 1 poprawny\n",
            "✔ Rekord 2 poprawny\n",
            "✔ Rekord 3 poprawny\n",
            "✔ Rekord 4 poprawny\n"
          ]
        }
      ]
    }
  ]
}